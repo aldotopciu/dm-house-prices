{
  "nbformat": 4,
  "nbformat_minor": 2,
  "metadata": {
    "kernelspec": {
      "name": "python3",
      "display_name": "Python 3.9.6 64-bit"
    },
    "language_info": {
      "name": "python",
      "version": "3.9.6",
      "mimetype": "text/x-python",
      "codemirror_mode": {
        "name": "ipython",
        "version": 3
      },
      "pygments_lexer": "ipython3",
      "nbconvert_exporter": "python",
      "file_extension": ".py"
    },
    "colab": {
      "name": "house-prices-regression.ipynb",
      "provenance": [],
      "collapsed_sections": []
    },
    "widgets": {
      "application/vnd.jupyter.widget-state+json": {
        "609b1f552df64c39a07c7fccb2a3cb8a": {
          "model_module": "@jupyter-widgets/controls",
          "model_name": "HBoxModel",
          "model_module_version": "1.5.0",
          "state": {
            "_view_name": "HBoxView",
            "_dom_classes": [],
            "_model_name": "HBoxModel",
            "_view_module": "@jupyter-widgets/controls",
            "_model_module_version": "1.5.0",
            "_view_count": null,
            "_view_module_version": "1.5.0",
            "box_style": "",
            "layout": "IPY_MODEL_f08aaa9358c04690807db7c9cad24035",
            "_model_module": "@jupyter-widgets/controls",
            "children": [
              "IPY_MODEL_300b3dea99d3453aa34e4f86b813014f",
              "IPY_MODEL_f633c6dc9e034afc94f56dbe45767657",
              "IPY_MODEL_52615a985fd8428d8eff9b8c6df6d7ca"
            ]
          }
        },
        "f08aaa9358c04690807db7c9cad24035": {
          "model_module": "@jupyter-widgets/base",
          "model_name": "LayoutModel",
          "model_module_version": "1.2.0",
          "state": {
            "_view_name": "LayoutView",
            "grid_template_rows": null,
            "right": null,
            "justify_content": null,
            "_view_module": "@jupyter-widgets/base",
            "overflow": null,
            "_model_module_version": "1.2.0",
            "_view_count": null,
            "flex_flow": null,
            "width": null,
            "min_width": null,
            "border": null,
            "align_items": null,
            "bottom": null,
            "_model_module": "@jupyter-widgets/base",
            "top": null,
            "grid_column": null,
            "overflow_y": null,
            "overflow_x": null,
            "grid_auto_flow": null,
            "grid_area": null,
            "grid_template_columns": null,
            "flex": null,
            "_model_name": "LayoutModel",
            "justify_items": null,
            "grid_row": null,
            "max_height": null,
            "align_content": null,
            "visibility": null,
            "align_self": null,
            "height": null,
            "min_height": null,
            "padding": null,
            "grid_auto_rows": null,
            "grid_gap": null,
            "max_width": null,
            "order": null,
            "_view_module_version": "1.2.0",
            "grid_template_areas": null,
            "object_position": null,
            "object_fit": null,
            "grid_auto_columns": null,
            "margin": null,
            "display": null,
            "left": null
          }
        },
        "300b3dea99d3453aa34e4f86b813014f": {
          "model_module": "@jupyter-widgets/controls",
          "model_name": "HTMLModel",
          "model_module_version": "1.5.0",
          "state": {
            "_view_name": "HTMLView",
            "style": "IPY_MODEL_df14e673bbfb4ff6a141ea927923bc3b",
            "_dom_classes": [],
            "description": "",
            "_model_name": "HTMLModel",
            "placeholder": "​",
            "_view_module": "@jupyter-widgets/controls",
            "_model_module_version": "1.5.0",
            "value": "Summarize dataset: 100%",
            "_view_count": null,
            "_view_module_version": "1.5.0",
            "description_tooltip": null,
            "_model_module": "@jupyter-widgets/controls",
            "layout": "IPY_MODEL_1d20e786a5be4b8a98a2b4d1113274f0"
          }
        },
        "f633c6dc9e034afc94f56dbe45767657": {
          "model_module": "@jupyter-widgets/controls",
          "model_name": "FloatProgressModel",
          "model_module_version": "1.5.0",
          "state": {
            "_view_name": "ProgressView",
            "style": "IPY_MODEL_f9d208e99f3d4f9cb6bd620c20ebed5e",
            "_dom_classes": [],
            "description": "",
            "_model_name": "FloatProgressModel",
            "bar_style": "success",
            "max": 94,
            "_view_module": "@jupyter-widgets/controls",
            "_model_module_version": "1.5.0",
            "value": 94,
            "_view_count": null,
            "_view_module_version": "1.5.0",
            "orientation": "horizontal",
            "min": 0,
            "description_tooltip": null,
            "_model_module": "@jupyter-widgets/controls",
            "layout": "IPY_MODEL_c723029aca9f45a69247183db7e34b02"
          }
        },
        "52615a985fd8428d8eff9b8c6df6d7ca": {
          "model_module": "@jupyter-widgets/controls",
          "model_name": "HTMLModel",
          "model_module_version": "1.5.0",
          "state": {
            "_view_name": "HTMLView",
            "style": "IPY_MODEL_547148c56f054f8aa6b862488aea7969",
            "_dom_classes": [],
            "description": "",
            "_model_name": "HTMLModel",
            "placeholder": "​",
            "_view_module": "@jupyter-widgets/controls",
            "_model_module_version": "1.5.0",
            "value": " 94/94 [03:08&lt;00:00, 12.14s/it, Completed]",
            "_view_count": null,
            "_view_module_version": "1.5.0",
            "description_tooltip": null,
            "_model_module": "@jupyter-widgets/controls",
            "layout": "IPY_MODEL_2ffa43886df1400d967d8a59a3390396"
          }
        },
        "df14e673bbfb4ff6a141ea927923bc3b": {
          "model_module": "@jupyter-widgets/controls",
          "model_name": "DescriptionStyleModel",
          "model_module_version": "1.5.0",
          "state": {
            "_view_name": "StyleView",
            "_model_name": "DescriptionStyleModel",
            "description_width": "",
            "_view_module": "@jupyter-widgets/base",
            "_model_module_version": "1.5.0",
            "_view_count": null,
            "_view_module_version": "1.2.0",
            "_model_module": "@jupyter-widgets/controls"
          }
        },
        "1d20e786a5be4b8a98a2b4d1113274f0": {
          "model_module": "@jupyter-widgets/base",
          "model_name": "LayoutModel",
          "model_module_version": "1.2.0",
          "state": {
            "_view_name": "LayoutView",
            "grid_template_rows": null,
            "right": null,
            "justify_content": null,
            "_view_module": "@jupyter-widgets/base",
            "overflow": null,
            "_model_module_version": "1.2.0",
            "_view_count": null,
            "flex_flow": null,
            "width": null,
            "min_width": null,
            "border": null,
            "align_items": null,
            "bottom": null,
            "_model_module": "@jupyter-widgets/base",
            "top": null,
            "grid_column": null,
            "overflow_y": null,
            "overflow_x": null,
            "grid_auto_flow": null,
            "grid_area": null,
            "grid_template_columns": null,
            "flex": null,
            "_model_name": "LayoutModel",
            "justify_items": null,
            "grid_row": null,
            "max_height": null,
            "align_content": null,
            "visibility": null,
            "align_self": null,
            "height": null,
            "min_height": null,
            "padding": null,
            "grid_auto_rows": null,
            "grid_gap": null,
            "max_width": null,
            "order": null,
            "_view_module_version": "1.2.0",
            "grid_template_areas": null,
            "object_position": null,
            "object_fit": null,
            "grid_auto_columns": null,
            "margin": null,
            "display": null,
            "left": null
          }
        },
        "f9d208e99f3d4f9cb6bd620c20ebed5e": {
          "model_module": "@jupyter-widgets/controls",
          "model_name": "ProgressStyleModel",
          "model_module_version": "1.5.0",
          "state": {
            "_view_name": "StyleView",
            "_model_name": "ProgressStyleModel",
            "description_width": "",
            "_view_module": "@jupyter-widgets/base",
            "_model_module_version": "1.5.0",
            "_view_count": null,
            "_view_module_version": "1.2.0",
            "bar_color": null,
            "_model_module": "@jupyter-widgets/controls"
          }
        },
        "c723029aca9f45a69247183db7e34b02": {
          "model_module": "@jupyter-widgets/base",
          "model_name": "LayoutModel",
          "model_module_version": "1.2.0",
          "state": {
            "_view_name": "LayoutView",
            "grid_template_rows": null,
            "right": null,
            "justify_content": null,
            "_view_module": "@jupyter-widgets/base",
            "overflow": null,
            "_model_module_version": "1.2.0",
            "_view_count": null,
            "flex_flow": null,
            "width": null,
            "min_width": null,
            "border": null,
            "align_items": null,
            "bottom": null,
            "_model_module": "@jupyter-widgets/base",
            "top": null,
            "grid_column": null,
            "overflow_y": null,
            "overflow_x": null,
            "grid_auto_flow": null,
            "grid_area": null,
            "grid_template_columns": null,
            "flex": null,
            "_model_name": "LayoutModel",
            "justify_items": null,
            "grid_row": null,
            "max_height": null,
            "align_content": null,
            "visibility": null,
            "align_self": null,
            "height": null,
            "min_height": null,
            "padding": null,
            "grid_auto_rows": null,
            "grid_gap": null,
            "max_width": null,
            "order": null,
            "_view_module_version": "1.2.0",
            "grid_template_areas": null,
            "object_position": null,
            "object_fit": null,
            "grid_auto_columns": null,
            "margin": null,
            "display": null,
            "left": null
          }
        },
        "547148c56f054f8aa6b862488aea7969": {
          "model_module": "@jupyter-widgets/controls",
          "model_name": "DescriptionStyleModel",
          "model_module_version": "1.5.0",
          "state": {
            "_view_name": "StyleView",
            "_model_name": "DescriptionStyleModel",
            "description_width": "",
            "_view_module": "@jupyter-widgets/base",
            "_model_module_version": "1.5.0",
            "_view_count": null,
            "_view_module_version": "1.2.0",
            "_model_module": "@jupyter-widgets/controls"
          }
        },
        "2ffa43886df1400d967d8a59a3390396": {
          "model_module": "@jupyter-widgets/base",
          "model_name": "LayoutModel",
          "model_module_version": "1.2.0",
          "state": {
            "_view_name": "LayoutView",
            "grid_template_rows": null,
            "right": null,
            "justify_content": null,
            "_view_module": "@jupyter-widgets/base",
            "overflow": null,
            "_model_module_version": "1.2.0",
            "_view_count": null,
            "flex_flow": null,
            "width": null,
            "min_width": null,
            "border": null,
            "align_items": null,
            "bottom": null,
            "_model_module": "@jupyter-widgets/base",
            "top": null,
            "grid_column": null,
            "overflow_y": null,
            "overflow_x": null,
            "grid_auto_flow": null,
            "grid_area": null,
            "grid_template_columns": null,
            "flex": null,
            "_model_name": "LayoutModel",
            "justify_items": null,
            "grid_row": null,
            "max_height": null,
            "align_content": null,
            "visibility": null,
            "align_self": null,
            "height": null,
            "min_height": null,
            "padding": null,
            "grid_auto_rows": null,
            "grid_gap": null,
            "max_width": null,
            "order": null,
            "_view_module_version": "1.2.0",
            "grid_template_areas": null,
            "object_position": null,
            "object_fit": null,
            "grid_auto_columns": null,
            "margin": null,
            "display": null,
            "left": null
          }
        },
        "f9d49c48a69b498a8faa18eafd351907": {
          "model_module": "@jupyter-widgets/controls",
          "model_name": "HBoxModel",
          "model_module_version": "1.5.0",
          "state": {
            "_view_name": "HBoxView",
            "_dom_classes": [],
            "_model_name": "HBoxModel",
            "_view_module": "@jupyter-widgets/controls",
            "_model_module_version": "1.5.0",
            "_view_count": null,
            "_view_module_version": "1.5.0",
            "box_style": "",
            "layout": "IPY_MODEL_4865cb995702430aae7338f2195725e9",
            "_model_module": "@jupyter-widgets/controls",
            "children": [
              "IPY_MODEL_cdd501c8bc3d4bf18cfe14ecfa1d5b62",
              "IPY_MODEL_0a0103111ba34e31bb906cf377ccefed",
              "IPY_MODEL_ad9a55f22db9421d81e8960e92b65dd6"
            ]
          }
        },
        "4865cb995702430aae7338f2195725e9": {
          "model_module": "@jupyter-widgets/base",
          "model_name": "LayoutModel",
          "model_module_version": "1.2.0",
          "state": {
            "_view_name": "LayoutView",
            "grid_template_rows": null,
            "right": null,
            "justify_content": null,
            "_view_module": "@jupyter-widgets/base",
            "overflow": null,
            "_model_module_version": "1.2.0",
            "_view_count": null,
            "flex_flow": null,
            "width": null,
            "min_width": null,
            "border": null,
            "align_items": null,
            "bottom": null,
            "_model_module": "@jupyter-widgets/base",
            "top": null,
            "grid_column": null,
            "overflow_y": null,
            "overflow_x": null,
            "grid_auto_flow": null,
            "grid_area": null,
            "grid_template_columns": null,
            "flex": null,
            "_model_name": "LayoutModel",
            "justify_items": null,
            "grid_row": null,
            "max_height": null,
            "align_content": null,
            "visibility": null,
            "align_self": null,
            "height": null,
            "min_height": null,
            "padding": null,
            "grid_auto_rows": null,
            "grid_gap": null,
            "max_width": null,
            "order": null,
            "_view_module_version": "1.2.0",
            "grid_template_areas": null,
            "object_position": null,
            "object_fit": null,
            "grid_auto_columns": null,
            "margin": null,
            "display": null,
            "left": null
          }
        },
        "cdd501c8bc3d4bf18cfe14ecfa1d5b62": {
          "model_module": "@jupyter-widgets/controls",
          "model_name": "HTMLModel",
          "model_module_version": "1.5.0",
          "state": {
            "_view_name": "HTMLView",
            "style": "IPY_MODEL_1d7cddee3f1c434781b27a1d48a4197e",
            "_dom_classes": [],
            "description": "",
            "_model_name": "HTMLModel",
            "placeholder": "​",
            "_view_module": "@jupyter-widgets/controls",
            "_model_module_version": "1.5.0",
            "value": "Generate report structure: 100%",
            "_view_count": null,
            "_view_module_version": "1.5.0",
            "description_tooltip": null,
            "_model_module": "@jupyter-widgets/controls",
            "layout": "IPY_MODEL_ef9e2c4784e740fd8fd89f32a6a1056b"
          }
        },
        "0a0103111ba34e31bb906cf377ccefed": {
          "model_module": "@jupyter-widgets/controls",
          "model_name": "FloatProgressModel",
          "model_module_version": "1.5.0",
          "state": {
            "_view_name": "ProgressView",
            "style": "IPY_MODEL_a57874ff79284eeaaad3222488f53f2e",
            "_dom_classes": [],
            "description": "",
            "_model_name": "FloatProgressModel",
            "bar_style": "success",
            "max": 1,
            "_view_module": "@jupyter-widgets/controls",
            "_model_module_version": "1.5.0",
            "value": 1,
            "_view_count": null,
            "_view_module_version": "1.5.0",
            "orientation": "horizontal",
            "min": 0,
            "description_tooltip": null,
            "_model_module": "@jupyter-widgets/controls",
            "layout": "IPY_MODEL_388ecd89a2bd43c3a4b18e58d6b7ed22"
          }
        },
        "ad9a55f22db9421d81e8960e92b65dd6": {
          "model_module": "@jupyter-widgets/controls",
          "model_name": "HTMLModel",
          "model_module_version": "1.5.0",
          "state": {
            "_view_name": "HTMLView",
            "style": "IPY_MODEL_13193ed5debd49d3827175d3b2317c6c",
            "_dom_classes": [],
            "description": "",
            "_model_name": "HTMLModel",
            "placeholder": "​",
            "_view_module": "@jupyter-widgets/controls",
            "_model_module_version": "1.5.0",
            "value": " 1/1 [00:42&lt;00:00, 42.90s/it]",
            "_view_count": null,
            "_view_module_version": "1.5.0",
            "description_tooltip": null,
            "_model_module": "@jupyter-widgets/controls",
            "layout": "IPY_MODEL_083162635a8842a2a67c9b5fba6eff7d"
          }
        },
        "1d7cddee3f1c434781b27a1d48a4197e": {
          "model_module": "@jupyter-widgets/controls",
          "model_name": "DescriptionStyleModel",
          "model_module_version": "1.5.0",
          "state": {
            "_view_name": "StyleView",
            "_model_name": "DescriptionStyleModel",
            "description_width": "",
            "_view_module": "@jupyter-widgets/base",
            "_model_module_version": "1.5.0",
            "_view_count": null,
            "_view_module_version": "1.2.0",
            "_model_module": "@jupyter-widgets/controls"
          }
        },
        "ef9e2c4784e740fd8fd89f32a6a1056b": {
          "model_module": "@jupyter-widgets/base",
          "model_name": "LayoutModel",
          "model_module_version": "1.2.0",
          "state": {
            "_view_name": "LayoutView",
            "grid_template_rows": null,
            "right": null,
            "justify_content": null,
            "_view_module": "@jupyter-widgets/base",
            "overflow": null,
            "_model_module_version": "1.2.0",
            "_view_count": null,
            "flex_flow": null,
            "width": null,
            "min_width": null,
            "border": null,
            "align_items": null,
            "bottom": null,
            "_model_module": "@jupyter-widgets/base",
            "top": null,
            "grid_column": null,
            "overflow_y": null,
            "overflow_x": null,
            "grid_auto_flow": null,
            "grid_area": null,
            "grid_template_columns": null,
            "flex": null,
            "_model_name": "LayoutModel",
            "justify_items": null,
            "grid_row": null,
            "max_height": null,
            "align_content": null,
            "visibility": null,
            "align_self": null,
            "height": null,
            "min_height": null,
            "padding": null,
            "grid_auto_rows": null,
            "grid_gap": null,
            "max_width": null,
            "order": null,
            "_view_module_version": "1.2.0",
            "grid_template_areas": null,
            "object_position": null,
            "object_fit": null,
            "grid_auto_columns": null,
            "margin": null,
            "display": null,
            "left": null
          }
        },
        "a57874ff79284eeaaad3222488f53f2e": {
          "model_module": "@jupyter-widgets/controls",
          "model_name": "ProgressStyleModel",
          "model_module_version": "1.5.0",
          "state": {
            "_view_name": "StyleView",
            "_model_name": "ProgressStyleModel",
            "description_width": "",
            "_view_module": "@jupyter-widgets/base",
            "_model_module_version": "1.5.0",
            "_view_count": null,
            "_view_module_version": "1.2.0",
            "bar_color": null,
            "_model_module": "@jupyter-widgets/controls"
          }
        },
        "388ecd89a2bd43c3a4b18e58d6b7ed22": {
          "model_module": "@jupyter-widgets/base",
          "model_name": "LayoutModel",
          "model_module_version": "1.2.0",
          "state": {
            "_view_name": "LayoutView",
            "grid_template_rows": null,
            "right": null,
            "justify_content": null,
            "_view_module": "@jupyter-widgets/base",
            "overflow": null,
            "_model_module_version": "1.2.0",
            "_view_count": null,
            "flex_flow": null,
            "width": null,
            "min_width": null,
            "border": null,
            "align_items": null,
            "bottom": null,
            "_model_module": "@jupyter-widgets/base",
            "top": null,
            "grid_column": null,
            "overflow_y": null,
            "overflow_x": null,
            "grid_auto_flow": null,
            "grid_area": null,
            "grid_template_columns": null,
            "flex": null,
            "_model_name": "LayoutModel",
            "justify_items": null,
            "grid_row": null,
            "max_height": null,
            "align_content": null,
            "visibility": null,
            "align_self": null,
            "height": null,
            "min_height": null,
            "padding": null,
            "grid_auto_rows": null,
            "grid_gap": null,
            "max_width": null,
            "order": null,
            "_view_module_version": "1.2.0",
            "grid_template_areas": null,
            "object_position": null,
            "object_fit": null,
            "grid_auto_columns": null,
            "margin": null,
            "display": null,
            "left": null
          }
        },
        "13193ed5debd49d3827175d3b2317c6c": {
          "model_module": "@jupyter-widgets/controls",
          "model_name": "DescriptionStyleModel",
          "model_module_version": "1.5.0",
          "state": {
            "_view_name": "StyleView",
            "_model_name": "DescriptionStyleModel",
            "description_width": "",
            "_view_module": "@jupyter-widgets/base",
            "_model_module_version": "1.5.0",
            "_view_count": null,
            "_view_module_version": "1.2.0",
            "_model_module": "@jupyter-widgets/controls"
          }
        },
        "083162635a8842a2a67c9b5fba6eff7d": {
          "model_module": "@jupyter-widgets/base",
          "model_name": "LayoutModel",
          "model_module_version": "1.2.0",
          "state": {
            "_view_name": "LayoutView",
            "grid_template_rows": null,
            "right": null,
            "justify_content": null,
            "_view_module": "@jupyter-widgets/base",
            "overflow": null,
            "_model_module_version": "1.2.0",
            "_view_count": null,
            "flex_flow": null,
            "width": null,
            "min_width": null,
            "border": null,
            "align_items": null,
            "bottom": null,
            "_model_module": "@jupyter-widgets/base",
            "top": null,
            "grid_column": null,
            "overflow_y": null,
            "overflow_x": null,
            "grid_auto_flow": null,
            "grid_area": null,
            "grid_template_columns": null,
            "flex": null,
            "_model_name": "LayoutModel",
            "justify_items": null,
            "grid_row": null,
            "max_height": null,
            "align_content": null,
            "visibility": null,
            "align_self": null,
            "height": null,
            "min_height": null,
            "padding": null,
            "grid_auto_rows": null,
            "grid_gap": null,
            "max_width": null,
            "order": null,
            "_view_module_version": "1.2.0",
            "grid_template_areas": null,
            "object_position": null,
            "object_fit": null,
            "grid_auto_columns": null,
            "margin": null,
            "display": null,
            "left": null
          }
        },
        "5d327ccb516b4c24b973de9acf63fef4": {
          "model_module": "@jupyter-widgets/controls",
          "model_name": "HBoxModel",
          "model_module_version": "1.5.0",
          "state": {
            "_view_name": "HBoxView",
            "_dom_classes": [],
            "_model_name": "HBoxModel",
            "_view_module": "@jupyter-widgets/controls",
            "_model_module_version": "1.5.0",
            "_view_count": null,
            "_view_module_version": "1.5.0",
            "box_style": "",
            "layout": "IPY_MODEL_2f3967d9987846a3ab753af17d175c31",
            "_model_module": "@jupyter-widgets/controls",
            "children": [
              "IPY_MODEL_8f36753a4abc4c73b990c3092ed9f289",
              "IPY_MODEL_8800b20e29f44d7a9821290bbf781c8c",
              "IPY_MODEL_56b387d44a1f46e7923f331ec48fbaed"
            ]
          }
        },
        "2f3967d9987846a3ab753af17d175c31": {
          "model_module": "@jupyter-widgets/base",
          "model_name": "LayoutModel",
          "model_module_version": "1.2.0",
          "state": {
            "_view_name": "LayoutView",
            "grid_template_rows": null,
            "right": null,
            "justify_content": null,
            "_view_module": "@jupyter-widgets/base",
            "overflow": null,
            "_model_module_version": "1.2.0",
            "_view_count": null,
            "flex_flow": null,
            "width": null,
            "min_width": null,
            "border": null,
            "align_items": null,
            "bottom": null,
            "_model_module": "@jupyter-widgets/base",
            "top": null,
            "grid_column": null,
            "overflow_y": null,
            "overflow_x": null,
            "grid_auto_flow": null,
            "grid_area": null,
            "grid_template_columns": null,
            "flex": null,
            "_model_name": "LayoutModel",
            "justify_items": null,
            "grid_row": null,
            "max_height": null,
            "align_content": null,
            "visibility": null,
            "align_self": null,
            "height": null,
            "min_height": null,
            "padding": null,
            "grid_auto_rows": null,
            "grid_gap": null,
            "max_width": null,
            "order": null,
            "_view_module_version": "1.2.0",
            "grid_template_areas": null,
            "object_position": null,
            "object_fit": null,
            "grid_auto_columns": null,
            "margin": null,
            "display": null,
            "left": null
          }
        },
        "8f36753a4abc4c73b990c3092ed9f289": {
          "model_module": "@jupyter-widgets/controls",
          "model_name": "HTMLModel",
          "model_module_version": "1.5.0",
          "state": {
            "_view_name": "HTMLView",
            "style": "IPY_MODEL_5c89151889f04855a5aa5851c123c713",
            "_dom_classes": [],
            "description": "",
            "_model_name": "HTMLModel",
            "placeholder": "​",
            "_view_module": "@jupyter-widgets/controls",
            "_model_module_version": "1.5.0",
            "value": "Render HTML: 100%",
            "_view_count": null,
            "_view_module_version": "1.5.0",
            "description_tooltip": null,
            "_model_module": "@jupyter-widgets/controls",
            "layout": "IPY_MODEL_898ede828f6548b79666915a3dbd72b9"
          }
        },
        "8800b20e29f44d7a9821290bbf781c8c": {
          "model_module": "@jupyter-widgets/controls",
          "model_name": "FloatProgressModel",
          "model_module_version": "1.5.0",
          "state": {
            "_view_name": "ProgressView",
            "style": "IPY_MODEL_245e9138fc454dbcb263f0acedf3ef53",
            "_dom_classes": [],
            "description": "",
            "_model_name": "FloatProgressModel",
            "bar_style": "success",
            "max": 1,
            "_view_module": "@jupyter-widgets/controls",
            "_model_module_version": "1.5.0",
            "value": 1,
            "_view_count": null,
            "_view_module_version": "1.5.0",
            "orientation": "horizontal",
            "min": 0,
            "description_tooltip": null,
            "_model_module": "@jupyter-widgets/controls",
            "layout": "IPY_MODEL_a7e25233e84e446c9d1f962a9e0917b5"
          }
        },
        "56b387d44a1f46e7923f331ec48fbaed": {
          "model_module": "@jupyter-widgets/controls",
          "model_name": "HTMLModel",
          "model_module_version": "1.5.0",
          "state": {
            "_view_name": "HTMLView",
            "style": "IPY_MODEL_f8c0f726705047bcbd285fa0b6dcd35c",
            "_dom_classes": [],
            "description": "",
            "_model_name": "HTMLModel",
            "placeholder": "​",
            "_view_module": "@jupyter-widgets/controls",
            "_model_module_version": "1.5.0",
            "value": " 1/1 [00:33&lt;00:00, 33.05s/it]",
            "_view_count": null,
            "_view_module_version": "1.5.0",
            "description_tooltip": null,
            "_model_module": "@jupyter-widgets/controls",
            "layout": "IPY_MODEL_8dc2e3085a8a46ad9ec8cc8d50074da7"
          }
        },
        "5c89151889f04855a5aa5851c123c713": {
          "model_module": "@jupyter-widgets/controls",
          "model_name": "DescriptionStyleModel",
          "model_module_version": "1.5.0",
          "state": {
            "_view_name": "StyleView",
            "_model_name": "DescriptionStyleModel",
            "description_width": "",
            "_view_module": "@jupyter-widgets/base",
            "_model_module_version": "1.5.0",
            "_view_count": null,
            "_view_module_version": "1.2.0",
            "_model_module": "@jupyter-widgets/controls"
          }
        },
        "898ede828f6548b79666915a3dbd72b9": {
          "model_module": "@jupyter-widgets/base",
          "model_name": "LayoutModel",
          "model_module_version": "1.2.0",
          "state": {
            "_view_name": "LayoutView",
            "grid_template_rows": null,
            "right": null,
            "justify_content": null,
            "_view_module": "@jupyter-widgets/base",
            "overflow": null,
            "_model_module_version": "1.2.0",
            "_view_count": null,
            "flex_flow": null,
            "width": null,
            "min_width": null,
            "border": null,
            "align_items": null,
            "bottom": null,
            "_model_module": "@jupyter-widgets/base",
            "top": null,
            "grid_column": null,
            "overflow_y": null,
            "overflow_x": null,
            "grid_auto_flow": null,
            "grid_area": null,
            "grid_template_columns": null,
            "flex": null,
            "_model_name": "LayoutModel",
            "justify_items": null,
            "grid_row": null,
            "max_height": null,
            "align_content": null,
            "visibility": null,
            "align_self": null,
            "height": null,
            "min_height": null,
            "padding": null,
            "grid_auto_rows": null,
            "grid_gap": null,
            "max_width": null,
            "order": null,
            "_view_module_version": "1.2.0",
            "grid_template_areas": null,
            "object_position": null,
            "object_fit": null,
            "grid_auto_columns": null,
            "margin": null,
            "display": null,
            "left": null
          }
        },
        "245e9138fc454dbcb263f0acedf3ef53": {
          "model_module": "@jupyter-widgets/controls",
          "model_name": "ProgressStyleModel",
          "model_module_version": "1.5.0",
          "state": {
            "_view_name": "StyleView",
            "_model_name": "ProgressStyleModel",
            "description_width": "",
            "_view_module": "@jupyter-widgets/base",
            "_model_module_version": "1.5.0",
            "_view_count": null,
            "_view_module_version": "1.2.0",
            "bar_color": null,
            "_model_module": "@jupyter-widgets/controls"
          }
        },
        "a7e25233e84e446c9d1f962a9e0917b5": {
          "model_module": "@jupyter-widgets/base",
          "model_name": "LayoutModel",
          "model_module_version": "1.2.0",
          "state": {
            "_view_name": "LayoutView",
            "grid_template_rows": null,
            "right": null,
            "justify_content": null,
            "_view_module": "@jupyter-widgets/base",
            "overflow": null,
            "_model_module_version": "1.2.0",
            "_view_count": null,
            "flex_flow": null,
            "width": null,
            "min_width": null,
            "border": null,
            "align_items": null,
            "bottom": null,
            "_model_module": "@jupyter-widgets/base",
            "top": null,
            "grid_column": null,
            "overflow_y": null,
            "overflow_x": null,
            "grid_auto_flow": null,
            "grid_area": null,
            "grid_template_columns": null,
            "flex": null,
            "_model_name": "LayoutModel",
            "justify_items": null,
            "grid_row": null,
            "max_height": null,
            "align_content": null,
            "visibility": null,
            "align_self": null,
            "height": null,
            "min_height": null,
            "padding": null,
            "grid_auto_rows": null,
            "grid_gap": null,
            "max_width": null,
            "order": null,
            "_view_module_version": "1.2.0",
            "grid_template_areas": null,
            "object_position": null,
            "object_fit": null,
            "grid_auto_columns": null,
            "margin": null,
            "display": null,
            "left": null
          }
        },
        "f8c0f726705047bcbd285fa0b6dcd35c": {
          "model_module": "@jupyter-widgets/controls",
          "model_name": "DescriptionStyleModel",
          "model_module_version": "1.5.0",
          "state": {
            "_view_name": "StyleView",
            "_model_name": "DescriptionStyleModel",
            "description_width": "",
            "_view_module": "@jupyter-widgets/base",
            "_model_module_version": "1.5.0",
            "_view_count": null,
            "_view_module_version": "1.2.0",
            "_model_module": "@jupyter-widgets/controls"
          }
        },
        "8dc2e3085a8a46ad9ec8cc8d50074da7": {
          "model_module": "@jupyter-widgets/base",
          "model_name": "LayoutModel",
          "model_module_version": "1.2.0",
          "state": {
            "_view_name": "LayoutView",
            "grid_template_rows": null,
            "right": null,
            "justify_content": null,
            "_view_module": "@jupyter-widgets/base",
            "overflow": null,
            "_model_module_version": "1.2.0",
            "_view_count": null,
            "flex_flow": null,
            "width": null,
            "min_width": null,
            "border": null,
            "align_items": null,
            "bottom": null,
            "_model_module": "@jupyter-widgets/base",
            "top": null,
            "grid_column": null,
            "overflow_y": null,
            "overflow_x": null,
            "grid_auto_flow": null,
            "grid_area": null,
            "grid_template_columns": null,
            "flex": null,
            "_model_name": "LayoutModel",
            "justify_items": null,
            "grid_row": null,
            "max_height": null,
            "align_content": null,
            "visibility": null,
            "align_self": null,
            "height": null,
            "min_height": null,
            "padding": null,
            "grid_auto_rows": null,
            "grid_gap": null,
            "max_width": null,
            "order": null,
            "_view_module_version": "1.2.0",
            "grid_template_areas": null,
            "object_position": null,
            "object_fit": null,
            "grid_auto_columns": null,
            "margin": null,
            "display": null,
            "left": null
          }
        }
      }
    },
    "interpreter": {
      "hash": "aee8b7b246df8f9039afb4144a1f6fd8d2ca17a180786b69acc140d282b71a49"
    }
  },
  "cells": [
    {
      "cell_type": "markdown",
      "source": [
        "# **House price prediction with PyCaret Library**"
      ],
      "metadata": {
        "id": "AMrM3TpdNEkn"
      }
    },
    {
      "cell_type": "markdown",
      "source": [
        "# 1. Installation\n",
        "\n",
        "Install Pycaret and Pandas Libraries"
      ],
      "metadata": {
        "id": "Ow4VeFYl68OE"
      }
    },
    {
      "cell_type": "code",
      "execution_count": 233,
      "source": [
        "#!pip install pycaret\n",
        "#!pip install pandas"
      ],
      "outputs": [],
      "metadata": {
        "_cell_guid": "b1076dfc-b9ad-4769-8c92-a6c4dae69d19",
        "_uuid": "8f2839f25d086af736a60e9eeb907d3b93b6e0e5",
        "id": "WqiGs2vj68OF",
        "colab": {
          "base_uri": "https://localhost:8080/"
        },
        "outputId": "4bb56c70-769f-48b2-b539-7e590f6d24dc"
      }
    },
    {
      "cell_type": "markdown",
      "source": [
        "# 2. Import libraries"
      ],
      "metadata": {
        "id": "O8eJ4Cg-RNbw"
      }
    },
    {
      "cell_type": "code",
      "execution_count": 234,
      "source": [
        "from pycaret.clustering import *\n",
        "import pandas as pd\n",
        "import matplotlib.pyplot as plt\n",
        "import seaborn as sns"
      ],
      "outputs": [],
      "metadata": {
        "_cell_guid": "79c7e3d0-c299-4dcb-8224-4455121ee9b0",
        "_uuid": "d629ff2d2480ee46fbb7e2d37f6b5fab8052498a",
        "id": "9KAIywYX68OG"
      }
    },
    {
      "cell_type": "markdown",
      "source": [
        "# 3. Read train csv file"
      ],
      "metadata": {
        "id": "C0miw5A9Mzaq"
      }
    },
    {
      "cell_type": "code",
      "execution_count": 235,
      "source": [
        "data = pd.read_csv('../data/train.csv')\n",
        "data.head()"
      ],
      "outputs": [
        {
          "output_type": "execute_result",
          "data": {
            "text/html": [
              "<div>\n",
              "<style scoped>\n",
              "    .dataframe tbody tr th:only-of-type {\n",
              "        vertical-align: middle;\n",
              "    }\n",
              "\n",
              "    .dataframe tbody tr th {\n",
              "        vertical-align: top;\n",
              "    }\n",
              "\n",
              "    .dataframe thead th {\n",
              "        text-align: right;\n",
              "    }\n",
              "</style>\n",
              "<table border=\"1\" class=\"dataframe\">\n",
              "  <thead>\n",
              "    <tr style=\"text-align: right;\">\n",
              "      <th></th>\n",
              "      <th>Id</th>\n",
              "      <th>MSSubClass</th>\n",
              "      <th>MSZoning</th>\n",
              "      <th>LotFrontage</th>\n",
              "      <th>LotArea</th>\n",
              "      <th>Street</th>\n",
              "      <th>Alley</th>\n",
              "      <th>LotShape</th>\n",
              "      <th>LandContour</th>\n",
              "      <th>Utilities</th>\n",
              "      <th>...</th>\n",
              "      <th>PoolArea</th>\n",
              "      <th>PoolQC</th>\n",
              "      <th>Fence</th>\n",
              "      <th>MiscFeature</th>\n",
              "      <th>MiscVal</th>\n",
              "      <th>MoSold</th>\n",
              "      <th>YrSold</th>\n",
              "      <th>SaleType</th>\n",
              "      <th>SaleCondition</th>\n",
              "      <th>SalePrice</th>\n",
              "    </tr>\n",
              "  </thead>\n",
              "  <tbody>\n",
              "    <tr>\n",
              "      <th>0</th>\n",
              "      <td>1</td>\n",
              "      <td>60</td>\n",
              "      <td>RL</td>\n",
              "      <td>65.0</td>\n",
              "      <td>8450</td>\n",
              "      <td>Pave</td>\n",
              "      <td>NaN</td>\n",
              "      <td>Reg</td>\n",
              "      <td>Lvl</td>\n",
              "      <td>AllPub</td>\n",
              "      <td>...</td>\n",
              "      <td>0</td>\n",
              "      <td>NaN</td>\n",
              "      <td>NaN</td>\n",
              "      <td>NaN</td>\n",
              "      <td>0</td>\n",
              "      <td>2</td>\n",
              "      <td>2008</td>\n",
              "      <td>WD</td>\n",
              "      <td>Normal</td>\n",
              "      <td>208500</td>\n",
              "    </tr>\n",
              "    <tr>\n",
              "      <th>1</th>\n",
              "      <td>2</td>\n",
              "      <td>20</td>\n",
              "      <td>RL</td>\n",
              "      <td>80.0</td>\n",
              "      <td>9600</td>\n",
              "      <td>Pave</td>\n",
              "      <td>NaN</td>\n",
              "      <td>Reg</td>\n",
              "      <td>Lvl</td>\n",
              "      <td>AllPub</td>\n",
              "      <td>...</td>\n",
              "      <td>0</td>\n",
              "      <td>NaN</td>\n",
              "      <td>NaN</td>\n",
              "      <td>NaN</td>\n",
              "      <td>0</td>\n",
              "      <td>5</td>\n",
              "      <td>2007</td>\n",
              "      <td>WD</td>\n",
              "      <td>Normal</td>\n",
              "      <td>181500</td>\n",
              "    </tr>\n",
              "    <tr>\n",
              "      <th>2</th>\n",
              "      <td>3</td>\n",
              "      <td>60</td>\n",
              "      <td>RL</td>\n",
              "      <td>68.0</td>\n",
              "      <td>11250</td>\n",
              "      <td>Pave</td>\n",
              "      <td>NaN</td>\n",
              "      <td>IR1</td>\n",
              "      <td>Lvl</td>\n",
              "      <td>AllPub</td>\n",
              "      <td>...</td>\n",
              "      <td>0</td>\n",
              "      <td>NaN</td>\n",
              "      <td>NaN</td>\n",
              "      <td>NaN</td>\n",
              "      <td>0</td>\n",
              "      <td>9</td>\n",
              "      <td>2008</td>\n",
              "      <td>WD</td>\n",
              "      <td>Normal</td>\n",
              "      <td>223500</td>\n",
              "    </tr>\n",
              "    <tr>\n",
              "      <th>3</th>\n",
              "      <td>4</td>\n",
              "      <td>70</td>\n",
              "      <td>RL</td>\n",
              "      <td>60.0</td>\n",
              "      <td>9550</td>\n",
              "      <td>Pave</td>\n",
              "      <td>NaN</td>\n",
              "      <td>IR1</td>\n",
              "      <td>Lvl</td>\n",
              "      <td>AllPub</td>\n",
              "      <td>...</td>\n",
              "      <td>0</td>\n",
              "      <td>NaN</td>\n",
              "      <td>NaN</td>\n",
              "      <td>NaN</td>\n",
              "      <td>0</td>\n",
              "      <td>2</td>\n",
              "      <td>2006</td>\n",
              "      <td>WD</td>\n",
              "      <td>Abnorml</td>\n",
              "      <td>140000</td>\n",
              "    </tr>\n",
              "    <tr>\n",
              "      <th>4</th>\n",
              "      <td>5</td>\n",
              "      <td>60</td>\n",
              "      <td>RL</td>\n",
              "      <td>84.0</td>\n",
              "      <td>14260</td>\n",
              "      <td>Pave</td>\n",
              "      <td>NaN</td>\n",
              "      <td>IR1</td>\n",
              "      <td>Lvl</td>\n",
              "      <td>AllPub</td>\n",
              "      <td>...</td>\n",
              "      <td>0</td>\n",
              "      <td>NaN</td>\n",
              "      <td>NaN</td>\n",
              "      <td>NaN</td>\n",
              "      <td>0</td>\n",
              "      <td>12</td>\n",
              "      <td>2008</td>\n",
              "      <td>WD</td>\n",
              "      <td>Normal</td>\n",
              "      <td>250000</td>\n",
              "    </tr>\n",
              "  </tbody>\n",
              "</table>\n",
              "<p>5 rows × 81 columns</p>\n",
              "</div>"
            ],
            "text/plain": [
              "   Id  MSSubClass MSZoning  LotFrontage  LotArea Street Alley LotShape  \\\n",
              "0   1          60       RL         65.0     8450   Pave   NaN      Reg   \n",
              "1   2          20       RL         80.0     9600   Pave   NaN      Reg   \n",
              "2   3          60       RL         68.0    11250   Pave   NaN      IR1   \n",
              "3   4          70       RL         60.0     9550   Pave   NaN      IR1   \n",
              "4   5          60       RL         84.0    14260   Pave   NaN      IR1   \n",
              "\n",
              "  LandContour Utilities  ... PoolArea PoolQC Fence MiscFeature MiscVal MoSold  \\\n",
              "0         Lvl    AllPub  ...        0    NaN   NaN         NaN       0      2   \n",
              "1         Lvl    AllPub  ...        0    NaN   NaN         NaN       0      5   \n",
              "2         Lvl    AllPub  ...        0    NaN   NaN         NaN       0      9   \n",
              "3         Lvl    AllPub  ...        0    NaN   NaN         NaN       0      2   \n",
              "4         Lvl    AllPub  ...        0    NaN   NaN         NaN       0     12   \n",
              "\n",
              "  YrSold  SaleType  SaleCondition  SalePrice  \n",
              "0   2008        WD         Normal     208500  \n",
              "1   2007        WD         Normal     181500  \n",
              "2   2008        WD         Normal     223500  \n",
              "3   2006        WD        Abnorml     140000  \n",
              "4   2008        WD         Normal     250000  \n",
              "\n",
              "[5 rows x 81 columns]"
            ]
          },
          "metadata": {},
          "execution_count": 235
        }
      ],
      "metadata": {
        "id": "FtnHL_yP68OH"
      }
    },
    {
      "cell_type": "markdown",
      "source": [
        "# 4. Preprocess data before clustering\n",
        "\n",
        "### 4.1 Check columns that contain empty or Nan values"
      ],
      "metadata": {}
    },
    {
      "cell_type": "code",
      "execution_count": 236,
      "source": [
        "data_null = data.isna().sum()\n",
        "plt.figure(figsize=(8,8))\n",
        "data_null[data_null!=0].plot(kind='barh');"
      ],
      "outputs": [
        {
          "output_type": "display_data",
          "data": {
            "image/png": "[encoded data removed]",
            "text/plain": [
              "<Figure size 576x576 with 1 Axes>"
            ]
          },
          "metadata": {}
        }
      ],
      "metadata": {}
    },
    {
      "cell_type": "markdown",
      "source": [
        "### 4.2 Drop the five columns with few values and the id column too"
      ],
      "metadata": {}
    },
    {
      "cell_type": "code",
      "execution_count": 237,
      "source": [
        "data.drop(['Id','Alley','PoolQC','FireplaceQu','Fence','MiscFeature'],axis=1, inplace=True)"
      ],
      "outputs": [],
      "metadata": {}
    },
    {
      "cell_type": "markdown",
      "source": [
        "### 4.3 The column LotFrontage, we fill the missing values with median values."
      ],
      "metadata": {}
    },
    {
      "cell_type": "code",
      "execution_count": 238,
      "source": [
        "data['LotFrontage'].fillna(data['LotFrontage'].median(),inplace=True)"
      ],
      "outputs": [],
      "metadata": {}
    },
    {
      "cell_type": "markdown",
      "source": [
        "### 4.4 Drop all the Nan values since they are a small part of the dataset"
      ],
      "metadata": {}
    },
    {
      "cell_type": "code",
      "execution_count": 239,
      "source": [
        "data.dropna(inplace=True)"
      ],
      "outputs": [],
      "metadata": {}
    },
    {
      "cell_type": "markdown",
      "source": [
        "### 4.5 Keep only the neccesary numerical values and drop the other ones which have same values"
      ],
      "metadata": {}
    },
    {
      "cell_type": "code",
      "execution_count": 240,
      "source": [
        "data.drop(['BsmtFinSF2','LowQualFinSF','BsmtHalfBath','KitchenAbvGr',\\\n",
        "            'EnclosedPorch','3SsnPorch','ScreenPorch','PoolArea','MiscVal'],axis=1,inplace=True)"
      ],
      "outputs": [],
      "metadata": {}
    },
    {
      "cell_type": "markdown",
      "source": [
        "### 4.6 Keep only the neccesary categorical values and drop thoose with nearly same values"
      ],
      "metadata": {}
    },
    {
      "cell_type": "code",
      "execution_count": 241,
      "source": [
        "data_new = data.drop(['Utilities','LandSlope','Condition1','Condition2','BldgType','Street','RoofMatl','ExterCond','BsmtCond',\\\n",
        "'Heating','CentralAir','Electrical','Functional','GarageQual','GarageCond','PavedDrive','MSZoning','SaleType','SaleCondition',\\\n",
        "                     'LandContour','BsmtFinType2'],axis=1)"
      ],
      "outputs": [],
      "metadata": {}
    },
    {
      "cell_type": "markdown",
      "source": [
        "### 4.7 Correlation Plot to understand feature correlation"
      ],
      "metadata": {}
    },
    {
      "cell_type": "code",
      "execution_count": 242,
      "source": [
        "plt.figure(figsize=(25,20))\n",
        "sns.set(font_scale=1)\n",
        "sns.heatmap(data_new.corr(),annot=True);"
      ],
      "outputs": [
        {
          "output_type": "display_data",
          "data": {
            "image/png": "[encoded data removed]",
            "text/plain": [
              "<Figure size 1800x1440 with 2 Axes>"
            ]
          },
          "metadata": {}
        }
      ],
      "metadata": {}
    },
    {
      "cell_type": "markdown",
      "source": [
        "### 4.8 Drop the most correlated columns to avoid overfitting"
      ],
      "metadata": {}
    },
    {
      "cell_type": "code",
      "execution_count": 243,
      "source": [
        "data_new.drop(['TotRmsAbvGrd','TotalBsmtSF','GarageCars','GarageYrBlt'],axis=1,inplace=True)"
      ],
      "outputs": [],
      "metadata": {}
    },
    {
      "cell_type": "markdown",
      "source": [
        "### 4.9 Split features to categorical and numerical"
      ],
      "metadata": {}
    },
    {
      "cell_type": "code",
      "execution_count": 244,
      "source": [
        "numer = set(data_new.corr()['SalePrice'].index)\n",
        "categ = list(set(data_new.columns) - set(data_new.corr()['SalePrice'].index))"
      ],
      "outputs": [],
      "metadata": {}
    },
    {
      "cell_type": "markdown",
      "source": [
        "### 4.10 Caterogical to numerical features except the ordinal ones"
      ],
      "metadata": {}
    },
    {
      "cell_type": "code",
      "execution_count": 245,
      "source": [
        "data_targ = data_new.copy()\n",
        "categ_fact = set(categ) - set(['ExterQual','BsmtQual','BsmtExposure','HeatingQC','KitchenQual'])\n",
        "for i in categ_fact:\n",
        "    data_targ[i] = data_targ[i].factorize()[0]\n",
        "    \n",
        "data_targ.drop(['SalePrice'],axis=1,inplace=True)\n",
        "data_targ.head(6)"
      ],
      "outputs": [
        {
          "output_type": "execute_result",
          "data": {
            "text/html": [
              "<div>\n",
              "<style scoped>\n",
              "    .dataframe tbody tr th:only-of-type {\n",
              "        vertical-align: middle;\n",
              "    }\n",
              "\n",
              "    .dataframe tbody tr th {\n",
              "        vertical-align: top;\n",
              "    }\n",
              "\n",
              "    .dataframe thead th {\n",
              "        text-align: right;\n",
              "    }\n",
              "</style>\n",
              "<table border=\"1\" class=\"dataframe\">\n",
              "  <thead>\n",
              "    <tr style=\"text-align: right;\">\n",
              "      <th></th>\n",
              "      <th>MSSubClass</th>\n",
              "      <th>LotFrontage</th>\n",
              "      <th>LotArea</th>\n",
              "      <th>LotShape</th>\n",
              "      <th>LotConfig</th>\n",
              "      <th>Neighborhood</th>\n",
              "      <th>HouseStyle</th>\n",
              "      <th>OverallQual</th>\n",
              "      <th>OverallCond</th>\n",
              "      <th>YearBuilt</th>\n",
              "      <th>...</th>\n",
              "      <th>BedroomAbvGr</th>\n",
              "      <th>KitchenQual</th>\n",
              "      <th>Fireplaces</th>\n",
              "      <th>GarageType</th>\n",
              "      <th>GarageFinish</th>\n",
              "      <th>GarageArea</th>\n",
              "      <th>WoodDeckSF</th>\n",
              "      <th>OpenPorchSF</th>\n",
              "      <th>MoSold</th>\n",
              "      <th>YrSold</th>\n",
              "    </tr>\n",
              "  </thead>\n",
              "  <tbody>\n",
              "    <tr>\n",
              "      <th>0</th>\n",
              "      <td>60</td>\n",
              "      <td>65.0</td>\n",
              "      <td>8450</td>\n",
              "      <td>0</td>\n",
              "      <td>0</td>\n",
              "      <td>0</td>\n",
              "      <td>0</td>\n",
              "      <td>7</td>\n",
              "      <td>5</td>\n",
              "      <td>2003</td>\n",
              "      <td>...</td>\n",
              "      <td>3</td>\n",
              "      <td>Gd</td>\n",
              "      <td>0</td>\n",
              "      <td>0</td>\n",
              "      <td>0</td>\n",
              "      <td>548</td>\n",
              "      <td>0</td>\n",
              "      <td>61</td>\n",
              "      <td>2</td>\n",
              "      <td>2008</td>\n",
              "    </tr>\n",
              "    <tr>\n",
              "      <th>1</th>\n",
              "      <td>20</td>\n",
              "      <td>80.0</td>\n",
              "      <td>9600</td>\n",
              "      <td>0</td>\n",
              "      <td>1</td>\n",
              "      <td>1</td>\n",
              "      <td>1</td>\n",
              "      <td>6</td>\n",
              "      <td>8</td>\n",
              "      <td>1976</td>\n",
              "      <td>...</td>\n",
              "      <td>3</td>\n",
              "      <td>TA</td>\n",
              "      <td>1</td>\n",
              "      <td>0</td>\n",
              "      <td>0</td>\n",
              "      <td>460</td>\n",
              "      <td>298</td>\n",
              "      <td>0</td>\n",
              "      <td>5</td>\n",
              "      <td>2007</td>\n",
              "    </tr>\n",
              "    <tr>\n",
              "      <th>2</th>\n",
              "      <td>60</td>\n",
              "      <td>68.0</td>\n",
              "      <td>11250</td>\n",
              "      <td>1</td>\n",
              "      <td>0</td>\n",
              "      <td>0</td>\n",
              "      <td>0</td>\n",
              "      <td>7</td>\n",
              "      <td>5</td>\n",
              "      <td>2001</td>\n",
              "      <td>...</td>\n",
              "      <td>3</td>\n",
              "      <td>Gd</td>\n",
              "      <td>1</td>\n",
              "      <td>0</td>\n",
              "      <td>0</td>\n",
              "      <td>608</td>\n",
              "      <td>0</td>\n",
              "      <td>42</td>\n",
              "      <td>9</td>\n",
              "      <td>2008</td>\n",
              "    </tr>\n",
              "    <tr>\n",
              "      <th>3</th>\n",
              "      <td>70</td>\n",
              "      <td>60.0</td>\n",
              "      <td>9550</td>\n",
              "      <td>1</td>\n",
              "      <td>2</td>\n",
              "      <td>2</td>\n",
              "      <td>0</td>\n",
              "      <td>7</td>\n",
              "      <td>5</td>\n",
              "      <td>1915</td>\n",
              "      <td>...</td>\n",
              "      <td>3</td>\n",
              "      <td>Gd</td>\n",
              "      <td>1</td>\n",
              "      <td>1</td>\n",
              "      <td>1</td>\n",
              "      <td>642</td>\n",
              "      <td>0</td>\n",
              "      <td>35</td>\n",
              "      <td>2</td>\n",
              "      <td>2006</td>\n",
              "    </tr>\n",
              "    <tr>\n",
              "      <th>4</th>\n",
              "      <td>60</td>\n",
              "      <td>84.0</td>\n",
              "      <td>14260</td>\n",
              "      <td>1</td>\n",
              "      <td>1</td>\n",
              "      <td>3</td>\n",
              "      <td>0</td>\n",
              "      <td>8</td>\n",
              "      <td>5</td>\n",
              "      <td>2000</td>\n",
              "      <td>...</td>\n",
              "      <td>4</td>\n",
              "      <td>Gd</td>\n",
              "      <td>1</td>\n",
              "      <td>0</td>\n",
              "      <td>0</td>\n",
              "      <td>836</td>\n",
              "      <td>192</td>\n",
              "      <td>84</td>\n",
              "      <td>12</td>\n",
              "      <td>2008</td>\n",
              "    </tr>\n",
              "    <tr>\n",
              "      <th>5</th>\n",
              "      <td>50</td>\n",
              "      <td>85.0</td>\n",
              "      <td>14115</td>\n",
              "      <td>1</td>\n",
              "      <td>0</td>\n",
              "      <td>4</td>\n",
              "      <td>2</td>\n",
              "      <td>5</td>\n",
              "      <td>5</td>\n",
              "      <td>1993</td>\n",
              "      <td>...</td>\n",
              "      <td>1</td>\n",
              "      <td>TA</td>\n",
              "      <td>0</td>\n",
              "      <td>0</td>\n",
              "      <td>1</td>\n",
              "      <td>480</td>\n",
              "      <td>40</td>\n",
              "      <td>30</td>\n",
              "      <td>10</td>\n",
              "      <td>2009</td>\n",
              "    </tr>\n",
              "  </tbody>\n",
              "</table>\n",
              "<p>6 rows × 40 columns</p>\n",
              "</div>"
            ],
            "text/plain": [
              "   MSSubClass  LotFrontage  LotArea  LotShape  LotConfig  Neighborhood  \\\n",
              "0          60         65.0     8450         0          0             0   \n",
              "1          20         80.0     9600         0          1             1   \n",
              "2          60         68.0    11250         1          0             0   \n",
              "3          70         60.0     9550         1          2             2   \n",
              "4          60         84.0    14260         1          1             3   \n",
              "5          50         85.0    14115         1          0             4   \n",
              "\n",
              "   HouseStyle  OverallQual  OverallCond  YearBuilt  ...  BedroomAbvGr  \\\n",
              "0           0            7            5       2003  ...             3   \n",
              "1           1            6            8       1976  ...             3   \n",
              "2           0            7            5       2001  ...             3   \n",
              "3           0            7            5       1915  ...             3   \n",
              "4           0            8            5       2000  ...             4   \n",
              "5           2            5            5       1993  ...             1   \n",
              "\n",
              "   KitchenQual  Fireplaces  GarageType  GarageFinish  GarageArea WoodDeckSF  \\\n",
              "0           Gd           0           0             0         548          0   \n",
              "1           TA           1           0             0         460        298   \n",
              "2           Gd           1           0             0         608          0   \n",
              "3           Gd           1           1             1         642          0   \n",
              "4           Gd           1           0             0         836        192   \n",
              "5           TA           0           0             1         480         40   \n",
              "\n",
              "   OpenPorchSF MoSold YrSold  \n",
              "0           61      2   2008  \n",
              "1            0      5   2007  \n",
              "2           42      9   2008  \n",
              "3           35      2   2006  \n",
              "4           84     12   2008  \n",
              "5           30     10   2009  \n",
              "\n",
              "[6 rows x 40 columns]"
            ]
          },
          "metadata": {},
          "execution_count": 245
        }
      ],
      "metadata": {}
    },
    {
      "cell_type": "markdown",
      "source": [
        "### 4.11 Target hist and boxplot"
      ],
      "metadata": {}
    },
    {
      "cell_type": "code",
      "execution_count": 246,
      "source": [
        "fig = plt.figure(figsize=(20,10))\n",
        "sns.set(font_scale=2)\n",
        "ax1 = fig.add_subplot(2,3,1)\n",
        "ax1.set_title('Popular Apps')\n",
        "data_new['SalePrice'].hist(bins=20);\n",
        "ax2 = fig.add_subplot(2,3,2)\n",
        "ax2.set_title('All Apps')\n",
        "sns.boxplot(data_new['SalePrice'])\n",
        "plt.tight_layout()"
      ],
      "outputs": [
        {
          "output_type": "display_data",
          "data": {
            "image/png": "[encoded data removed]",
            "text/plain": [
              "<Figure size 1440x720 with 2 Axes>"
            ]
          },
          "metadata": {}
        }
      ],
      "metadata": {}
    },
    {
      "cell_type": "markdown",
      "source": [
        "# 5. Pycaret Clustering"
      ],
      "metadata": {}
    },
    {
      "cell_type": "markdown",
      "source": [
        "### 5.1 Pycaret setup function after data preprocessing"
      ],
      "metadata": {}
    },
    {
      "cell_type": "code",
      "execution_count": 247,
      "source": [
        "clu1 = setup(data = data_targ,\n",
        "             normalize = True, \n",
        "             normalize_method = 'minmax', \n",
        "             transformation = True, \n",
        "             transformation_method = 'yeo-johnson', \n",
        "             ordinal_features= {'ExterQual': ['Fa', 'TA', 'Gd', 'Ex'],\n",
        "                                'BsmtQual' : ['Fa', 'TA', 'Gd', 'Ex'], \n",
        "                                'BsmtExposure' : ['No', 'Mn', 'Av', 'Gd'],\n",
        "                                'HeatingQC' : ['Po', 'Fa', 'TA', 'Gd', 'Ex'],\n",
        "                                'KitchenQual' : ['Fa', 'TA', 'Gd', 'Ex'],\n",
        "                                },\n",
        "             silent = True\n",
        "             )"
      ],
      "outputs": [
        {
          "output_type": "display_data",
          "data": {
            "text/html": [
              "<style type=\"text/css\">\n",
              "#T_e9b57_row5_col1, #T_e9b57_row21_col1, #T_e9b57_row23_col1 {\n",
              "  background-color: lightgreen;\n",
              "}\n",
              "</style>\n",
              "<table id=\"T_e9b57_\">\n",
              "  <thead>\n",
              "    <tr>\n",
              "      <th class=\"blank level0\" >&nbsp;</th>\n",
              "      <th class=\"col_heading level0 col0\" >Description</th>\n",
              "      <th class=\"col_heading level0 col1\" >Value</th>\n",
              "    </tr>\n",
              "  </thead>\n",
              "  <tbody>\n",
              "    <tr>\n",
              "      <th id=\"T_e9b57_level0_row0\" class=\"row_heading level0 row0\" >0</th>\n",
              "      <td id=\"T_e9b57_row0_col0\" class=\"data row0 col0\" >session_id</td>\n",
              "      <td id=\"T_e9b57_row0_col1\" class=\"data row0 col1\" >3615</td>\n",
              "    </tr>\n",
              "    <tr>\n",
              "      <th id=\"T_e9b57_level0_row1\" class=\"row_heading level0 row1\" >1</th>\n",
              "      <td id=\"T_e9b57_row1_col0\" class=\"data row1 col0\" >Original Data</td>\n",
              "      <td id=\"T_e9b57_row1_col1\" class=\"data row1 col1\" >(1338, 40)</td>\n",
              "    </tr>\n",
              "    <tr>\n",
              "      <th id=\"T_e9b57_level0_row2\" class=\"row_heading level0 row2\" >2</th>\n",
              "      <td id=\"T_e9b57_row2_col0\" class=\"data row2 col0\" >Missing Values</td>\n",
              "      <td id=\"T_e9b57_row2_col1\" class=\"data row2 col1\" >False</td>\n",
              "    </tr>\n",
              "    <tr>\n",
              "      <th id=\"T_e9b57_level0_row3\" class=\"row_heading level0 row3\" >3</th>\n",
              "      <td id=\"T_e9b57_row3_col0\" class=\"data row3 col0\" >Numeric Features</td>\n",
              "      <td id=\"T_e9b57_row3_col1\" class=\"data row3 col1\" >14</td>\n",
              "    </tr>\n",
              "    <tr>\n",
              "      <th id=\"T_e9b57_level0_row4\" class=\"row_heading level0 row4\" >4</th>\n",
              "      <td id=\"T_e9b57_row4_col0\" class=\"data row4 col0\" >Categorical Features</td>\n",
              "      <td id=\"T_e9b57_row4_col1\" class=\"data row4 col1\" >26</td>\n",
              "    </tr>\n",
              "    <tr>\n",
              "      <th id=\"T_e9b57_level0_row5\" class=\"row_heading level0 row5\" >5</th>\n",
              "      <td id=\"T_e9b57_row5_col0\" class=\"data row5 col0\" >Ordinal Features</td>\n",
              "      <td id=\"T_e9b57_row5_col1\" class=\"data row5 col1\" >True</td>\n",
              "    </tr>\n",
              "    <tr>\n",
              "      <th id=\"T_e9b57_level0_row6\" class=\"row_heading level0 row6\" >6</th>\n",
              "      <td id=\"T_e9b57_row6_col0\" class=\"data row6 col0\" >High Cardinality Features</td>\n",
              "      <td id=\"T_e9b57_row6_col1\" class=\"data row6 col1\" >False</td>\n",
              "    </tr>\n",
              "    <tr>\n",
              "      <th id=\"T_e9b57_level0_row7\" class=\"row_heading level0 row7\" >7</th>\n",
              "      <td id=\"T_e9b57_row7_col0\" class=\"data row7 col0\" >High Cardinality Method</td>\n",
              "      <td id=\"T_e9b57_row7_col1\" class=\"data row7 col1\" >None</td>\n",
              "    </tr>\n",
              "    <tr>\n",
              "      <th id=\"T_e9b57_level0_row8\" class=\"row_heading level0 row8\" >8</th>\n",
              "      <td id=\"T_e9b57_row8_col0\" class=\"data row8 col0\" >Transformed Data</td>\n",
              "      <td id=\"T_e9b57_row8_col1\" class=\"data row8 col1\" >(1338, 166)</td>\n",
              "    </tr>\n",
              "    <tr>\n",
              "      <th id=\"T_e9b57_level0_row9\" class=\"row_heading level0 row9\" >9</th>\n",
              "      <td id=\"T_e9b57_row9_col0\" class=\"data row9 col0\" >CPU Jobs</td>\n",
              "      <td id=\"T_e9b57_row9_col1\" class=\"data row9 col1\" >-1</td>\n",
              "    </tr>\n",
              "    <tr>\n",
              "      <th id=\"T_e9b57_level0_row10\" class=\"row_heading level0 row10\" >10</th>\n",
              "      <td id=\"T_e9b57_row10_col0\" class=\"data row10 col0\" >Use GPU</td>\n",
              "      <td id=\"T_e9b57_row10_col1\" class=\"data row10 col1\" >False</td>\n",
              "    </tr>\n",
              "    <tr>\n",
              "      <th id=\"T_e9b57_level0_row11\" class=\"row_heading level0 row11\" >11</th>\n",
              "      <td id=\"T_e9b57_row11_col0\" class=\"data row11 col0\" >Log Experiment</td>\n",
              "      <td id=\"T_e9b57_row11_col1\" class=\"data row11 col1\" >False</td>\n",
              "    </tr>\n",
              "    <tr>\n",
              "      <th id=\"T_e9b57_level0_row12\" class=\"row_heading level0 row12\" >12</th>\n",
              "      <td id=\"T_e9b57_row12_col0\" class=\"data row12 col0\" >Experiment Name</td>\n",
              "      <td id=\"T_e9b57_row12_col1\" class=\"data row12 col1\" >cluster-default-name</td>\n",
              "    </tr>\n",
              "    <tr>\n",
              "      <th id=\"T_e9b57_level0_row13\" class=\"row_heading level0 row13\" >13</th>\n",
              "      <td id=\"T_e9b57_row13_col0\" class=\"data row13 col0\" >USI</td>\n",
              "      <td id=\"T_e9b57_row13_col1\" class=\"data row13 col1\" >9e66</td>\n",
              "    </tr>\n",
              "    <tr>\n",
              "      <th id=\"T_e9b57_level0_row14\" class=\"row_heading level0 row14\" >14</th>\n",
              "      <td id=\"T_e9b57_row14_col0\" class=\"data row14 col0\" >Imputation Type</td>\n",
              "      <td id=\"T_e9b57_row14_col1\" class=\"data row14 col1\" >simple</td>\n",
              "    </tr>\n",
              "    <tr>\n",
              "      <th id=\"T_e9b57_level0_row15\" class=\"row_heading level0 row15\" >15</th>\n",
              "      <td id=\"T_e9b57_row15_col0\" class=\"data row15 col0\" >Iterative Imputation Iteration</td>\n",
              "      <td id=\"T_e9b57_row15_col1\" class=\"data row15 col1\" >None</td>\n",
              "    </tr>\n",
              "    <tr>\n",
              "      <th id=\"T_e9b57_level0_row16\" class=\"row_heading level0 row16\" >16</th>\n",
              "      <td id=\"T_e9b57_row16_col0\" class=\"data row16 col0\" >Numeric Imputer</td>\n",
              "      <td id=\"T_e9b57_row16_col1\" class=\"data row16 col1\" >mean</td>\n",
              "    </tr>\n",
              "    <tr>\n",
              "      <th id=\"T_e9b57_level0_row17\" class=\"row_heading level0 row17\" >17</th>\n",
              "      <td id=\"T_e9b57_row17_col0\" class=\"data row17 col0\" >Iterative Imputation Numeric Model</td>\n",
              "      <td id=\"T_e9b57_row17_col1\" class=\"data row17 col1\" >None</td>\n",
              "    </tr>\n",
              "    <tr>\n",
              "      <th id=\"T_e9b57_level0_row18\" class=\"row_heading level0 row18\" >18</th>\n",
              "      <td id=\"T_e9b57_row18_col0\" class=\"data row18 col0\" >Categorical Imputer</td>\n",
              "      <td id=\"T_e9b57_row18_col1\" class=\"data row18 col1\" >mode</td>\n",
              "    </tr>\n",
              "    <tr>\n",
              "      <th id=\"T_e9b57_level0_row19\" class=\"row_heading level0 row19\" >19</th>\n",
              "      <td id=\"T_e9b57_row19_col0\" class=\"data row19 col0\" >Iterative Imputation Categorical Model</td>\n",
              "      <td id=\"T_e9b57_row19_col1\" class=\"data row19 col1\" >None</td>\n",
              "    </tr>\n",
              "    <tr>\n",
              "      <th id=\"T_e9b57_level0_row20\" class=\"row_heading level0 row20\" >20</th>\n",
              "      <td id=\"T_e9b57_row20_col0\" class=\"data row20 col0\" >Unknown Categoricals Handling</td>\n",
              "      <td id=\"T_e9b57_row20_col1\" class=\"data row20 col1\" >least_frequent</td>\n",
              "    </tr>\n",
              "    <tr>\n",
              "      <th id=\"T_e9b57_level0_row21\" class=\"row_heading level0 row21\" >21</th>\n",
              "      <td id=\"T_e9b57_row21_col0\" class=\"data row21 col0\" >Normalize</td>\n",
              "      <td id=\"T_e9b57_row21_col1\" class=\"data row21 col1\" >True</td>\n",
              "    </tr>\n",
              "    <tr>\n",
              "      <th id=\"T_e9b57_level0_row22\" class=\"row_heading level0 row22\" >22</th>\n",
              "      <td id=\"T_e9b57_row22_col0\" class=\"data row22 col0\" >Normalize Method</td>\n",
              "      <td id=\"T_e9b57_row22_col1\" class=\"data row22 col1\" >minmax</td>\n",
              "    </tr>\n",
              "    <tr>\n",
              "      <th id=\"T_e9b57_level0_row23\" class=\"row_heading level0 row23\" >23</th>\n",
              "      <td id=\"T_e9b57_row23_col0\" class=\"data row23 col0\" >Transformation</td>\n",
              "      <td id=\"T_e9b57_row23_col1\" class=\"data row23 col1\" >True</td>\n",
              "    </tr>\n",
              "    <tr>\n",
              "      <th id=\"T_e9b57_level0_row24\" class=\"row_heading level0 row24\" >24</th>\n",
              "      <td id=\"T_e9b57_row24_col0\" class=\"data row24 col0\" >Transformation Method</td>\n",
              "      <td id=\"T_e9b57_row24_col1\" class=\"data row24 col1\" >yeo-johnson</td>\n",
              "    </tr>\n",
              "    <tr>\n",
              "      <th id=\"T_e9b57_level0_row25\" class=\"row_heading level0 row25\" >25</th>\n",
              "      <td id=\"T_e9b57_row25_col0\" class=\"data row25 col0\" >PCA</td>\n",
              "      <td id=\"T_e9b57_row25_col1\" class=\"data row25 col1\" >False</td>\n",
              "    </tr>\n",
              "    <tr>\n",
              "      <th id=\"T_e9b57_level0_row26\" class=\"row_heading level0 row26\" >26</th>\n",
              "      <td id=\"T_e9b57_row26_col0\" class=\"data row26 col0\" >PCA Method</td>\n",
              "      <td id=\"T_e9b57_row26_col1\" class=\"data row26 col1\" >None</td>\n",
              "    </tr>\n",
              "    <tr>\n",
              "      <th id=\"T_e9b57_level0_row27\" class=\"row_heading level0 row27\" >27</th>\n",
              "      <td id=\"T_e9b57_row27_col0\" class=\"data row27 col0\" >PCA Components</td>\n",
              "      <td id=\"T_e9b57_row27_col1\" class=\"data row27 col1\" >None</td>\n",
              "    </tr>\n",
              "    <tr>\n",
              "      <th id=\"T_e9b57_level0_row28\" class=\"row_heading level0 row28\" >28</th>\n",
              "      <td id=\"T_e9b57_row28_col0\" class=\"data row28 col0\" >Ignore Low Variance</td>\n",
              "      <td id=\"T_e9b57_row28_col1\" class=\"data row28 col1\" >False</td>\n",
              "    </tr>\n",
              "    <tr>\n",
              "      <th id=\"T_e9b57_level0_row29\" class=\"row_heading level0 row29\" >29</th>\n",
              "      <td id=\"T_e9b57_row29_col0\" class=\"data row29 col0\" >Combine Rare Levels</td>\n",
              "      <td id=\"T_e9b57_row29_col1\" class=\"data row29 col1\" >False</td>\n",
              "    </tr>\n",
              "    <tr>\n",
              "      <th id=\"T_e9b57_level0_row30\" class=\"row_heading level0 row30\" >30</th>\n",
              "      <td id=\"T_e9b57_row30_col0\" class=\"data row30 col0\" >Rare Level Threshold</td>\n",
              "      <td id=\"T_e9b57_row30_col1\" class=\"data row30 col1\" >None</td>\n",
              "    </tr>\n",
              "    <tr>\n",
              "      <th id=\"T_e9b57_level0_row31\" class=\"row_heading level0 row31\" >31</th>\n",
              "      <td id=\"T_e9b57_row31_col0\" class=\"data row31 col0\" >Numeric Binning</td>\n",
              "      <td id=\"T_e9b57_row31_col1\" class=\"data row31 col1\" >False</td>\n",
              "    </tr>\n",
              "    <tr>\n",
              "      <th id=\"T_e9b57_level0_row32\" class=\"row_heading level0 row32\" >32</th>\n",
              "      <td id=\"T_e9b57_row32_col0\" class=\"data row32 col0\" >Remove Outliers</td>\n",
              "      <td id=\"T_e9b57_row32_col1\" class=\"data row32 col1\" >False</td>\n",
              "    </tr>\n",
              "    <tr>\n",
              "      <th id=\"T_e9b57_level0_row33\" class=\"row_heading level0 row33\" >33</th>\n",
              "      <td id=\"T_e9b57_row33_col0\" class=\"data row33 col0\" >Outliers Threshold</td>\n",
              "      <td id=\"T_e9b57_row33_col1\" class=\"data row33 col1\" >None</td>\n",
              "    </tr>\n",
              "    <tr>\n",
              "      <th id=\"T_e9b57_level0_row34\" class=\"row_heading level0 row34\" >34</th>\n",
              "      <td id=\"T_e9b57_row34_col0\" class=\"data row34 col0\" >Remove Multicollinearity</td>\n",
              "      <td id=\"T_e9b57_row34_col1\" class=\"data row34 col1\" >False</td>\n",
              "    </tr>\n",
              "    <tr>\n",
              "      <th id=\"T_e9b57_level0_row35\" class=\"row_heading level0 row35\" >35</th>\n",
              "      <td id=\"T_e9b57_row35_col0\" class=\"data row35 col0\" >Multicollinearity Threshold</td>\n",
              "      <td id=\"T_e9b57_row35_col1\" class=\"data row35 col1\" >None</td>\n",
              "    </tr>\n",
              "    <tr>\n",
              "      <th id=\"T_e9b57_level0_row36\" class=\"row_heading level0 row36\" >36</th>\n",
              "      <td id=\"T_e9b57_row36_col0\" class=\"data row36 col0\" >Remove Perfect Collinearity</td>\n",
              "      <td id=\"T_e9b57_row36_col1\" class=\"data row36 col1\" >False</td>\n",
              "    </tr>\n",
              "    <tr>\n",
              "      <th id=\"T_e9b57_level0_row37\" class=\"row_heading level0 row37\" >37</th>\n",
              "      <td id=\"T_e9b57_row37_col0\" class=\"data row37 col0\" >Clustering</td>\n",
              "      <td id=\"T_e9b57_row37_col1\" class=\"data row37 col1\" >False</td>\n",
              "    </tr>\n",
              "    <tr>\n",
              "      <th id=\"T_e9b57_level0_row38\" class=\"row_heading level0 row38\" >38</th>\n",
              "      <td id=\"T_e9b57_row38_col0\" class=\"data row38 col0\" >Clustering Iteration</td>\n",
              "      <td id=\"T_e9b57_row38_col1\" class=\"data row38 col1\" >None</td>\n",
              "    </tr>\n",
              "    <tr>\n",
              "      <th id=\"T_e9b57_level0_row39\" class=\"row_heading level0 row39\" >39</th>\n",
              "      <td id=\"T_e9b57_row39_col0\" class=\"data row39 col0\" >Polynomial Features</td>\n",
              "      <td id=\"T_e9b57_row39_col1\" class=\"data row39 col1\" >False</td>\n",
              "    </tr>\n",
              "    <tr>\n",
              "      <th id=\"T_e9b57_level0_row40\" class=\"row_heading level0 row40\" >40</th>\n",
              "      <td id=\"T_e9b57_row40_col0\" class=\"data row40 col0\" >Polynomial Degree</td>\n",
              "      <td id=\"T_e9b57_row40_col1\" class=\"data row40 col1\" >None</td>\n",
              "    </tr>\n",
              "    <tr>\n",
              "      <th id=\"T_e9b57_level0_row41\" class=\"row_heading level0 row41\" >41</th>\n",
              "      <td id=\"T_e9b57_row41_col0\" class=\"data row41 col0\" >Trignometry Features</td>\n",
              "      <td id=\"T_e9b57_row41_col1\" class=\"data row41 col1\" >False</td>\n",
              "    </tr>\n",
              "    <tr>\n",
              "      <th id=\"T_e9b57_level0_row42\" class=\"row_heading level0 row42\" >42</th>\n",
              "      <td id=\"T_e9b57_row42_col0\" class=\"data row42 col0\" >Polynomial Threshold</td>\n",
              "      <td id=\"T_e9b57_row42_col1\" class=\"data row42 col1\" >None</td>\n",
              "    </tr>\n",
              "    <tr>\n",
              "      <th id=\"T_e9b57_level0_row43\" class=\"row_heading level0 row43\" >43</th>\n",
              "      <td id=\"T_e9b57_row43_col0\" class=\"data row43 col0\" >Group Features</td>\n",
              "      <td id=\"T_e9b57_row43_col1\" class=\"data row43 col1\" >False</td>\n",
              "    </tr>\n",
              "    <tr>\n",
              "      <th id=\"T_e9b57_level0_row44\" class=\"row_heading level0 row44\" >44</th>\n",
              "      <td id=\"T_e9b57_row44_col0\" class=\"data row44 col0\" >Feature Selection</td>\n",
              "      <td id=\"T_e9b57_row44_col1\" class=\"data row44 col1\" >False</td>\n",
              "    </tr>\n",
              "    <tr>\n",
              "      <th id=\"T_e9b57_level0_row45\" class=\"row_heading level0 row45\" >45</th>\n",
              "      <td id=\"T_e9b57_row45_col0\" class=\"data row45 col0\" >Feature Selection Method</td>\n",
              "      <td id=\"T_e9b57_row45_col1\" class=\"data row45 col1\" >classic</td>\n",
              "    </tr>\n",
              "    <tr>\n",
              "      <th id=\"T_e9b57_level0_row46\" class=\"row_heading level0 row46\" >46</th>\n",
              "      <td id=\"T_e9b57_row46_col0\" class=\"data row46 col0\" >Features Selection Threshold</td>\n",
              "      <td id=\"T_e9b57_row46_col1\" class=\"data row46 col1\" >None</td>\n",
              "    </tr>\n",
              "    <tr>\n",
              "      <th id=\"T_e9b57_level0_row47\" class=\"row_heading level0 row47\" >47</th>\n",
              "      <td id=\"T_e9b57_row47_col0\" class=\"data row47 col0\" >Feature Interaction</td>\n",
              "      <td id=\"T_e9b57_row47_col1\" class=\"data row47 col1\" >False</td>\n",
              "    </tr>\n",
              "    <tr>\n",
              "      <th id=\"T_e9b57_level0_row48\" class=\"row_heading level0 row48\" >48</th>\n",
              "      <td id=\"T_e9b57_row48_col0\" class=\"data row48 col0\" >Feature Ratio</td>\n",
              "      <td id=\"T_e9b57_row48_col1\" class=\"data row48 col1\" >False</td>\n",
              "    </tr>\n",
              "    <tr>\n",
              "      <th id=\"T_e9b57_level0_row49\" class=\"row_heading level0 row49\" >49</th>\n",
              "      <td id=\"T_e9b57_row49_col0\" class=\"data row49 col0\" >Interaction Threshold</td>\n",
              "      <td id=\"T_e9b57_row49_col1\" class=\"data row49 col1\" >None</td>\n",
              "    </tr>\n",
              "  </tbody>\n",
              "</table>\n"
            ],
            "text/plain": [
              "<pandas.io.formats.style.Styler at 0x1471c37f0>"
            ]
          },
          "metadata": {}
        }
      ],
      "metadata": {}
    },
    {
      "cell_type": "markdown",
      "source": [
        "### 5.2 Create model"
      ],
      "metadata": {}
    },
    {
      "cell_type": "code",
      "execution_count": 248,
      "source": [
        "kmeans = create_model('kmeans')"
      ],
      "outputs": [
        {
          "output_type": "display_data",
          "data": {
            "text/html": [
              "<div>\n",
              "<style scoped>\n",
              "    .dataframe tbody tr th:only-of-type {\n",
              "        vertical-align: middle;\n",
              "    }\n",
              "\n",
              "    .dataframe tbody tr th {\n",
              "        vertical-align: top;\n",
              "    }\n",
              "\n",
              "    .dataframe thead th {\n",
              "        text-align: right;\n",
              "    }\n",
              "</style>\n",
              "<table border=\"1\" class=\"dataframe\">\n",
              "  <thead>\n",
              "    <tr style=\"text-align: right;\">\n",
              "      <th></th>\n",
              "      <th>Silhouette</th>\n",
              "      <th>Calinski-Harabasz</th>\n",
              "      <th>Davies-Bouldin</th>\n",
              "      <th>Homogeneity</th>\n",
              "      <th>Rand Index</th>\n",
              "      <th>Completeness</th>\n",
              "    </tr>\n",
              "  </thead>\n",
              "  <tbody>\n",
              "    <tr>\n",
              "      <th>0</th>\n",
              "      <td>0.099</td>\n",
              "      <td>144.8532</td>\n",
              "      <td>2.7466</td>\n",
              "      <td>0</td>\n",
              "      <td>0</td>\n",
              "      <td>0</td>\n",
              "    </tr>\n",
              "  </tbody>\n",
              "</table>\n",
              "</div>"
            ],
            "text/plain": [
              "   Silhouette  Calinski-Harabasz  Davies-Bouldin  Homogeneity  Rand Index  \\\n",
              "0       0.099           144.8532          2.7466            0           0   \n",
              "\n",
              "   Completeness  \n",
              "0             0  "
            ]
          },
          "metadata": {}
        }
      ],
      "metadata": {}
    },
    {
      "cell_type": "markdown",
      "source": [
        "### 5.3 Plot the model with TSNE"
      ],
      "metadata": {}
    },
    {
      "cell_type": "code",
      "execution_count": 249,
      "source": [
        "plot_model(kmeans, plot = 'tsne')"
      ],
      "outputs": [
        {
          "output_type": "display_data",
          "data": {
            "application/vnd.plotly.v1+json": {
              "config": {
                "plotlyServerURL": "https://plot.ly"
              },
              "data": [
                {
                  "customdata": [
                    [
                      80
                    ],
                    [
                      null
                    ],
                    [
                      80
                    ],
                    [
                      68
                    ],
                    [
                      64
                    ],
                    [
                      76
                    ],
                    [
                      85
                    ],
                    [
                      85
                    ],
                    [
                      44
                    ],
                    [
                      87
                    ],
                    [
                      80
                    ],
                    [
                      69
                    ],
                    [
                      21
                    ],
                    [
                      54
                    ],
                    [
                      82
                    ],
                    [
                      50
                    ],
                    [
                      34
                    ],
                    [
                      80
                    ],
                    [
                      50
                    ],
                    [
                      null
                    ],
                    [
                      69
                    ],
                    [
                      78
                    ],
                    [
                      85
                    ],
                    [
                      98
                    ],
                    [
                      65
                    ],
                    [
                      55
                    ],
                    [
                      60
                    ],
                    [
                      69
                    ],
                    [
                      50
                    ],
                    [
                      57
                    ],
                    [
                      75
                    ],
                    [
                      null
                    ],
                    [
                      313
                    ],
                    [
                      107
                    ],
                    [
                      63
                    ],
                    [
                      84
                    ],
                    [
                      55
                    ],
                    [
                      85
                    ],
                    [
                      85
                    ],
                    [
                      76
                    ],
                    [
                      60
                    ],
                    [
                      51
                    ],
                    [
                      62
                    ],
                    [
                      50
                    ],
                    [
                      90
                    ],
                    [
                      69
                    ],
                    [
                      24
                    ],
                    [
                      70
                    ],
                    [
                      106
                    ],
                    [
                      70
                    ],
                    [
                      70
                    ],
                    [
                      69
                    ],
                    [
                      80
                    ],
                    [
                      90
                    ],
                    [
                      64
                    ],
                    [
                      63
                    ],
                    [
                      69
                    ],
                    [
                      60
                    ],
                    [
                      50
                    ],
                    [
                      69
                    ],
                    [
                      80
                    ],
                    [
                      null
                    ],
                    [
                      76
                    ],
                    [
                      69
                    ],
                    [
                      69
                    ],
                    [
                      89
                    ],
                    [
                      80
                    ],
                    [
                      69
                    ],
                    [
                      null
                    ],
                    [
                      85
                    ],
                    [
                      85
                    ],
                    [
                      69
                    ],
                    [
                      60
                    ],
                    [
                      69
                    ],
                    [
                      69
                    ],
                    [
                      65
                    ],
                    [
                      58
                    ],
                    [
                      69
                    ],
                    [
                      65
                    ],
                    [
                      69
                    ],
                    [
                      71
                    ],
                    [
                      80
                    ],
                    [
                      75
                    ],
                    [
                      51
                    ],
                    [
                      null
                    ],
                    [
                      90
                    ],
                    [
                      60
                    ],
                    [
                      105
                    ],
                    [
                      70
                    ],
                    [
                      59
                    ],
                    [
                      null
                    ],
                    [
                      69
                    ],
                    [
                      60
                    ],
                    [
                      60
                    ],
                    [
                      60
                    ],
                    [
                      80
                    ],
                    [
                      69
                    ],
                    [
                      null
                    ],
                    [
                      50
                    ],
                    [
                      40
                    ],
                    [
                      43
                    ],
                    [
                      69
                    ],
                    [
                      65
                    ],
                    [
                      69
                    ],
                    [
                      79
                    ],
                    [
                      69
                    ],
                    [
                      null
                    ],
                    [
                      96
                    ],
                    [
                      null
                    ],
                    [
                      73
                    ],
                    [
                      85
                    ],
                    [
                      53
                    ],
                    [
                      60
                    ],
                    [
                      null
                    ],
                    [
                      105
                    ],
                    [
                      40
                    ],
                    [
                      69
                    ],
                    [
                      40
                    ],
                    [
                      null
                    ],
                    [
                      100
                    ],
                    [
                      24
                    ],
                    [
                      64
                    ],
                    [
                      41
                    ],
                    [
                      60
                    ],
                    [
                      60
                    ],
                    [
                      32
                    ],
                    [
                      69
                    ],
                    [
                      75
                    ],
                    [
                      60
                    ],
                    [
                      60
                    ],
                    [
                      65
                    ],
                    [
                      70
                    ],
                    [
                      50
                    ],
                    [
                      69
                    ],
                    [
                      77
                    ],
                    [
                      99
                    ],
                    [
                      111
                    ],
                    [
                      null
                    ],
                    [
                      60
                    ],
                    [
                      150
                    ],
                    [
                      90
                    ],
                    [
                      80
                    ],
                    [
                      90
                    ],
                    [
                      69
                    ],
                    [
                      null
                    ],
                    [
                      34
                    ],
                    [
                      87
                    ],
                    [
                      85
                    ],
                    [
                      122
                    ],
                    [
                      69
                    ],
                    [
                      54
                    ],
                    [
                      68
                    ],
                    [
                      69
                    ],
                    [
                      59
                    ],
                    [
                      69
                    ],
                    [
                      70
                    ],
                    [
                      24
                    ],
                    [
                      98
                    ],
                    [
                      null
                    ],
                    [
                      57
                    ],
                    [
                      114
                    ],
                    [
                      60
                    ],
                    [
                      60
                    ],
                    [
                      null
                    ],
                    [
                      36
                    ],
                    [
                      65
                    ],
                    [
                      93
                    ],
                    [
                      34
                    ],
                    [
                      69
                    ],
                    [
                      69
                    ],
                    [
                      69
                    ],
                    [
                      21
                    ],
                    [
                      69
                    ],
                    [
                      73
                    ],
                    [
                      79
                    ],
                    [
                      69
                    ],
                    [
                      null
                    ],
                    [
                      50
                    ],
                    [
                      null
                    ],
                    [
                      59
                    ],
                    [
                      80
                    ],
                    [
                      60
                    ],
                    [
                      36
                    ],
                    [
                      41
                    ],
                    [
                      40
                    ],
                    [
                      null
                    ],
                    [
                      69
                    ],
                    [
                      80
                    ],
                    [
                      50
                    ],
                    [
                      69
                    ],
                    [
                      null
                    ],
                    [
                      55
                    ],
                    [
                      69
                    ],
                    [
                      69
                    ],
                    [
                      69
                    ],
                    [
                      65
                    ],
                    [
                      80
                    ],
                    [
                      50
                    ],
                    [
                      69
                    ],
                    [
                      69
                    ],
                    [
                      124
                    ],
                    [
                      null
                    ],
                    [
                      null
                    ],
                    [
                      69
                    ],
                    [
                      65
                    ],
                    [
                      60
                    ],
                    [
                      69
                    ],
                    [
                      72
                    ],
                    [
                      48
                    ],
                    [
                      67
                    ],
                    [
                      75
                    ],
                    [
                      55
                    ],
                    [
                      85
                    ],
                    [
                      69
                    ],
                    [
                      80
                    ],
                    [
                      91
                    ],
                    [
                      57
                    ],
                    [
                      70
                    ],
                    [
                      null
                    ],
                    [
                      57
                    ],
                    [
                      69
                    ],
                    [
                      60
                    ],
                    [
                      107
                    ],
                    [
                      null
                    ],
                    [
                      69
                    ],
                    [
                      65
                    ],
                    [
                      69
                    ],
                    [
                      50
                    ],
                    [
                      60
                    ],
                    [
                      75
                    ],
                    [
                      69
                    ],
                    [
                      24
                    ],
                    [
                      30
                    ],
                    [
                      61
                    ],
                    [
                      69
                    ],
                    [
                      65
                    ],
                    [
                      67
                    ],
                    [
                      108
                    ],
                    [
                      70
                    ],
                    [
                      69
                    ],
                    [
                      50
                    ],
                    [
                      102
                    ],
                    [
                      69
                    ],
                    [
                      85
                    ],
                    [
                      62
                    ],
                    [
                      69
                    ],
                    [
                      82
                    ],
                    [
                      69
                    ],
                    [
                      69
                    ],
                    [
                      86
                    ],
                    [
                      69
                    ],
                    [
                      59
                    ],
                    [
                      88
                    ],
                    [
                      78
                    ],
                    [
                      66
                    ],
                    [
                      44
                    ],
                    [
                      51
                    ],
                    [
                      76
                    ],
                    [
                      69
                    ],
                    [
                      50
                    ],
                    [
                      74
                    ],
                    [
                      107
                    ],
                    [
                      69
                    ],
                    [
                      null
                    ],
                    [
                      69
                    ],
                    [
                      60
                    ],
                    [
                      null
                    ],
                    [
                      null
                    ],
                    [
                      null
                    ],
                    [
                      55
                    ]
                  ],
                  "hovertemplate": "Cluster=Cluster 0<br>0=%{x}<br>1=%{y}<br>2=%{z}<br>Feature=%{customdata[0]}<extra></extra>",
                  "legendgroup": "Cluster 0",
                  "marker": {
                    "color": "#636efa",
                    "opacity": 0.7,
                    "symbol": "circle"
                  },
                  "mode": "markers",
                  "name": "Cluster 0",
                  "scene": "scene",
                  "showlegend": true,
                  "type": "scatter3d",
                  "x": [
                    -3.1513731479644775,
                    -9.993844985961914,
                    -6.197543621063232,
                    -3.09013032913208,
                    -7.286470413208008,
                    -5.435294151306152,
                    -1.768851637840271,
                    -3.0428409576416016,
                    -10.938823699951172,
                    -7.480226516723633,
                    2.7234232425689697,
                    -6.397696018218994,
                    -5.117404937744141,
                    -6.509449005126953,
                    -6.09858512878418,
                    -4.782675743103027,
                    0.7652095556259155,
                    5.907861709594727,
                    -7.18501091003418,
                    2.030853748321533,
                    -1.845425009727478,
                    -1.4143732786178589,
                    5.6464104652404785,
                    -5.301529407501221,
                    4.117849349975586,
                    1.7775310277938843,
                    -5.843212127685547,
                    4.725874900817871,
                    5.094813346862793,
                    -2.4542956352233887,
                    -4.4037652015686035,
                    -7.657398223876953,
                    -4.915830612182617,
                    2.3091108798980713,
                    -12.68727970123291,
                    -9.091809272766113,
                    -6.5195536613464355,
                    -8.938844680786133,
                    0.9378696084022522,
                    -0.594856321811676,
                    2.4292802810668945,
                    2.395141839981079,
                    -8.803457260131836,
                    6.274755001068115,
                    4.362642288208008,
                    -2.554790496826172,
                    -3.6396336555480957,
                    -8.156509399414062,
                    1.2839089632034302,
                    -4.382181167602539,
                    -13.144519805908203,
                    -4.532543659210205,
                    -5.989931106567383,
                    -14.093603134155273,
                    -2.010165214538574,
                    0.4308214783668518,
                    -13.836191177368164,
                    3.1001834869384766,
                    -3.917802333831787,
                    4.746842384338379,
                    -6.241426467895508,
                    -9.656867027282715,
                    -7.440417766571045,
                    0.8019316792488098,
                    -2.221644639968872,
                    -3.969886302947998,
                    6.888240814208984,
                    -4.297484874725342,
                    -5.519014835357666,
                    -0.7192488312721252,
                    -2.4764811992645264,
                    -4.908137321472168,
                    -7.641479015350342,
                    3.5249454975128174,
                    -1.3252406120300293,
                    -5.058435916900635,
                    -6.736310958862305,
                    -4.203130722045898,
                    -9.514609336853027,
                    -8.294471740722656,
                    4.344114303588867,
                    -4.588050365447998,
                    -9.197360038757324,
                    3.541748523712158,
                    -3.9513633251190186,
                    -4.71264123916626,
                    -5.241102695465088,
                    -0.5572166442871094,
                    4.897968292236328,
                    -8.786554336547852,
                    -10.566705703735352,
                    -8.377058029174805,
                    -9.997218132019043,
                    5.625617504119873,
                    -2.9468445777893066,
                    0.7722283005714417,
                    -6.016299247741699,
                    -5.447351932525635,
                    -2.4698598384857178,
                    -8.907753944396973,
                    1.3025915622711182,
                    -3.6681911945343018,
                    -7.842374801635742,
                    -9.894691467285156,
                    -2.053900718688965,
                    -7.092820644378662,
                    5.133849620819092,
                    -3.0236217975616455,
                    -6.689371109008789,
                    -4.868894100189209,
                    -9.012711524963379,
                    -8.226151466369629,
                    2.0516419410705566,
                    4.753374099731445,
                    4.0627288818359375,
                    0.8497053384780884,
                    2.7020370960235596,
                    -1.4328380823135376,
                    -7.12801456451416,
                    2.9542007446289062,
                    -3.429203510284424,
                    -7.063991069793701,
                    5.543218612670898,
                    -6.643157958984375,
                    2.1681225299835205,
                    -8.993114471435547,
                    -6.69078254699707,
                    -5.807041645050049,
                    -11.91320514678955,
                    -7.848803997039795,
                    -11.654526710510254,
                    -12.197514533996582,
                    -8.363390922546387,
                    1.647249698638916,
                    -2.629422426223755,
                    -9.34423542022705,
                    -1.2687450647354126,
                    6.8982086181640625,
                    -2.9907186031341553,
                    -1.0781760215759277,
                    -12.582173347473145,
                    -5.7456793785095215,
                    -14.751145362854004,
                    -3.0592689514160156,
                    3.999162197113037,
                    -6.547949314117432,
                    -3.4143917560577393,
                    -1.2878375053405762,
                    -3.1888742446899414,
                    -8.228671073913574,
                    -7.853516101837158,
                    0.6731023788452148,
                    -8.35412311553955,
                    -11.260871887207031,
                    -5.309938430786133,
                    -8.456600189208984,
                    4.9428935050964355,
                    -6.501491069793701,
                    -5.306219577789307,
                    3.1095352172851562,
                    -3.643888235092163,
                    -7.963345527648926,
                    -8.62437915802002,
                    4.060380458831787,
                    -8.129382133483887,
                    7.357436180114746,
                    -2.394473075866699,
                    -0.22026923298835754,
                    2.951809883117676,
                    1.4189395904541016,
                    -10.806243896484375,
                    -0.15303297340869904,
                    2.0950279235839844,
                    -0.8410815596580505,
                    -3.1639554500579834,
                    -7.12216329574585,
                    1.4539153575897217,
                    -7.804664611816406,
                    -6.454757213592529,
                    -9.340538024902344,
                    -4.670141220092773,
                    1.7821316719055176,
                    -10.421891212463379,
                    -0.46910059452056885,
                    0.4459346830844879,
                    -2.4997079372406006,
                    -0.06299222260713577,
                    -2.321653366088867,
                    -7.2791290283203125,
                    -10.522004127502441,
                    4.6469197273254395,
                    -4.106096267700195,
                    -2.5616097450256348,
                    -10.668795585632324,
                    -8.26117992401123,
                    -1.2869021892547607,
                    -11.574012756347656,
                    -14.2953519821167,
                    -6.026769161224365,
                    4.189517974853516,
                    -2.130621910095215,
                    -8.25284481048584,
                    3.923095703125,
                    -5.6170125007629395,
                    -11.046417236328125,
                    -8.645716667175293,
                    -7.879953861236572,
                    -2.891336679458618,
                    0.2261233627796173,
                    -7.758998870849609,
                    0.6336812376976013,
                    -3.7684309482574463,
                    -7.214686870574951,
                    -1.3125942945480347,
                    5.951560020446777,
                    -3.9528818130493164,
                    -2.5537590980529785,
                    -9.863428115844727,
                    -4.545839786529541,
                    -7.2324604988098145,
                    -6.096027851104736,
                    1.3266195058822632,
                    1.1689047813415527,
                    6.4543352127075195,
                    -11.722448348999023,
                    -10.28889274597168,
                    -2.5168793201446533,
                    -3.4683663845062256,
                    -5.926094055175781,
                    -6.841536045074463,
                    1.1536604166030884,
                    6.034296035766602,
                    -7.467015266418457,
                    -6.210522651672363,
                    -0.6090205311775208,
                    -0.6667836308479309,
                    -8.089181900024414,
                    -8.97988224029541,
                    -0.08701948821544647,
                    4.405021667480469,
                    -0.8511511087417603,
                    5.823291778564453,
                    -10.964444160461426,
                    -9.013736724853516,
                    -1.0566167831420898,
                    -0.276732474565506,
                    3.8210060596466064,
                    -1.901478886604309,
                    -3.120967149734497,
                    -6.361560344696045,
                    -1.8019568920135498,
                    -4.698281288146973,
                    -2.6353721618652344,
                    5.570249080657959,
                    -4.901098251342773,
                    -7.076773643493652,
                    0.1424236297607422,
                    -9.30244255065918,
                    -2.5453755855560303,
                    -11.483344078063965,
                    2.655951976776123,
                    3.7882587909698486,
                    0.19451355934143066,
                    5.109184741973877,
                    4.329596519470215,
                    -9.37168025970459,
                    -8.274341583251953,
                    -1.9183604717254639,
                    -0.057840555906295776,
                    -8.128973007202148
                  ],
                  "y": [
                    0.17449140548706055,
                    9.688142776489258,
                    -0.699537456035614,
                    9.286806106567383,
                    4.639934062957764,
                    1.9672682285308838,
                    -3.6235270500183105,
                    -0.21791645884513855,
                    0.30847474932670593,
                    10.428162574768066,
                    3.085102081298828,
                    -1.2090586423873901,
                    4.79734468460083,
                    11.887002944946289,
                    9.618896484375,
                    6.494273662567139,
                    16.10104751586914,
                    3.512744903564453,
                    2.8533618450164795,
                    7.648974418640137,
                    3.3500542640686035,
                    10.037753105163574,
                    1.4645313024520874,
                    0.8751514554023743,
                    7.304367542266846,
                    0.3018156886100769,
                    6.386464595794678,
                    -1.9754559993743896,
                    -1.6918911933898926,
                    8.853614807128906,
                    1.366882562637329,
                    9.526626586914062,
                    4.793798446655273,
                    6.515375137329102,
                    7.124507904052734,
                    11.699565887451172,
                    -2.386512517929077,
                    8.081820487976074,
                    -0.8130923509597778,
                    -3.289247989654541,
                    0.9713878035545349,
                    -2.2145063877105713,
                    6.896031379699707,
                    0.9066742062568665,
                    5.0413665771484375,
                    0.34622612595558167,
                    2.3149454593658447,
                    4.41265344619751,
                    7.188730716705322,
                    1.0994300842285156,
                    4.486151695251465,
                    5.611219882965088,
                    11.968649864196777,
                    2.8803060054779053,
                    8.868059158325195,
                    15.210901260375977,
                    4.712874889373779,
                    2.4745728969573975,
                    -2.9139294624328613,
                    6.3271708488464355,
                    2.7202389240264893,
                    10.608315467834473,
                    0.5718631744384766,
                    17.249021530151367,
                    -2.504530906677246,
                    16.55596160888672,
                    9.579338073730469,
                    2.8712832927703857,
                    3.092695713043213,
                    8.210014343261719,
                    4.0370192527771,
                    -0.36718374490737915,
                    12.712363243103027,
                    1.178876280784607,
                    0.876720666885376,
                    -1.2119897603988647,
                    6.012231349945068,
                    0.5611962080001831,
                    9.818877220153809,
                    10.590699195861816,
                    7.306495189666748,
                    3.0211431980133057,
                    13.706427574157715,
                    4.680972576141357,
                    -1.4445618391036987,
                    12.820514678955078,
                    2.503943681716919,
                    3.004666328430176,
                    1.9146708250045776,
                    -2.86725115776062,
                    2.02900767326355,
                    9.03948974609375,
                    1.707411766052246,
                    1.248904824256897,
                    -0.548189103603363,
                    10.790491104125977,
                    11.861655235290527,
                    3.461229085922241,
                    8.36445140838623,
                    11.118134498596191,
                    7.786738395690918,
                    6.7336859703063965,
                    -0.1671231985092163,
                    -3.0139288902282715,
                    9.619429588317871,
                    -3.664689302444458,
                    4.787491798400879,
                    9.603865623474121,
                    9.07097053527832,
                    -1.234724521636963,
                    3.301097869873047,
                    7.537539958953857,
                    3.1943936347961426,
                    0.611762523651123,
                    1.9304604530334473,
                    2.082552671432495,
                    4.674062728881836,
                    2.4936270713806152,
                    10.591535568237305,
                    -0.3636329174041748,
                    16.190296173095703,
                    -3.380434513092041,
                    5.562533855438232,
                    10.180397987365723,
                    5.395609378814697,
                    2.629575252532959,
                    6.2832536697387695,
                    11.668486595153809,
                    4.111833572387695,
                    6.799478054046631,
                    1.2778986692428589,
                    3.8011181354522705,
                    1.8529517650604248,
                    7.030261039733887,
                    -4.104865074157715,
                    13.28648567199707,
                    6.83676290512085,
                    9.582207679748535,
                    10.601449012756348,
                    7.049271583557129,
                    6.587615013122559,
                    7.763008117675781,
                    1.5862380266189575,
                    2.69757342338562,
                    2.0380284786224365,
                    7.280036926269531,
                    8.337141990661621,
                    4.6348185539245605,
                    9.04937744140625,
                    10.312744140625,
                    9.88832950592041,
                    16.232147216796875,
                    -0.752781867980957,
                    2.12862229347229,
                    12.67232894897461,
                    0.16545917093753815,
                    3.5738730430603027,
                    1.4950237274169922,
                    -3.296043872833252,
                    8.738616943359375,
                    1.3194864988327026,
                    -2.0917985439300537,
                    9.597005844116211,
                    0.10698240250349045,
                    2.875605821609497,
                    1.5432206392288208,
                    0.6324707865715027,
                    17.323326110839844,
                    0.32303673028945923,
                    3.7641985416412354,
                    4.641381740570068,
                    11.289111137390137,
                    4.536156177520752,
                    15.977275848388672,
                    8.815251350402832,
                    10.793778419494629,
                    5.7397966384887695,
                    7.991469860076904,
                    -1.3131030797958374,
                    -3.0137410163879395,
                    10.485471725463867,
                    5.198151588439941,
                    8.74503231048584,
                    15.617074966430664,
                    10.760173797607422,
                    4.626109600067139,
                    0.18217088282108307,
                    7.765068531036377,
                    1.7820353507995605,
                    -0.029461897909641266,
                    -1.1532412767410278,
                    -0.3053707778453827,
                    -2.479288339614868,
                    8.660124778747559,
                    -3.8018105030059814,
                    -1.6186569929122925,
                    5.291936874389648,
                    5.637513160705566,
                    1.6467429399490356,
                    0.3414508104324341,
                    3.2713468074798584,
                    -3.1922261714935303,
                    5.204188823699951,
                    11.389280319213867,
                    4.520843505859375,
                    9.051884651184082,
                    1.7538402080535889,
                    4.834228038787842,
                    10.170098304748535,
                    3.7661924362182617,
                    1.9870872497558594,
                    16.811037063598633,
                    -2.1402547359466553,
                    3.687732219696045,
                    2.232499361038208,
                    -0.9803199768066406,
                    -1.257198691368103,
                    1.6286921501159668,
                    0.46528634428977966,
                    0.04822629690170288,
                    -3.626760721206665,
                    3.3457717895507812,
                    16.045087814331055,
                    0.7664861083030701,
                    0.10258690267801285,
                    4.293158531188965,
                    4.09283971786499,
                    4.065276622772217,
                    6.94937801361084,
                    -4.680395126342773,
                    0.5501796007156372,
                    3.4449169635772705,
                    3.608372449874878,
                    2.15378737449646,
                    7.422874450683594,
                    17.08736228942871,
                    11.548347473144531,
                    -2.383441209793091,
                    7.824877738952637,
                    1.9271577596664429,
                    7.362090587615967,
                    3.7589502334594727,
                    5.471059322357178,
                    -3.1707072257995605,
                    16.73688507080078,
                    5.570925712585449,
                    1.04595947265625,
                    2.777266263961792,
                    -1.7532117366790771,
                    10.107940673828125,
                    3.870037794113159,
                    12.692739486694336,
                    4.048811912536621,
                    3.286728858947754,
                    -1.5788217782974243,
                    2.946099042892456,
                    3.0503952503204346,
                    2.3182570934295654,
                    3.39084792137146,
                    -0.408504843711853,
                    1.5235061645507812,
                    1.8520795106887817,
                    2.474929094314575,
                    3.0187418460845947,
                    4.257155418395996,
                    -0.20754842460155487,
                    7.311058521270752,
                    -1.392290472984314,
                    -1.1977320909500122,
                    12.572752952575684
                  ],
                  "z": [
                    -20.56060791015625,
                    -16.595325469970703,
                    -24.230607986450195,
                    -18.216140747070312,
                    -12.874306678771973,
                    -13.907954216003418,
                    -25.0272216796875,
                    -24.772377014160156,
                    -20.691198348999023,
                    -21.462034225463867,
                    -12.982532501220703,
                    -22.2436466217041,
                    -14.370588302612305,
                    -16.15839958190918,
                    -17.71613883972168,
                    -20.637760162353516,
                    -13.39909553527832,
                    -15.242708206176758,
                    -24.408294677734375,
                    -9.516857147216797,
                    -15.556929588317871,
                    -7.372721195220947,
                    -12.992703437805176,
                    -12.869659423828125,
                    -16.486522674560547,
                    -13.61381721496582,
                    -22.719711303710938,
                    -13.867401123046875,
                    -13.70281982421875,
                    -13.35947036743164,
                    -11.694137573242188,
                    -21.885000228881836,
                    -13.558609962463379,
                    -12.910530090332031,
                    -12.308267593383789,
                    -22.975032806396484,
                    -20.37903594970703,
                    -17.70864486694336,
                    -10.117212295532227,
                    -24.585538864135742,
                    -10.840959548950195,
                    -13.881229400634766,
                    -17.972286224365234,
                    -15.36025333404541,
                    -16.13515853881836,
                    -22.09210777282715,
                    -13.11229419708252,
                    -20.025501251220703,
                    -6.620689868927002,
                    -22.40544319152832,
                    -20.747058868408203,
                    -14.180447578430176,
                    -15.985784530639648,
                    -21.067533493041992,
                    -12.922096252441406,
                    -14.470067977905273,
                    -21.09959602355957,
                    -17.010879516601562,
                    -23.019254684448242,
                    -16.11420249938965,
                    -15.468774795532227,
                    -22.348491668701172,
                    -18.471826553344727,
                    -14.519010543823242,
                    -25.983718872070312,
                    -17.74808692932129,
                    -13.453235626220703,
                    -15.029308319091797,
                    -4.010343551635742,
                    -18.70348358154297,
                    -5.775940418243408,
                    -20.1773624420166,
                    -16.143592834472656,
                    -14.945710182189941,
                    -12.755144119262695,
                    -25.225439071655273,
                    -21.832406997680664,
                    -17.93330192565918,
                    -23.407424926757812,
                    -22.649906158447266,
                    -9.203841209411621,
                    -12.195480346679688,
                    -14.704931259155273,
                    -14.896063804626465,
                    -22.949848175048828,
                    -11.9478178024292,
                    -20.36083221435547,
                    -13.280203819274902,
                    -15.307293891906738,
                    -22.971332550048828,
                    -22.48000144958496,
                    -24.38014793395996,
                    -16.753751754760742,
                    -17.60474967956543,
                    -23.448623657226562,
                    -15.56003475189209,
                    -13.673453330993652,
                    -12.67255687713623,
                    -10.775805473327637,
                    -24.234943389892578,
                    -4.898960590362549,
                    -11.712434768676758,
                    -21.41954803466797,
                    -21.50075912475586,
                    -8.52739143371582,
                    -22.56317710876465,
                    -8.913057327270508,
                    -17.76810646057129,
                    -23.05988311767578,
                    -19.308956146240234,
                    -16.745407104492188,
                    -11.806188583374023,
                    -18.070022583007812,
                    -14.204553604125977,
                    -14.125079154968262,
                    -14.163472175598145,
                    -9.602136611938477,
                    -14.840980529785156,
                    -15.814225196838379,
                    -15.373115539550781,
                    -18.118305206298828,
                    -24.023998260498047,
                    -16.346166610717773,
                    -22.885618209838867,
                    -16.67339515686035,
                    -20.271879196166992,
                    -21.93312644958496,
                    -18.77102279663086,
                    -18.74339485168457,
                    -10.588386535644531,
                    -17.47397232055664,
                    -18.479263305664062,
                    -14.211165428161621,
                    -19.388906478881836,
                    -24.82088851928711,
                    -13.82506275177002,
                    -21.84833335876465,
                    -13.440505027770996,
                    -16.78597640991211,
                    -21.57444190979004,
                    -20.579017639160156,
                    -18.349834442138672,
                    -20.705408096313477,
                    -13.880989074707031,
                    -12.892953872680664,
                    -20.26304054260254,
                    -15.319747924804688,
                    -13.447441101074219,
                    -16.174785614013672,
                    -16.401580810546875,
                    -24.78852081298828,
                    -15.778634071350098,
                    -17.915361404418945,
                    -17.0699520111084,
                    -11.542376518249512,
                    -22.501041412353516,
                    -2.163562059402466,
                    -18.579504013061523,
                    -25.51021385192871,
                    -16.890722274780273,
                    -15.986857414245605,
                    -20.78533172607422,
                    -20.914737701416016,
                    -15.627477645874023,
                    -19.11440658569336,
                    -14.052166938781738,
                    -12.442156791687012,
                    -13.923450469970703,
                    -13.70238208770752,
                    -13.68619155883789,
                    -23.278671264648438,
                    -14.92717170715332,
                    -2.8037490844726562,
                    -15.262219429016113,
                    -16.742483139038086,
                    -14.590694427490234,
                    -12.17302417755127,
                    -11.175214767456055,
                    -23.134916305541992,
                    -20.055124282836914,
                    -20.365394592285156,
                    -15.44338607788086,
                    -16.418725967407227,
                    -13.585836410522461,
                    -15.824132919311523,
                    -12.287638664245605,
                    -12.332677841186523,
                    -4.637658596038818,
                    -18.514728546142578,
                    -18.86734962463379,
                    -16.653146743774414,
                    -18.197288513183594,
                    -20.726274490356445,
                    -16.967893600463867,
                    -25.61684799194336,
                    -23.395681381225586,
                    -20.652807235717773,
                    -21.253341674804688,
                    -22.426252365112305,
                    -11.910833358764648,
                    -12.538764953613281,
                    -22.261507034301758,
                    -1.855609655380249,
                    -18.883312225341797,
                    -18.795154571533203,
                    -21.93349266052246,
                    -20.754192352294922,
                    -3.5925776958465576,
                    -17.00660514831543,
                    -14.788765907287598,
                    -13.298057556152344,
                    -18.276891708374023,
                    -24.94510269165039,
                    -6.241576671600342,
                    -5.98784065246582,
                    -21.665029525756836,
                    -23.142763137817383,
                    -20.111286163330078,
                    -18.99729347229004,
                    -22.650535583496094,
                    -23.89688491821289,
                    -17.66787338256836,
                    -14.406615257263184,
                    -16.606800079345703,
                    -17.81743049621582,
                    -20.685306549072266,
                    -13.561421394348145,
                    -4.759643077850342,
                    -20.34972381591797,
                    -23.8773136138916,
                    -9.118327140808105,
                    -16.374902725219727,
                    -24.190147399902344,
                    -20.490131378173828,
                    -20.57413673400879,
                    -15.494948387145996,
                    -24.038631439208984,
                    -16.612258911132812,
                    -19.30333709716797,
                    -17.609758377075195,
                    -16.5627498626709,
                    -10.678548812866211,
                    -23.499454498291016,
                    -24.52092933654785,
                    -13.962600708007812,
                    -14.079413414001465,
                    -17.629594802856445,
                    -10.816156387329102,
                    -25.12885093688965,
                    -5.775996208190918,
                    -10.420313835144043,
                    -12.715213775634766,
                    -14.552732467651367,
                    -11.383414268493652,
                    -19.90647315979004,
                    -14.502723693847656,
                    -17.59441375732422,
                    -22.160442352294922,
                    -17.085264205932617,
                    -21.11766242980957,
                    -16.63849639892578,
                    1.1603485345840454,
                    -10.580328941345215,
                    -13.615053176879883,
                    -18.34357261657715,
                    -18.802080154418945,
                    -10.842796325683594,
                    3.0235815048217773,
                    -23.080013275146484,
                    -16.596872329711914
                  ]
                },
                {
                  "customdata": [
                    [
                      76
                    ],
                    [
                      52
                    ],
                    [
                      94
                    ],
                    [
                      70
                    ],
                    [
                      71
                    ],
                    [
                      80
                    ],
                    [
                      75
                    ],
                    [
                      69
                    ],
                    [
                      65
                    ],
                    [
                      24
                    ],
                    [
                      60
                    ],
                    [
                      100
                    ],
                    [
                      60
                    ],
                    [
                      82
                    ],
                    [
                      82
                    ],
                    [
                      60
                    ],
                    [
                      110
                    ],
                    [
                      69
                    ],
                    [
                      86
                    ],
                    [
                      null
                    ],
                    [
                      null
                    ],
                    [
                      null
                    ],
                    [
                      62
                    ],
                    [
                      59
                    ],
                    [
                      49
                    ],
                    [
                      83
                    ],
                    [
                      50
                    ],
                    [
                      90
                    ],
                    [
                      24
                    ],
                    [
                      null
                    ],
                    [
                      69
                    ],
                    [
                      64
                    ],
                    [
                      69
                    ],
                    [
                      60
                    ],
                    [
                      54
                    ],
                    [
                      65
                    ],
                    [
                      null
                    ],
                    [
                      75
                    ],
                    [
                      60
                    ],
                    [
                      null
                    ],
                    [
                      44
                    ],
                    [
                      43
                    ],
                    [
                      35
                    ],
                    [
                      92
                    ],
                    [
                      63
                    ],
                    [
                      107
                    ],
                    [
                      76
                    ],
                    [
                      98
                    ],
                    [
                      60
                    ],
                    [
                      69
                    ],
                    [
                      128
                    ],
                    [
                      75
                    ],
                    [
                      52
                    ],
                    [
                      69
                    ],
                    [
                      60
                    ],
                    [
                      60
                    ],
                    [
                      85
                    ],
                    [
                      69
                    ],
                    [
                      69
                    ],
                    [
                      90
                    ],
                    [
                      80
                    ],
                    [
                      21
                    ],
                    [
                      69
                    ],
                    [
                      69
                    ],
                    [
                      87
                    ],
                    [
                      69
                    ],
                    [
                      60
                    ],
                    [
                      43
                    ],
                    [
                      69
                    ],
                    [
                      92
                    ],
                    [
                      69
                    ],
                    [
                      44
                    ],
                    [
                      76
                    ],
                    [
                      104
                    ],
                    [
                      79
                    ],
                    [
                      21
                    ],
                    [
                      43
                    ],
                    [
                      69
                    ],
                    [
                      61
                    ],
                    [
                      69
                    ],
                    [
                      69
                    ],
                    [
                      71
                    ],
                    [
                      110
                    ],
                    [
                      50
                    ],
                    [
                      69
                    ],
                    [
                      100
                    ],
                    [
                      75
                    ],
                    [
                      70
                    ],
                    [
                      30
                    ],
                    [
                      60
                    ],
                    [
                      40
                    ],
                    [
                      74
                    ],
                    [
                      65
                    ],
                    [
                      60
                    ],
                    [
                      65
                    ],
                    [
                      53
                    ],
                    [
                      75
                    ],
                    [
                      88
                    ],
                    [
                      64
                    ],
                    [
                      69
                    ],
                    [
                      null
                    ],
                    [
                      69
                    ],
                    [
                      64
                    ],
                    [
                      50
                    ],
                    [
                      70
                    ],
                    [
                      69
                    ],
                    [
                      69
                    ],
                    [
                      98
                    ],
                    [
                      73
                    ],
                    [
                      72
                    ],
                    [
                      73
                    ],
                    [
                      53
                    ],
                    [
                      67
                    ],
                    [
                      75
                    ],
                    [
                      103
                    ],
                    [
                      80
                    ],
                    [
                      69
                    ],
                    [
                      86
                    ],
                    [
                      90
                    ],
                    [
                      null
                    ],
                    [
                      51
                    ],
                    [
                      null
                    ],
                    [
                      70
                    ],
                    [
                      53
                    ],
                    [
                      80
                    ],
                    [
                      52
                    ],
                    [
                      null
                    ],
                    [
                      39
                    ],
                    [
                      80
                    ],
                    [
                      null
                    ],
                    [
                      69
                    ],
                    [
                      61
                    ],
                    [
                      75
                    ],
                    [
                      65
                    ],
                    [
                      69
                    ],
                    [
                      81
                    ],
                    [
                      48
                    ],
                    [
                      24
                    ],
                    [
                      69
                    ],
                    [
                      50
                    ],
                    [
                      null
                    ],
                    [
                      49
                    ],
                    [
                      72
                    ],
                    [
                      36
                    ],
                    [
                      70
                    ],
                    [
                      58
                    ],
                    [
                      75
                    ],
                    [
                      71
                    ],
                    [
                      80
                    ],
                    [
                      78
                    ],
                    [
                      60
                    ],
                    [
                      96
                    ],
                    [
                      69
                    ],
                    [
                      69
                    ],
                    [
                      70
                    ],
                    [
                      90
                    ],
                    [
                      null
                    ],
                    [
                      69
                    ],
                    [
                      69
                    ],
                    [
                      69
                    ],
                    [
                      null
                    ],
                    [
                      77
                    ],
                    [
                      69
                    ],
                    [
                      60
                    ],
                    [
                      null
                    ],
                    [
                      null
                    ],
                    [
                      70
                    ],
                    [
                      52
                    ],
                    [
                      null
                    ],
                    [
                      91
                    ],
                    [
                      72
                    ],
                    [
                      70
                    ],
                    [
                      76
                    ],
                    [
                      83
                    ],
                    [
                      69
                    ],
                    [
                      69
                    ],
                    [
                      null
                    ],
                    [
                      78
                    ],
                    [
                      36
                    ],
                    [
                      24
                    ],
                    [
                      82
                    ],
                    [
                      80
                    ],
                    [
                      66
                    ],
                    [
                      69
                    ],
                    [
                      50
                    ],
                    [
                      null
                    ],
                    [
                      45
                    ],
                    [
                      129
                    ],
                    [
                      80
                    ],
                    [
                      92
                    ],
                    [
                      73
                    ],
                    [
                      74
                    ],
                    [
                      71
                    ],
                    [
                      60
                    ],
                    [
                      92
                    ],
                    [
                      69
                    ],
                    [
                      109
                    ],
                    [
                      60
                    ],
                    [
                      69
                    ],
                    [
                      69
                    ],
                    [
                      79
                    ],
                    [
                      120
                    ],
                    [
                      118
                    ],
                    [
                      65
                    ],
                    [
                      35
                    ],
                    [
                      69
                    ],
                    [
                      72
                    ],
                    [
                      null
                    ],
                    [
                      69
                    ],
                    [
                      37
                    ],
                    [
                      69
                    ],
                    [
                      88
                    ],
                    [
                      95
                    ],
                    [
                      82
                    ],
                    [
                      134
                    ],
                    [
                      94
                    ],
                    [
                      69
                    ],
                    [
                      70
                    ],
                    [
                      69
                    ],
                    [
                      116
                    ],
                    [
                      100
                    ],
                    [
                      70
                    ],
                    [
                      118
                    ],
                    [
                      80
                    ],
                    [
                      69
                    ],
                    [
                      80
                    ],
                    [
                      52
                    ],
                    [
                      69
                    ],
                    [
                      37
                    ],
                    [
                      48
                    ],
                    [
                      60
                    ],
                    [
                      77
                    ],
                    [
                      null
                    ],
                    [
                      47
                    ],
                    [
                      null
                    ],
                    [
                      52
                    ],
                    [
                      108
                    ],
                    [
                      null
                    ],
                    [
                      35
                    ],
                    [
                      74
                    ],
                    [
                      75
                    ],
                    [
                      69
                    ],
                    [
                      75
                    ],
                    [
                      75
                    ],
                    [
                      50
                    ],
                    [
                      94
                    ],
                    [
                      78
                    ],
                    [
                      90
                    ],
                    [
                      60
                    ],
                    [
                      68
                    ],
                    [
                      41
                    ],
                    [
                      85
                    ],
                    [
                      60
                    ],
                    [
                      69
                    ],
                    [
                      70
                    ],
                    [
                      61
                    ],
                    [
                      77
                    ],
                    [
                      54
                    ],
                    [
                      86
                    ],
                    [
                      69
                    ],
                    [
                      84
                    ],
                    [
                      60
                    ],
                    [
                      60
                    ],
                    [
                      72
                    ],
                    [
                      69
                    ],
                    [
                      null
                    ],
                    [
                      60
                    ],
                    [
                      55
                    ],
                    [
                      34
                    ],
                    [
                      95
                    ],
                    [
                      78
                    ],
                    [
                      69
                    ],
                    [
                      75
                    ],
                    [
                      69
                    ],
                    [
                      69
                    ],
                    [
                      75
                    ],
                    [
                      60
                    ],
                    [
                      null
                    ],
                    [
                      21
                    ],
                    [
                      null
                    ],
                    [
                      69
                    ],
                    [
                      50
                    ],
                    [
                      60
                    ],
                    [
                      107
                    ],
                    [
                      73
                    ],
                    [
                      121
                    ],
                    [
                      43
                    ],
                    [
                      92
                    ],
                    [
                      60
                    ],
                    [
                      103
                    ],
                    [
                      86
                    ],
                    [
                      null
                    ],
                    [
                      70
                    ],
                    [
                      60
                    ],
                    [
                      65
                    ],
                    [
                      72
                    ],
                    [
                      70
                    ],
                    [
                      34
                    ],
                    [
                      75
                    ],
                    [
                      89
                    ],
                    [
                      75
                    ],
                    [
                      182
                    ],
                    [
                      74
                    ],
                    [
                      69
                    ],
                    [
                      73
                    ],
                    [
                      null
                    ],
                    [
                      85
                    ],
                    [
                      69
                    ],
                    [
                      50
                    ],
                    [
                      69
                    ],
                    [
                      80
                    ],
                    [
                      63
                    ],
                    [
                      51
                    ],
                    [
                      78
                    ],
                    [
                      66
                    ],
                    [
                      null
                    ],
                    [
                      78
                    ],
                    [
                      50
                    ],
                    [
                      75
                    ],
                    [
                      44
                    ],
                    [
                      60
                    ],
                    [
                      110
                    ],
                    [
                      98
                    ],
                    [
                      null
                    ],
                    [
                      71
                    ],
                    [
                      65
                    ],
                    [
                      69
                    ],
                    [
                      60
                    ],
                    [
                      50
                    ],
                    [
                      69
                    ],
                    [
                      60
                    ],
                    [
                      69
                    ],
                    [
                      80
                    ],
                    [
                      48
                    ],
                    [
                      24
                    ],
                    [
                      88
                    ],
                    [
                      69
                    ],
                    [
                      137
                    ],
                    [
                      73
                    ],
                    [
                      55
                    ],
                    [
                      70
                    ],
                    [
                      69
                    ],
                    [
                      34
                    ],
                    [
                      50
                    ],
                    [
                      43
                    ],
                    [
                      70
                    ],
                    [
                      21
                    ],
                    [
                      57
                    ],
                    [
                      100
                    ],
                    [
                      69
                    ],
                    [
                      68
                    ],
                    [
                      75
                    ],
                    [
                      69
                    ],
                    [
                      80
                    ],
                    [
                      69
                    ],
                    [
                      69
                    ],
                    [
                      43
                    ],
                    [
                      93
                    ],
                    [
                      70
                    ],
                    [
                      null
                    ],
                    [
                      63
                    ],
                    [
                      69
                    ],
                    [
                      60
                    ],
                    [
                      85
                    ],
                    [
                      57
                    ],
                    [
                      91
                    ],
                    [
                      70
                    ],
                    [
                      86
                    ],
                    [
                      47
                    ],
                    [
                      66
                    ],
                    [
                      69
                    ],
                    [
                      90
                    ],
                    [
                      70
                    ],
                    [
                      84
                    ],
                    [
                      110
                    ],
                    [
                      61
                    ],
                    [
                      69
                    ],
                    [
                      85
                    ],
                    [
                      null
                    ],
                    [
                      69
                    ],
                    [
                      80
                    ],
                    [
                      32
                    ],
                    [
                      60
                    ],
                    [
                      24
                    ],
                    [
                      52
                    ],
                    [
                      59
                    ],
                    [
                      48
                    ],
                    [
                      66
                    ],
                    [
                      85
                    ],
                    [
                      60
                    ],
                    [
                      80
                    ],
                    [
                      60
                    ],
                    [
                      83
                    ],
                    [
                      112
                    ],
                    [
                      null
                    ],
                    [
                      37
                    ],
                    [
                      74
                    ],
                    [
                      68
                    ],
                    [
                      null
                    ],
                    [
                      65
                    ],
                    [
                      69
                    ],
                    [
                      84
                    ],
                    [
                      79
                    ],
                    [
                      69
                    ],
                    [
                      78
                    ],
                    [
                      98
                    ],
                    [
                      168
                    ],
                    [
                      60
                    ],
                    [
                      115
                    ],
                    [
                      69
                    ],
                    [
                      75
                    ],
                    [
                      73
                    ],
                    [
                      50
                    ],
                    [
                      75
                    ]
                  ],
                  "hovertemplate": "Cluster=Cluster 1<br>0=%{x}<br>1=%{y}<br>2=%{z}<br>Feature=%{customdata[0]}<extra></extra>",
                  "legendgroup": "Cluster 1",
                  "marker": {
                    "color": "#EF553B",
                    "opacity": 0.7,
                    "symbol": "circle"
                  },
                  "mode": "markers",
                  "name": "Cluster 1",
                  "scene": "scene",
                  "showlegend": true,
                  "type": "scatter3d",
                  "x": [
                    -12.855870246887207,
                    -1.434219479560852,
                    -10.612194061279297,
                    2.6424248218536377,
                    -6.231013774871826,
                    -8.4967622756958,
                    -4.450957775115967,
                    8.584954261779785,
                    -0.859126091003418,
                    1.7286310195922852,
                    3.9762237071990967,
                    -9.56874942779541,
                    -3.631197214126587,
                    3.454582929611206,
                    4.846180438995361,
                    6.766702651977539,
                    -10.844930648803711,
                    2.626664876937866,
                    -7.848184108734131,
                    -7.954634189605713,
                    -3.927001714706421,
                    -10.73437786102295,
                    9.101766586303711,
                    -10.757519721984863,
                    -4.025222301483154,
                    3.5893399715423584,
                    0.29283908009529114,
                    -0.6308680176734924,
                    -0.08103472739458084,
                    -12.282099723815918,
                    -3.4636380672454834,
                    5.25809907913208,
                    -4.230764865875244,
                    -0.49698758125305176,
                    3.7799649238586426,
                    0.7104682326316833,
                    -9.098260879516602,
                    -1.9732086658477783,
                    0.19497720897197723,
                    5.198980331420898,
                    8.15178394317627,
                    5.6358537673950195,
                    -6.6915082931518555,
                    -4.097167491912842,
                    -4.103262424468994,
                    -1.483383297920227,
                    1.7834736108779907,
                    -0.8499031662940979,
                    -10.922131538391113,
                    -3.5428643226623535,
                    2.3632185459136963,
                    -10.851594924926758,
                    -8.9132080078125,
                    1.7673287391662598,
                    4.467135429382324,
                    0.4952215850353241,
                    -8.884018898010254,
                    -1.106368899345398,
                    -8.416215896606445,
                    -10.530604362487793,
                    -2.997274160385132,
                    -9.228629112243652,
                    4.703041076660156,
                    -1.665753960609436,
                    -1.3991001844406128,
                    3.1364877223968506,
                    -5.158285617828369,
                    1.9147672653198242,
                    -2.09562087059021,
                    -5.10552453994751,
                    -0.6511964201927185,
                    0.10052161663770676,
                    -1.6452754735946655,
                    -5.71914529800415,
                    -1.848306655883789,
                    4.39613151550293,
                    5.900784015655518,
                    -2.1728386878967285,
                    -1.0785490274429321,
                    -3.2024872303009033,
                    -4.076132297515869,
                    0.07343682646751404,
                    1.8670307397842407,
                    10.008591651916504,
                    -2.2088537216186523,
                    0.5086671113967896,
                    -5.0595784187316895,
                    -9.346024513244629,
                    7.610959529876709,
                    -12.2982177734375,
                    -4.380117416381836,
                    0.5975497961044312,
                    -7.159168720245361,
                    12.83267593383789,
                    -9.410578727722168,
                    -8.661075592041016,
                    6.462808609008789,
                    -11.315793991088867,
                    -3.4484176635742188,
                    2.5816731452941895,
                    1.174961805343628,
                    -1.4466079473495483,
                    6.102508544921875,
                    3.4616379737854004,
                    -0.217855304479599,
                    0.5198028087615967,
                    5.18936014175415,
                    -14.881685256958008,
                    -5.672035217285156,
                    -1.8024871349334717,
                    -9.309732437133789,
                    -4.604715824127197,
                    -3.9164106845855713,
                    7.547398090362549,
                    -0.9525982141494751,
                    -6.977750778198242,
                    -7.649969577789307,
                    -7.773205757141113,
                    -7.717645168304443,
                    1.1097084283828735,
                    -5.503158092498779,
                    -0.3069884479045868,
                    -13.549484252929688,
                    0.5293098092079163,
                    2.7646589279174805,
                    3.4689126014709473,
                    -2.0639946460723877,
                    1.601119875907898,
                    -4.281592845916748,
                    -2.622194528579712,
                    7.500243186950684,
                    -7.149381637573242,
                    3.918951988220215,
                    3.772331714630127,
                    -3.767904758453369,
                    0.9793014526367188,
                    -9.586052894592285,
                    1.1243935823440552,
                    3.4965968132019043,
                    -6.687657833099365,
                    3.888063430786133,
                    0.2503364384174347,
                    3.310666561126709,
                    4.910082817077637,
                    -12.4302978515625,
                    -10.556665420532227,
                    5.3043293952941895,
                    5.149333953857422,
                    1.9870448112487793,
                    -8.703558921813965,
                    4.0110650062561035,
                    -0.11399241536855698,
                    -9.696331977844238,
                    -10.238840103149414,
                    -7.339895248413086,
                    -8.706037521362305,
                    3.2557623386383057,
                    -8.549238204956055,
                    -7.715501308441162,
                    4.480989933013916,
                    10.641998291015625,
                    -12.337413787841797,
                    -2.678950786590576,
                    3.9378955364227295,
                    -10.96361255645752,
                    2.6272127628326416,
                    -12.022650718688965,
                    -9.33195972442627,
                    -1.3566523790359497,
                    3.358712673187256,
                    -6.298460006713867,
                    -8.291213035583496,
                    3.209063768386841,
                    5.359363555908203,
                    -11.021208763122559,
                    -1.2492055892944336,
                    -6.612857818603516,
                    -10.993059158325195,
                    6.728583812713623,
                    -8.720192909240723,
                    0.5989398956298828,
                    5.0641608238220215,
                    -8.138195991516113,
                    0.696694552898407,
                    -5.485196113586426,
                    -4.806933403015137,
                    -0.3138018250465393,
                    -6.3908586502075195,
                    4.634181976318359,
                    7.322716236114502,
                    5.351426124572754,
                    6.149305820465088,
                    -12.992189407348633,
                    2.690892219543457,
                    -8.695929527282715,
                    -10.716188430786133,
                    -0.7564212679862976,
                    4.346094608306885,
                    2.854949712753296,
                    -3.080177068710327,
                    -8.000229835510254,
                    3.310492753982544,
                    -10.15302848815918,
                    7.064966678619385,
                    0.43571868538856506,
                    -9.327835083007812,
                    2.701547384262085,
                    -12.153822898864746,
                    -8.848559379577637,
                    3.169153928756714,
                    -0.3320489823818207,
                    -0.44293102622032166,
                    4.944487571716309,
                    7.050800800323486,
                    -5.267877101898193,
                    1.6741036176681519,
                    -10.215984344482422,
                    -1.8912793397903442,
                    3.939701557159424,
                    -6.786957263946533,
                    2.800119638442993,
                    -1.3342572450637817,
                    -0.4170517027378082,
                    -5.128435134887695,
                    7.76790714263916,
                    5.960906028747559,
                    -8.080964088439941,
                    -1.9842194318771362,
                    2.369016647338867,
                    5.914088249206543,
                    -11.658758163452148,
                    -1.6171740293502808,
                    8.949474334716797,
                    -5.417844295501709,
                    -4.0660576820373535,
                    -1.9309628009796143,
                    -5.5598249435424805,
                    1.4078900814056396,
                    -10.714661598205566,
                    5.599600791931152,
                    2.414125680923462,
                    -4.872967720031738,
                    1.2429587841033936,
                    -2.4397990703582764,
                    -3.308154344558716,
                    0.7661198973655701,
                    4.869411945343018,
                    3.2800402641296387,
                    1.6040890216827393,
                    -8.129356384277344,
                    5.021350860595703,
                    5.10959005355835,
                    -3.5910723209381104,
                    2.7381246089935303,
                    4.5020222663879395,
                    2.6662211418151855,
                    3.8074228763580322,
                    -2.464949607849121,
                    -12.661477088928223,
                    -10.150455474853516,
                    -11.008015632629395,
                    9.44377326965332,
                    7.554846286773682,
                    -11.440495491027832,
                    -13.72987174987793,
                    5.400582313537598,
                    -0.314747154712677,
                    1.8127788305282593,
                    8.122035026550293,
                    -7.61220121383667,
                    0.7444576621055603,
                    -3.209756851196289,
                    -1.201611042022705,
                    -7.851193904876709,
                    -7.920571327209473,
                    0.21693569421768188,
                    3.0341153144836426,
                    3.0884175300598145,
                    -10.245490074157715,
                    0.5629843473434448,
                    2.5770211219787598,
                    0.5537185668945312,
                    -2.1465964317321777,
                    -1.6037925481796265,
                    -3.458035469055176,
                    5.430429935455322,
                    -5.195366859436035,
                    5.974173545837402,
                    -0.9269189834594727,
                    5.552534103393555,
                    -11.147085189819336,
                    -0.06261808425188065,
                    6.040172576904297,
                    -10.98383903503418,
                    -11.28447151184082,
                    -8.468348503112793,
                    4.537811279296875,
                    -8.728023529052734,
                    5.107848644256592,
                    -12.28311538696289,
                    7.013998985290527,
                    -10.369246482849121,
                    1.4489293098449707,
                    6.04691219329834,
                    -3.3408963680267334,
                    -13.193751335144043,
                    4.394064903259277,
                    -6.09710693359375,
                    0.5029850602149963,
                    -13.852742195129395,
                    -5.198475360870361,
                    9.427306175231934,
                    3.0203609466552734,
                    -12.627309799194336,
                    1.8692628145217896,
                    -9.751726150512695,
                    -8.546121597290039,
                    4.732186317443848,
                    -12.39089584350586,
                    0.42547479271888733,
                    -5.755262851715088,
                    -3.3124804496765137,
                    -7.586390495300293,
                    5.242692470550537,
                    3.8110244274139404,
                    -8.91215991973877,
                    0.4790289103984833,
                    -8.367304801940918,
                    7.055869102478027,
                    -7.6457366943359375,
                    -3.003563165664673,
                    -12.60134506225586,
                    -5.687618732452393,
                    6.6522016525268555,
                    -1.5602833032608032,
                    -3.7449374198913574,
                    -4.855024337768555,
                    2.5642528533935547,
                    5.528594970703125,
                    2.4553353786468506,
                    3.894509792327881,
                    -1.1149317026138306,
                    -3.348949670791626,
                    -5.931683540344238,
                    -3.348104238510132,
                    -3.579223155975342,
                    -9.65140151977539,
                    -0.9571452140808105,
                    7.492002964019775,
                    -10.52765941619873,
                    9.902412414550781,
                    7.621967792510986,
                    -4.815160751342773,
                    -1.4492239952087402,
                    6.2456512451171875,
                    -10.040867805480957,
                    -5.583993434906006,
                    7.420073986053467,
                    -8.319062232971191,
                    6.62894344329834,
                    -10.45016098022461,
                    -1.286407470703125,
                    -2.658318281173706,
                    -7.838505268096924,
                    -2.6990747451782227,
                    -1.3761993646621704,
                    8.663579940795898,
                    -8.814142227172852,
                    -3.7501206398010254,
                    -12.143289566040039,
                    4.6817402839660645,
                    0.2081945240497589,
                    -0.45683756470680237,
                    -5.512435436248779,
                    3.459833860397339,
                    6.095268249511719,
                    -8.24043083190918,
                    -3.746133327484131,
                    5.11463737487793,
                    -3.818523406982422,
                    -12.392542839050293,
                    -0.8048215508460999,
                    -2.0491397380828857,
                    -9.263493537902832,
                    -3.32300066947937,
                    1.1621540784835815,
                    -3.732006311416626,
                    -7.993669033050537,
                    8.234755516052246,
                    -4.144443988800049,
                    4.865331649780273,
                    1.0638066530227661,
                    -8.71120548248291,
                    2.9216959476470947,
                    -3.8648180961608887,
                    4.132657527923584,
                    3.9356448650360107,
                    7.156000137329102,
                    11.299761772155762,
                    0.19586734473705292,
                    6.809388637542725,
                    -8.541789054870605,
                    -5.172545433044434,
                    -9.230113983154297,
                    -10.970337867736816,
                    -3.729529857635498,
                    0.24541093409061432,
                    -3.445324182510376,
                    -8.617783546447754,
                    3.387608528137207,
                    3.8816637992858887,
                    -7.182603359222412,
                    7.385031223297119,
                    -10.27913761138916
                  ],
                  "y": [
                    15.957316398620605,
                    18.17963218688965,
                    17.153623580932617,
                    14.402233123779297,
                    10.0847749710083,
                    15.517621040344238,
                    14.605712890625,
                    5.595370292663574,
                    -0.9655764102935791,
                    7.867677211761475,
                    18.72708511352539,
                    1.4834429025650024,
                    11.347430229187012,
                    2.6351070404052734,
                    9.465328216552734,
                    9.762218475341797,
                    15.525556564331055,
                    -9.08463191986084,
                    7.808258056640625,
                    15.02762222290039,
                    14.148324966430664,
                    11.19002914428711,
                    2.483614921569824,
                    2.765974998474121,
                    13.5827054977417,
                    8.346772193908691,
                    16.07709312438965,
                    1.233697533607483,
                    15.235450744628906,
                    14.579436302185059,
                    11.759856224060059,
                    17.528034210205078,
                    13.940858840942383,
                    11.179455757141113,
                    9.57533073425293,
                    6.996622085571289,
                    13.085149765014648,
                    17.744388580322266,
                    13.601380348205566,
                    14.16674518585205,
                    7.763797283172607,
                    13.594815254211426,
                    13.344696998596191,
                    14.528782844543457,
                    20.708436965942383,
                    6.468180179595947,
                    17.735570907592773,
                    15.320137977600098,
                    15.314468383789062,
                    18.179981231689453,
                    12.6173095703125,
                    8.799880981445312,
                    8.45118236541748,
                    9.10726547241211,
                    7.836825370788574,
                    16.446935653686523,
                    13.967720031738281,
                    6.384571552276611,
                    6.1504130363464355,
                    8.396973609924316,
                    17.698902130126953,
                    16.832012176513672,
                    14.222155570983887,
                    11.379772186279297,
                    20.030664443969727,
                    4.22168493270874,
                    9.342988014221191,
                    6.689140319824219,
                    17.113523483276367,
                    9.345547676086426,
                    10.287014961242676,
                    11.07802963256836,
                    5.965129375457764,
                    12.576671600341797,
                    14.214570045471191,
                    12.769566535949707,
                    8.63351821899414,
                    14.275935173034668,
                    18.37624168395996,
                    11.494385719299316,
                    20.478734970092773,
                    14.642451286315918,
                    3.338142156600952,
                    7.929413318634033,
                    14.908930778503418,
                    10.160859107971191,
                    20.24541664123535,
                    13.557012557983398,
                    6.704641342163086,
                    14.589019775390625,
                    12.996604919433594,
                    17.137069702148438,
                    18.34258460998535,
                    7.340476036071777,
                    14.06936264038086,
                    7.284934997558594,
                    5.911811828613281,
                    10.706543922424316,
                    6.915879726409912,
                    9.663935661315918,
                    4.223911285400391,
                    9.69514274597168,
                    9.548293113708496,
                    19.453935623168945,
                    11.42209529876709,
                    6.169072151184082,
                    7.086387634277344,
                    11.455716133117676,
                    14.530385971069336,
                    8.874897003173828,
                    14.531444549560547,
                    6.54015588760376,
                    4.001594543457031,
                    3.85063099861145,
                    -0.028563117608428,
                    13.901167869567871,
                    13.15628433227539,
                    10.828927993774414,
                    3.000398874282837,
                    13.486884117126465,
                    8.884428977966309,
                    11.513376235961914,
                    12.363419532775879,
                    19.43568229675293,
                    10.540614128112793,
                    5.5437211990356445,
                    6.485161781311035,
                    9.675484657287598,
                    10.499422073364258,
                    9.77186107635498,
                    11.878743171691895,
                    9.688754081726074,
                    5.495250701904297,
                    10.919715881347656,
                    20.402379989624023,
                    7.431031703948975,
                    10.743749618530273,
                    6.097658157348633,
                    11.625791549682617,
                    11.607327461242676,
                    2.251983880996704,
                    5.231669902801514,
                    10.588827133178711,
                    9.940505981445312,
                    12.868341445922852,
                    13.91046142578125,
                    6.127047061920166,
                    8.34437084197998,
                    9.521499633789062,
                    17.988096237182617,
                    -8.107429504394531,
                    5.573185920715332,
                    3.9938087463378906,
                    14.599385261535645,
                    11.702658653259277,
                    14.02695369720459,
                    11.429854393005371,
                    -1.784592866897583,
                    16.543540954589844,
                    -12.055933952331543,
                    9.675477027893066,
                    12.834803581237793,
                    8.9016752243042,
                    15.180865287780762,
                    14.960697174072266,
                    10.226981163024902,
                    16.431367874145508,
                    14.06411361694336,
                    0.6191283464431763,
                    4.053894519805908,
                    10.144474983215332,
                    17.150028228759766,
                    3.1856937408447266,
                    6.105792045593262,
                    14.607986450195312,
                    14.530773162841797,
                    14.052726745605469,
                    12.62596321105957,
                    9.517329216003418,
                    17.321022033691406,
                    -9.286479949951172,
                    11.254443168640137,
                    15.494966506958008,
                    9.310009956359863,
                    9.31283187866211,
                    9.06646728515625,
                    9.815125465393066,
                    15.388484001159668,
                    11.883325576782227,
                    18.275686264038086,
                    -8.807967185974121,
                    16.457439422607422,
                    16.42772102355957,
                    12.332416534423828,
                    1.3816496133804321,
                    7.87835693359375,
                    0.27848654985427856,
                    3.6643030643463135,
                    8.208660125732422,
                    14.395492553710938,
                    17.416976928710938,
                    -11.514961242675781,
                    12.45910930633545,
                    7.402293682098389,
                    12.377378463745117,
                    14.9058256149292,
                    14.766561508178711,
                    14.376439094543457,
                    4.9750261306762695,
                    9.600682258605957,
                    12.265023231506348,
                    10.20028018951416,
                    13.969717979431152,
                    7.604061126708984,
                    11.06869888305664,
                    12.476115226745605,
                    1.616367220878601,
                    6.298612117767334,
                    12.969592094421387,
                    5.1573638916015625,
                    7.450723171234131,
                    11.751934051513672,
                    1.5363857746124268,
                    5.4764485359191895,
                    14.173773765563965,
                    7.618625640869141,
                    17.82699966430664,
                    2.4890012741088867,
                    19.81534767150879,
                    5.48092794418335,
                    13.529388427734375,
                    6.655061721801758,
                    4.8943586349487305,
                    14.647759437561035,
                    4.847207069396973,
                    10.320653915405273,
                    12.244505882263184,
                    18.510387420654297,
                    7.189996242523193,
                    11.255419731140137,
                    11.78944206237793,
                    1.7249239683151245,
                    7.588959693908691,
                    6.939518928527832,
                    13.87264633178711,
                    2.089571475982666,
                    9.735998153686523,
                    -9.541500091552734,
                    7.083477020263672,
                    17.06069564819336,
                    9.397775650024414,
                    10.975377082824707,
                    10.707502365112305,
                    2.536464214324951,
                    6.995927810668945,
                    2.275674343109131,
                    11.243851661682129,
                    8.920098304748535,
                    4.411925792694092,
                    8.906453132629395,
                    14.036956787109375,
                    9.683426856994629,
                    10.901395797729492,
                    16.383115768432617,
                    12.99345874786377,
                    10.27225112915039,
                    6.651612758636475,
                    6.498046875,
                    6.77756929397583,
                    10.734126091003418,
                    -0.5026764273643494,
                    11.794219970703125,
                    10.337937355041504,
                    12.645391464233398,
                    12.105756759643555,
                    6.907325744628906,
                    4.9281086921691895,
                    8.890972137451172,
                    11.883069038391113,
                    9.586362838745117,
                    7.693114280700684,
                    14.585668563842773,
                    14.350496292114258,
                    14.97420883178711,
                    9.862103462219238,
                    14.515252113342285,
                    16.134580612182617,
                    3.7100324630737305,
                    19.775169372558594,
                    3.9491312503814697,
                    16.722505569458008,
                    11.481882095336914,
                    3.5345442295074463,
                    7.8580427169799805,
                    3.388352394104004,
                    14.102677345275879,
                    15.427753448486328,
                    0.5825792551040649,
                    7.209291458129883,
                    4.792640209197998,
                    8.93075180053711,
                    13.650288581848145,
                    10.053634643554688,
                    13.736173629760742,
                    3.44303297996521,
                    4.620170593261719,
                    9.769145965576172,
                    2.6625356674194336,
                    11.392135620117188,
                    11.913782119750977,
                    10.49731159210205,
                    5.437297344207764,
                    3.8407626152038574,
                    6.845850944519043,
                    7.328032970428467,
                    18.25336265563965,
                    10.844565391540527,
                    8.174959182739258,
                    4.989924907684326,
                    19.875144958496094,
                    15.244970321655273,
                    20.367443084716797,
                    3.3772215843200684,
                    4.153515815734863,
                    7.675308704376221,
                    7.252898693084717,
                    15.695754051208496,
                    4.2361836433410645,
                    18.959558486938477,
                    18.897905349731445,
                    15.962010383605957,
                    14.455822944641113,
                    8.129520416259766,
                    11.645159721374512,
                    7.831653594970703,
                    7.738022327423096,
                    7.802757740020752,
                    11.901078224182129,
                    16.778318405151367,
                    3.9508180618286133,
                    18.49172592163086,
                    11.67016315460205,
                    15.504127502441406,
                    4.393360614776611,
                    14.620039939880371,
                    9.21635913848877,
                    14.935033798217773,
                    10.419185638427734,
                    5.627811908721924,
                    8.878094673156738,
                    5.449998378753662,
                    5.934267520904541,
                    13.644956588745117,
                    9.777630805969238,
                    10.964614868164062,
                    12.460612297058105,
                    7.412917613983154,
                    9.208526611328125,
                    8.749882698059082,
                    5.211169719696045,
                    17.384767532348633,
                    9.324501037597656,
                    9.249237060546875,
                    4.119198799133301,
                    6.866484642028809,
                    20.842670440673828,
                    9.921582221984863,
                    15.392521858215332,
                    12.918295860290527,
                    13.345349311828613,
                    9.225990295410156,
                    11.341102600097656,
                    0.9433736801147461,
                    16.662290573120117,
                    6.541304588317871,
                    4.28493595123291,
                    17.082862854003906,
                    10.324953079223633,
                    18.028806686401367,
                    17.022851943969727,
                    5.000761985778809,
                    11.504273414611816,
                    4.089901447296143,
                    16.178943634033203,
                    5.081427574157715,
                    13.082730293273926,
                    9.123885154724121,
                    10.96224594116211,
                    5.583556652069092,
                    7.106573104858398,
                    14.253260612487793,
                    -12.750051498413086,
                    9.002963066101074,
                    14.252955436706543,
                    12.363035202026367,
                    13.072871208190918,
                    16.719287872314453,
                    8.363576889038086,
                    7.710934162139893,
                    9.70432186126709,
                    8.455473899841309,
                    15.045262336730957,
                    7.527301788330078,
                    17.630020141601562,
                    8.832661628723145,
                    9.753662109375,
                    14.974864959716797,
                    16.000080108642578,
                    14.27181339263916,
                    8.850631713867188,
                    16.223730087280273,
                    18.29804039001465,
                    7.33992338180542,
                    4.282781600952148
                  ],
                  "z": [
                    4.637887954711914,
                    7.716960906982422,
                    2.7214574813842773,
                    3.7074077129364014,
                    0.6224232316017151,
                    -0.5903060436248779,
                    7.218599796295166,
                    -0.43638065457344055,
                    3.3439037799835205,
                    10.839069366455078,
                    8.366216659545898,
                    6.577919960021973,
                    1.9043192863464355,
                    1.841619610786438,
                    1.5388710498809814,
                    -2.887251377105713,
                    -5.845617294311523,
                    11.3305082321167,
                    -3.910555601119995,
                    -4.655508995056152,
                    5.974216461181641,
                    6.87550163269043,
                    22.34929847717285,
                    -11.074451446533203,
                    12.885360717773438,
                    -4.781944751739502,
                    3.8272483348846436,
                    2.7401392459869385,
                    8.454811096191406,
                    0.5823315978050232,
                    9.09227180480957,
                    4.96449089050293,
                    11.692975997924805,
                    -0.7240817546844482,
                    11.646116256713867,
                    7.909165859222412,
                    -6.791484355926514,
                    9.327378273010254,
                    11.129389762878418,
                    10.829300880432129,
                    4.0005621910095215,
                    11.767590522766113,
                    8.686159133911133,
                    8.311357498168945,
                    8.831439971923828,
                    7.03908109664917,
                    0.9889780879020691,
                    -1.0989699363708496,
                    -3.128967046737671,
                    5.251363754272461,
                    6.1679792404174805,
                    0.7895134687423706,
                    9.651168823242188,
                    8.36982250213623,
                    -8.890326499938965,
                    12.122406005859375,
                    0.9042237401008606,
                    11.611435890197754,
                    10.493471145629883,
                    10.674449920654297,
                    5.236440658569336,
                    1.7816905975341797,
                    9.715631484985352,
                    14.465605735778809,
                    4.220141887664795,
                    2.949047327041626,
                    1.9806904792785645,
                    -1.2773292064666748,
                    -15.9722261428833,
                    8.672107696533203,
                    10.038029670715332,
                    8.043682098388672,
                    2.9126360416412354,
                    7.937713146209717,
                    3.0724284648895264,
                    9.512828826904297,
                    8.841251373291016,
                    8.063526153564453,
                    7.113495826721191,
                    5.911254405975342,
                    6.155381679534912,
                    7.352815628051758,
                    11.151236534118652,
                    -2.7786388397216797,
                    13.67780876159668,
                    5.516427993774414,
                    5.47441291809082,
                    -4.063333034515381,
                    4.125608444213867,
                    -1.2324862480163574,
                    2.5692965984344482,
                    11.53515625,
                    -2.2317681312561035,
                    -1.9750096797943115,
                    -4.547601699829102,
                    9.98426342010498,
                    -7.025495529174805,
                    -1.2234939336776733,
                    10.962465286254883,
                    3.3152241706848145,
                    10.911813735961914,
                    -3.6464359760284424,
                    5.333597183227539,
                    10.197537422180176,
                    0.23226498067378998,
                    14.652873992919922,
                    2.045133590698242,
                    -0.012130791321396828,
                    8.393609046936035,
                    13.480961799621582,
                    -14.876940727233887,
                    -1.4669348001480103,
                    0.5571844577789307,
                    -10.062017440795898,
                    3.7369818687438965,
                    -1.9338045120239258,
                    -18.287750244140625,
                    -3.6944057941436768,
                    5.996704578399658,
                    6.0296125411987305,
                    12.27084732055664,
                    -5.519712448120117,
                    -5.463855743408203,
                    6.686469554901123,
                    13.246809959411621,
                    1.203927993774414,
                    -0.32663804292678833,
                    14.302230834960938,
                    4.404921531677246,
                    -0.9722900986671448,
                    1.6344518661499023,
                    4.998102188110352,
                    3.877692461013794,
                    9.79149341583252,
                    7.031327247619629,
                    -1.4450279474258423,
                    -1.6326326131820679,
                    -1.2678247690200806,
                    12.206062316894531,
                    12.078023910522461,
                    13.785479545593262,
                    -2.405459403991699,
                    1.177958607673645,
                    -1.2596207857131958,
                    6.440162181854248,
                    8.059913635253906,
                    1.983849287033081,
                    13.180975914001465,
                    4.176718711853027,
                    10.487848281860352,
                    -1.0521330833435059,
                    5.772331237792969,
                    -2.5679068565368652,
                    1.5401097536087036,
                    12.770359992980957,
                    3.4848439693450928,
                    4.605816841125488,
                    -16.711368560791016,
                    9.017354965209961,
                    3.4808030128479004,
                    1.970572590827942,
                    -5.446263313293457,
                    13.251348495483398,
                    -0.21645237505435944,
                    1.5508614778518677,
                    9.340435981750488,
                    -5.648467063903809,
                    -6.507961273193359,
                    5.014751434326172,
                    3.029694080352783,
                    5.1029157638549805,
                    -5.19048547744751,
                    7.0822224617004395,
                    4.1330437660217285,
                    -4.869580268859863,
                    4.435247421264648,
                    0.0259151142090559,
                    6.211888313293457,
                    -6.596804618835449,
                    9.033750534057617,
                    12.310235977172852,
                    -1.8013498783111572,
                    -2.0663068294525146,
                    3.7876479625701904,
                    -2.2837741374969482,
                    3.7969086170196533,
                    6.887940406799316,
                    7.653809547424316,
                    3.8476245403289795,
                    9.534972190856934,
                    4.189878940582275,
                    3.621929883956909,
                    4.5139479637146,
                    1.0329245328903198,
                    6.146922588348389,
                    -5.644054412841797,
                    -7.089716911315918,
                    6.596133708953857,
                    10.800308227539062,
                    2.5629587173461914,
                    -7.0841450691223145,
                    1.6932616233825684,
                    -7.839034557342529,
                    11.672547340393066,
                    -5.217223644256592,
                    4.185789585113525,
                    0.790231466293335,
                    7.279476165771484,
                    -1.700316309928894,
                    1.7051926851272583,
                    2.3817710876464844,
                    9.65605354309082,
                    7.944919586181641,
                    13.700874328613281,
                    5.541937828063965,
                    9.354141235351562,
                    6.947265148162842,
                    1.8426743745803833,
                    6.100193023681641,
                    -2.592319965362549,
                    -3.4385392665863037,
                    7.499945163726807,
                    3.1615922451019287,
                    -6.470216274261475,
                    9.86678409576416,
                    1.525252103805542,
                    -5.215823650360107,
                    1.9643559455871582,
                    7.143194198608398,
                    5.586145877838135,
                    -5.210807800292969,
                    11.297172546386719,
                    -3.9460415840148926,
                    11.564963340759277,
                    -5.810307025909424,
                    6.790811061859131,
                    2.8543972969055176,
                    1.069749116897583,
                    -4.703312397003174,
                    13.7107572555542,
                    14.068366050720215,
                    -2.706244707107544,
                    -3.700057029724121,
                    9.281070709228516,
                    12.986141204833984,
                    -2.4817416667938232,
                    11.559436798095703,
                    4.342172145843506,
                    6.836150646209717,
                    7.982867240905762,
                    5.221526145935059,
                    7.51254940032959,
                    2.3885304927825928,
                    6.411420822143555,
                    7.711685657501221,
                    5.069087028503418,
                    5.369483947753906,
                    -2.258078098297119,
                    -12.19309139251709,
                    11.330363273620605,
                    6.999733924865723,
                    18.93288803100586,
                    10.625263214111328,
                    6.353883266448975,
                    -0.5236937999725342,
                    13.293753623962402,
                    5.73356294631958,
                    -0.5289836525917053,
                    -4.335847854614258,
                    1.330559253692627,
                    3.0111474990844727,
                    10.704238891601562,
                    -6.732082843780518,
                    -4.470247268676758,
                    -2.621074914932251,
                    8.761384010314941,
                    12.2235746383667,
                    0.849864661693573,
                    -5.461637496948242,
                    -4.88557243347168,
                    4.750375747680664,
                    12.597436904907227,
                    1.2231453657150269,
                    -1.0549594163894653,
                    4.565650463104248,
                    14.743680000305176,
                    -3.711700439453125,
                    -6.418839454650879,
                    3.593331813812256,
                    9.004350662231445,
                    2.4505250453948975,
                    3.9550373554229736,
                    -2.0502970218658447,
                    -3.122541666030884,
                    -11.16214656829834,
                    4.95082426071167,
                    11.412452697753906,
                    5.916682720184326,
                    3.588686227798462,
                    -11.63632583618164,
                    -2.305720806121826,
                    -3.237980604171753,
                    1.3192663192749023,
                    6.923628330230713,
                    1.1708250045776367,
                    -12.12324047088623,
                    -5.868450164794922,
                    -3.422034502029419,
                    12.01113224029541,
                    -0.5705797672271729,
                    -5.014038562774658,
                    -5.580560207366943,
                    8.203219413757324,
                    -11.917800903320312,
                    9.487228393554688,
                    -0.010057788342237473,
                    -1.9952248334884644,
                    8.244853973388672,
                    4.456986904144287,
                    6.44420862197876,
                    4.895961761474609,
                    8.026256561279297,
                    -0.8076212406158447,
                    -7.678290367126465,
                    12.562299728393555,
                    -0.7935055494308472,
                    10.412784576416016,
                    -1.874363899230957,
                    9.235679626464844,
                    -3.9942948818206787,
                    2.4801650047302246,
                    -0.43875011801719666,
                    -1.0616984367370605,
                    0.6171762943267822,
                    -3.36673641204834,
                    -5.252534866333008,
                    -1.880505084991455,
                    4.037377834320068,
                    9.487366676330566,
                    1.1444835662841797,
                    8.903722763061523,
                    11.90831184387207,
                    10.309072494506836,
                    13.836799621582031,
                    10.21334171295166,
                    8.846796989440918,
                    -14.06615924835205,
                    -4.852468967437744,
                    1.0647069215774536,
                    -0.11923818290233612,
                    -6.195907115936279,
                    -1.6400998830795288,
                    3.3254246711730957,
                    10.874927520751953,
                    0.8857167363166809,
                    4.857756614685059,
                    -3.276001453399658,
                    1.1355407238006592,
                    4.879627704620361,
                    9.356757164001465,
                    7.408349990844727,
                    13.794645309448242,
                    5.405250072479248,
                    5.739104270935059,
                    8.247795104980469,
                    8.418134689331055,
                    1.721738338470459,
                    -7.281731605529785,
                    11.610299110412598,
                    2.3446335792541504,
                    -0.4765152931213379,
                    11.521440505981445,
                    1.1803860664367676,
                    -3.1582586765289307,
                    -0.7507707476615906,
                    2.6858513355255127,
                    0.7611793279647827,
                    0.18245868384838104,
                    5.6651692390441895,
                    -3.4697341918945312,
                    4.444245338439941,
                    -6.665409564971924,
                    8.475177764892578,
                    3.8341526985168457,
                    11.426599502563477,
                    4.863407135009766,
                    8.242388725280762,
                    1.5669443607330322,
                    -2.7030718326568604,
                    7.768942832946777,
                    -4.700874328613281,
                    21.220487594604492,
                    8.89720630645752,
                    2.4637770652770996,
                    0.8417931795120239,
                    -5.892058372497559,
                    8.994159698486328,
                    -0.27192097902297974,
                    -2.201601505279541,
                    6.446669578552246,
                    -3.933635950088501,
                    0.7271358370780945,
                    7.063249111175537,
                    4.43068790435791,
                    -2.1006531715393066,
                    12.553351402282715,
                    10.250664710998535,
                    -2.5853025913238525,
                    6.208231449127197,
                    8.620978355407715,
                    11.941648483276367,
                    -0.13975106179714203,
                    -0.3303811252117157,
                    -1.4147366285324097
                  ]
                },
                {
                  "customdata": [
                    [
                      91
                    ],
                    [
                      70
                    ],
                    [
                      72
                    ],
                    [
                      60
                    ],
                    [
                      69
                    ],
                    [
                      80
                    ],
                    [
                      60
                    ],
                    [
                      60
                    ],
                    [
                      60
                    ],
                    [
                      81
                    ],
                    [
                      null
                    ],
                    [
                      70
                    ],
                    [
                      80
                    ],
                    [
                      60
                    ],
                    [
                      68
                    ],
                    [
                      21
                    ],
                    [
                      59
                    ],
                    [
                      82
                    ],
                    [
                      75
                    ],
                    [
                      32
                    ],
                    [
                      69
                    ],
                    [
                      313
                    ],
                    [
                      60
                    ],
                    [
                      21
                    ],
                    [
                      50
                    ],
                    [
                      null
                    ],
                    [
                      78
                    ],
                    [
                      69
                    ],
                    [
                      102
                    ],
                    [
                      75
                    ],
                    [
                      85
                    ],
                    [
                      69
                    ],
                    [
                      60
                    ],
                    [
                      24
                    ],
                    [
                      null
                    ],
                    [
                      74
                    ],
                    [
                      78
                    ],
                    [
                      60
                    ],
                    [
                      107
                    ],
                    [
                      69
                    ],
                    [
                      69
                    ],
                    [
                      null
                    ],
                    [
                      85
                    ],
                    [
                      55
                    ],
                    [
                      80
                    ],
                    [
                      59
                    ],
                    [
                      69
                    ],
                    [
                      69
                    ],
                    [
                      24
                    ],
                    [
                      53
                    ],
                    [
                      82
                    ],
                    [
                      69
                    ],
                    [
                      65
                    ],
                    [
                      65
                    ],
                    [
                      null
                    ],
                    [
                      121
                    ],
                    [
                      96
                    ],
                    [
                      89
                    ],
                    [
                      79
                    ],
                    [
                      69
                    ],
                    [
                      64
                    ],
                    [
                      86
                    ],
                    [
                      80
                    ],
                    [
                      73
                    ],
                    [
                      70
                    ],
                    [
                      104
                    ],
                    [
                      75
                    ],
                    [
                      60
                    ],
                    [
                      115
                    ],
                    [
                      41
                    ],
                    [
                      42
                    ],
                    [
                      72
                    ],
                    [
                      75
                    ],
                    [
                      75
                    ],
                    [
                      65
                    ],
                    [
                      69
                    ],
                    [
                      51
                    ],
                    [
                      55
                    ],
                    [
                      60
                    ],
                    [
                      57
                    ],
                    [
                      null
                    ],
                    [
                      null
                    ],
                    [
                      152
                    ],
                    [
                      70
                    ],
                    [
                      59
                    ],
                    [
                      99
                    ],
                    [
                      70
                    ],
                    [
                      60
                    ],
                    [
                      69
                    ],
                    [
                      89
                    ],
                    [
                      75
                    ],
                    [
                      72
                    ],
                    [
                      70
                    ],
                    [
                      null
                    ],
                    [
                      96
                    ],
                    [
                      41
                    ],
                    [
                      63
                    ],
                    [
                      64
                    ],
                    [
                      85
                    ],
                    [
                      69
                    ],
                    [
                      60
                    ],
                    [
                      74
                    ],
                    [
                      50
                    ],
                    [
                      100
                    ],
                    [
                      80
                    ],
                    [
                      69
                    ],
                    [
                      98
                    ],
                    [
                      69
                    ],
                    [
                      100
                    ],
                    [
                      69
                    ],
                    [
                      75
                    ],
                    [
                      90
                    ],
                    [
                      70
                    ],
                    [
                      34
                    ],
                    [
                      24
                    ],
                    [
                      69
                    ],
                    [
                      null
                    ],
                    [
                      149
                    ],
                    [
                      69
                    ],
                    [
                      116
                    ],
                    [
                      80
                    ],
                    [
                      69
                    ],
                    [
                      68
                    ],
                    [
                      69
                    ],
                    [
                      60
                    ],
                    [
                      69
                    ],
                    [
                      93
                    ],
                    [
                      60
                    ],
                    [
                      65
                    ],
                    [
                      69
                    ],
                    [
                      75
                    ],
                    [
                      69
                    ],
                    [
                      80
                    ],
                    [
                      120
                    ],
                    [
                      70
                    ],
                    [
                      65
                    ],
                    [
                      84
                    ],
                    [
                      100
                    ],
                    [
                      60
                    ],
                    [
                      50
                    ],
                    [
                      21
                    ],
                    [
                      60
                    ],
                    [
                      80
                    ],
                    [
                      50
                    ],
                    [
                      72
                    ],
                    [
                      95
                    ],
                    [
                      105
                    ],
                    [
                      75
                    ],
                    [
                      80
                    ],
                    [
                      69
                    ],
                    [
                      40
                    ],
                    [
                      69
                    ],
                    [
                      75
                    ],
                    [
                      141
                    ],
                    [
                      44
                    ],
                    [
                      47
                    ],
                    [
                      69
                    ],
                    [
                      63
                    ],
                    [
                      64
                    ],
                    [
                      24
                    ],
                    [
                      94
                    ],
                    [
                      78
                    ],
                    [
                      79
                    ],
                    [
                      80
                    ],
                    [
                      60
                    ],
                    [
                      74
                    ],
                    [
                      79
                    ],
                    [
                      70
                    ],
                    [
                      69
                    ],
                    [
                      69
                    ],
                    [
                      null
                    ],
                    [
                      69
                    ],
                    [
                      57
                    ],
                    [
                      90
                    ],
                    [
                      58
                    ],
                    [
                      null
                    ],
                    [
                      87
                    ],
                    [
                      69
                    ],
                    [
                      65
                    ],
                    [
                      69
                    ],
                    [
                      null
                    ],
                    [
                      69
                    ],
                    [
                      85
                    ],
                    [
                      75
                    ],
                    [
                      75
                    ],
                    [
                      null
                    ],
                    [
                      73
                    ],
                    [
                      null
                    ],
                    [
                      78
                    ],
                    [
                      71
                    ],
                    [
                      95
                    ],
                    [
                      130
                    ],
                    [
                      53
                    ],
                    [
                      53
                    ],
                    [
                      105
                    ],
                    [
                      24
                    ],
                    [
                      50
                    ],
                    [
                      30
                    ],
                    [
                      21
                    ],
                    [
                      69
                    ],
                    [
                      70
                    ],
                    [
                      44
                    ],
                    [
                      105
                    ],
                    [
                      69
                    ],
                    [
                      84
                    ],
                    [
                      56
                    ],
                    [
                      76
                    ],
                    [
                      69
                    ],
                    [
                      36
                    ],
                    [
                      null
                    ],
                    [
                      66
                    ],
                    [
                      59
                    ],
                    [
                      140
                    ],
                    [
                      83
                    ],
                    [
                      60
                    ],
                    [
                      34
                    ],
                    [
                      69
                    ],
                    [
                      90
                    ],
                    [
                      null
                    ],
                    [
                      69
                    ],
                    [
                      60
                    ],
                    [
                      50
                    ],
                    [
                      80
                    ],
                    [
                      120
                    ],
                    [
                      60
                    ],
                    [
                      69
                    ],
                    [
                      101
                    ],
                    [
                      78
                    ],
                    [
                      120
                    ],
                    [
                      50
                    ],
                    [
                      null
                    ],
                    [
                      80
                    ],
                    [
                      75
                    ],
                    [
                      130
                    ],
                    [
                      99
                    ],
                    [
                      null
                    ],
                    [
                      72
                    ],
                    [
                      69
                    ],
                    [
                      69
                    ],
                    [
                      59
                    ],
                    [
                      56
                    ],
                    [
                      21
                    ],
                    [
                      82
                    ],
                    [
                      109
                    ],
                    [
                      174
                    ],
                    [
                      69
                    ],
                    [
                      174
                    ],
                    [
                      21
                    ],
                    [
                      null
                    ],
                    [
                      65
                    ],
                    [
                      66
                    ],
                    [
                      60
                    ],
                    [
                      null
                    ],
                    [
                      80
                    ],
                    [
                      72
                    ],
                    [
                      75
                    ],
                    [
                      88
                    ],
                    [
                      70
                    ],
                    [
                      79
                    ],
                    [
                      66
                    ],
                    [
                      70
                    ],
                    [
                      88
                    ],
                    [
                      78
                    ],
                    [
                      55
                    ],
                    [
                      85
                    ],
                    [
                      64
                    ],
                    [
                      60
                    ],
                    [
                      70
                    ],
                    [
                      60
                    ],
                    [
                      44
                    ],
                    [
                      69
                    ],
                    [
                      78
                    ],
                    [
                      70
                    ],
                    [
                      80
                    ],
                    [
                      65
                    ],
                    [
                      57
                    ],
                    [
                      81
                    ],
                    [
                      51
                    ],
                    [
                      42
                    ],
                    [
                      69
                    ],
                    [
                      60
                    ],
                    [
                      84
                    ],
                    [
                      90
                    ],
                    [
                      69
                    ],
                    [
                      69
                    ],
                    [
                      100
                    ],
                    [
                      60
                    ],
                    [
                      24
                    ],
                    [
                      32
                    ],
                    [
                      54
                    ],
                    [
                      78
                    ],
                    [
                      73
                    ],
                    [
                      60
                    ],
                    [
                      80
                    ],
                    [
                      null
                    ],
                    [
                      69
                    ],
                    [
                      144
                    ],
                    [
                      91
                    ],
                    [
                      68
                    ],
                    [
                      40
                    ],
                    [
                      84
                    ],
                    [
                      85
                    ],
                    [
                      60
                    ],
                    [
                      69
                    ],
                    [
                      43
                    ],
                    [
                      50
                    ],
                    [
                      63
                    ],
                    [
                      85
                    ],
                    [
                      100
                    ],
                    [
                      70
                    ],
                    [
                      30
                    ],
                    [
                      82
                    ],
                    [
                      60
                    ],
                    [
                      70
                    ],
                    [
                      60
                    ],
                    [
                      84
                    ],
                    [
                      70
                    ],
                    [
                      68
                    ],
                    [
                      34
                    ],
                    [
                      60
                    ],
                    [
                      80
                    ],
                    [
                      100
                    ],
                    [
                      60
                    ],
                    [
                      80
                    ],
                    [
                      104
                    ],
                    [
                      80
                    ],
                    [
                      78
                    ],
                    [
                      85
                    ],
                    [
                      80
                    ],
                    [
                      82
                    ],
                    [
                      69
                    ],
                    [
                      80
                    ],
                    [
                      80
                    ],
                    [
                      50
                    ],
                    [
                      60
                    ],
                    [
                      77
                    ],
                    [
                      69
                    ],
                    [
                      70
                    ],
                    [
                      78
                    ],
                    [
                      null
                    ],
                    [
                      87
                    ],
                    [
                      null
                    ],
                    [
                      60
                    ],
                    [
                      75
                    ],
                    [
                      null
                    ],
                    [
                      70
                    ],
                    [
                      74
                    ],
                    [
                      80
                    ],
                    [
                      69
                    ],
                    [
                      40
                    ]
                  ],
                  "hovertemplate": "Cluster=Cluster 2<br>0=%{x}<br>1=%{y}<br>2=%{z}<br>Feature=%{customdata[0]}<extra></extra>",
                  "legendgroup": "Cluster 2",
                  "marker": {
                    "color": "#00cc96",
                    "opacity": 0.7,
                    "symbol": "circle"
                  },
                  "mode": "markers",
                  "name": "Cluster 2",
                  "scene": "scene",
                  "showlegend": true,
                  "type": "scatter3d",
                  "x": [
                    -4.225316524505615,
                    -1.4469162225723267,
                    -1.7976897954940796,
                    3.2692744731903076,
                    3.9152631759643555,
                    8.38292407989502,
                    -2.0640532970428467,
                    4.350977420806885,
                    5.187214374542236,
                    7.536853790283203,
                    6.334545612335205,
                    10.306509971618652,
                    -1.966293454170227,
                    1.1382914781570435,
                    -0.5274257063865662,
                    -2.0116465091705322,
                    -1.0486868619918823,
                    8.914194107055664,
                    2.977482795715332,
                    -7.015000820159912,
                    9.945516586303711,
                    6.114340305328369,
                    -3.031151533126831,
                    12.821855545043945,
                    -1.7381941080093384,
                    6.232088088989258,
                    10.137368202209473,
                    5.339362621307373,
                    8.019250869750977,
                    -4.274783611297607,
                    1.8827625513076782,
                    -0.904306173324585,
                    -2.2799088954925537,
                    -0.11089987307786942,
                    6.5853681564331055,
                    -1.1132539510726929,
                    -0.15245981514453888,
                    -4.250003814697266,
                    -0.08702651411294937,
                    -1.4525388479232788,
                    -5.205032825469971,
                    -1.6673588752746582,
                    -1.2921278476715088,
                    -3.5307700634002686,
                    -6.320072650909424,
                    -2.1125285625457764,
                    4.327359199523926,
                    2.8923234939575195,
                    7.654972076416016,
                    -7.780467510223389,
                    5.7254958152771,
                    6.531374931335449,
                    7.599614143371582,
                    7.170149803161621,
                    -0.700516402721405,
                    1.4937615394592285,
                    -0.6202959418296814,
                    0.19348879158496857,
                    -0.06477097421884537,
                    -3.3262603282928467,
                    -3.2169127464294434,
                    5.421166896820068,
                    3.7267813682556152,
                    9.116893768310547,
                    -0.2479519546031952,
                    4.31752347946167,
                    4.895559787750244,
                    -1.2988100051879883,
                    5.050706386566162,
                    8.738911628723145,
                    -1.1902990341186523,
                    5.7157368659973145,
                    4.935192108154297,
                    7.675891876220703,
                    0.8446919322013855,
                    6.720061302185059,
                    6.720028877258301,
                    -2.636204957962036,
                    7.998763561248779,
                    0.5194466710090637,
                    2.5437328815460205,
                    4.172703266143799,
                    -2.896644353866577,
                    8.460650444030762,
                    -2.536322593688965,
                    -1.160528302192688,
                    -0.12254200875759125,
                    8.384291648864746,
                    5.713167667388916,
                    -4.226602077484131,
                    6.232766628265381,
                    1.8512506484985352,
                    -4.181420803070068,
                    -1.917478084564209,
                    7.811696529388428,
                    5.5630292892456055,
                    -1.559922695159912,
                    10.983552932739258,
                    4.4266133308410645,
                    -3.519740104675293,
                    5.736466884613037,
                    4.955392360687256,
                    5.103314399719238,
                    7.43928861618042,
                    7.278429985046387,
                    14.140486717224121,
                    -2.9548213481903076,
                    -1.6549057960510254,
                    5.508331298828125,
                    3.5224342346191406,
                    0.5628727674484253,
                    -2.5793697834014893,
                    0.3373878598213196,
                    5.641963005065918,
                    5.586799621582031,
                    -3.5968477725982666,
                    4.128331661224365,
                    -4.006997585296631,
                    3.303535223007202,
                    5.961985111236572,
                    -3.160324811935425,
                    9.667089462280273,
                    6.695520401000977,
                    2.2591192722320557,
                    5.931142807006836,
                    -2.003486394882202,
                    0.0034799724817276,
                    10.023635864257812,
                    0.09410997480154037,
                    -4.54548454284668,
                    -1.0673154592514038,
                    7.563894748687744,
                    3.576052188873291,
                    -0.7141505479812622,
                    -0.9680113196372986,
                    0.7842917442321777,
                    -1.762850284576416,
                    8.819002151489258,
                    -2.4309616088867188,
                    2.1504828929901123,
                    -4.410611152648926,
                    -2.296416759490967,
                    7.8781514167785645,
                    4.938263893127441,
                    6.680753231048584,
                    4.2639875411987305,
                    -3.6786036491394043,
                    3.1888480186462402,
                    11.278982162475586,
                    1.9428627490997314,
                    -3.7261786460876465,
                    10.106942176818848,
                    -2.268115758895874,
                    0.5743838548660278,
                    8.177769660949707,
                    7.6621198654174805,
                    -0.2620077133178711,
                    7.434274673461914,
                    5.652553081512451,
                    7.143972396850586,
                    -0.8776090145111084,
                    3.447657346725464,
                    5.1770806312561035,
                    3.932218551635742,
                    6.020632743835449,
                    3.9078609943389893,
                    9.955497741699219,
                    8.30022144317627,
                    4.986467361450195,
                    -1.0538229942321777,
                    4.164012908935547,
                    6.451501369476318,
                    0.5085762143135071,
                    7.279127597808838,
                    9.584393501281738,
                    6.630444526672363,
                    -2.1948788166046143,
                    -2.8413455486297607,
                    0.9669345021247864,
                    3.31457781791687,
                    -4.373086452484131,
                    6.680578231811523,
                    -3.2252280712127686,
                    7.037534713745117,
                    7.80831241607666,
                    10.123257637023926,
                    8.723986625671387,
                    6.3365559577941895,
                    3.684051752090454,
                    -0.3366955816745758,
                    -2.4209775924682617,
                    -5.0185675621032715,
                    -4.197205066680908,
                    5.194348335266113,
                    -3.523787021636963,
                    6.397777080535889,
                    7.5223565101623535,
                    -1.258732557296753,
                    -1.9246532917022705,
                    6.114669322967529,
                    10.389684677124023,
                    -5.288914203643799,
                    6.6722588539123535,
                    -0.870265781879425,
                    2.24178147315979,
                    -3.0520198345184326,
                    0.4255540072917938,
                    -0.06493110209703445,
                    0.7143568396568298,
                    -0.9080021381378174,
                    -0.5116804242134094,
                    1.749787449836731,
                    10.519086837768555,
                    6.261300086975098,
                    4.309149265289307,
                    2.1034369468688965,
                    10.110672950744629,
                    8.219158172607422,
                    -1.4742381572723389,
                    7.653868198394775,
                    -0.46570584177970886,
                    1.4054815769195557,
                    -1.956091284751892,
                    4.040986061096191,
                    5.060298442840576,
                    5.0343780517578125,
                    6.164644718170166,
                    -3.447070360183716,
                    5.5509443283081055,
                    2.845344305038452,
                    11.502318382263184,
                    1.607265591621399,
                    3.6748476028442383,
                    2.8124966621398926,
                    5.078277111053467,
                    7.573457717895508,
                    2.345257520675659,
                    -2.342805862426758,
                    -0.8910236358642578,
                    -3.9640424251556396,
                    1.1951959133148193,
                    -0.4598419666290283,
                    0.4597834050655365,
                    0.6702221632003784,
                    2.579578399658203,
                    -1.9854888916015625,
                    3.2110931873321533,
                    -0.5702328681945801,
                    1.2101749181747437,
                    3.453953742980957,
                    1.1043519973754883,
                    -0.39782676100730896,
                    -1.1362667083740234,
                    0.23573154211044312,
                    6.357102394104004,
                    6.5689826011657715,
                    1.562732219696045,
                    7.4321441650390625,
                    6.306894779205322,
                    6.149111747741699,
                    -0.502962589263916,
                    -1.4356895685195923,
                    2.4862782955169678,
                    -3.955793619155884,
                    8.735418319702148,
                    1.1518803834915161,
                    -3.4596707820892334,
                    3.0664210319519043,
                    1.9868214130401611,
                    4.920772552490234,
                    -1.359604835510254,
                    -2.94081449508667,
                    8.430741310119629,
                    8.850378036499023,
                    5.015940189361572,
                    -3.971379518508911,
                    -0.43970727920532227,
                    5.004749774932861,
                    5.323906421661377,
                    5.691083908081055,
                    2.2914679050445557,
                    -3.0183990001678467,
                    2.4663941860198975,
                    5.632381916046143,
                    7.92447566986084,
                    -0.7262184023857117,
                    -2.45924973487854,
                    -2.3798835277557373,
                    6.800617218017578,
                    2.833425760269165,
                    -2.182539939880371,
                    6.869901180267334,
                    3.1256518363952637,
                    -3.1050851345062256,
                    6.859228610992432,
                    4.520864963531494,
                    8.672324180603027,
                    -0.14652034640312195,
                    1.257468581199646,
                    -0.7718228101730347,
                    4.9140625,
                    -5.5726399421691895,
                    5.199613571166992,
                    5.372065544128418,
                    9.104061126708984,
                    -3.271493673324585,
                    13.676676750183105,
                    9.707916259765625,
                    5.14656925201416,
                    4.808748245239258,
                    1.2577842473983765,
                    6.609343528747559,
                    4.998383045196533,
                    -2.0215702056884766,
                    6.441270351409912,
                    -4.9875664710998535,
                    0.17280113697052002,
                    7.278019428253174,
                    -2.0474114418029785,
                    -3.7825770378112793,
                    -4.550389289855957,
                    7.436500549316406,
                    -4.895137310028076,
                    8.723060607910156,
                    -2.652423143386841,
                    5.046924114227295,
                    10.476385116577148,
                    5.823731422424316,
                    7.6393842697143555,
                    2.065662145614624,
                    -4.703288555145264,
                    -2.8227179050445557,
                    7.707401752471924,
                    11.83897876739502,
                    8.22353458404541,
                    -2.744020938873291,
                    -1.9861201047897339,
                    4.169489860534668,
                    2.5454142093658447,
                    2.22518253326416,
                    0.8154580593109131,
                    4.635805130004883,
                    6.5477399826049805,
                    4.790858268737793,
                    7.4684858322143555,
                    -1.8089044094085693,
                    5.493919372558594,
                    5.613396167755127,
                    -1.668765664100647,
                    -3.159827470779419
                  ],
                  "y": [
                    -7.425143241882324,
                    -14.739974021911621,
                    -14.882100105285645,
                    -12.061563491821289,
                    -22.20651626586914,
                    -5.640491962432861,
                    -18.730365753173828,
                    -9.736188888549805,
                    -10.376482009887695,
                    -10.734180450439453,
                    -7.536890029907227,
                    -10.910866737365723,
                    -19.965667724609375,
                    -22.123756408691406,
                    -24.29533576965332,
                    -24.79681396484375,
                    -20.473852157592773,
                    -27.43885612487793,
                    -13.329951286315918,
                    0.982572078704834,
                    -11.042047500610352,
                    -10.604852676391602,
                    -11.6691255569458,
                    -9.524629592895508,
                    -12.103203773498535,
                    -19.384702682495117,
                    -7.260245323181152,
                    -19.66086769104004,
                    -9.365124702453613,
                    -10.846809387207031,
                    -10.756515502929688,
                    -22.96788787841797,
                    -12.233312606811523,
                    -19.77484703063965,
                    -23.172443389892578,
                    -18.29098892211914,
                    -23.067108154296875,
                    -16.667776107788086,
                    -16.896549224853516,
                    -15.916227340698242,
                    -7.177102565765381,
                    -19.344472885131836,
                    -17.03200912475586,
                    -7.3633832931518555,
                    -9.003668785095215,
                    -9.861650466918945,
                    -10.318901062011719,
                    -21.439298629760742,
                    -7.33130407333374,
                    -15.7929048538208,
                    -22.569128036499023,
                    -12.390548706054688,
                    -25.279584884643555,
                    -6.949455738067627,
                    -20.344079971313477,
                    -13.212824821472168,
                    -19.106237411499023,
                    -13.333330154418945,
                    -16.53048324584961,
                    -21.720752716064453,
                    -14.600544929504395,
                    -10.502473831176758,
                    -6.58505916595459,
                    -9.769794464111328,
                    -13.70418930053711,
                    -6.770510673522949,
                    -7.302788734436035,
                    -18.332805633544922,
                    -10.318740844726562,
                    -10.822164535522461,
                    -11.39602279663086,
                    -7.922621726989746,
                    -27.09136962890625,
                    -10.722633361816406,
                    -7.960540294647217,
                    -25.782384872436523,
                    -23.91547393798828,
                    -24.764419555664062,
                    -12.427458763122559,
                    -11.817026138305664,
                    -18.34748649597168,
                    -27.305919647216797,
                    -8.940935134887695,
                    -25.054813385009766,
                    -19.827192306518555,
                    -20.97393798828125,
                    -10.911550521850586,
                    -9.31449031829834,
                    -27.26703453063965,
                    -9.028157234191895,
                    -17.78378677368164,
                    -17.471506118774414,
                    -19.67142105102539,
                    -3.7279458045959473,
                    -10.690007209777832,
                    -13.346391677856445,
                    -10.420821189880371,
                    -7.936710834503174,
                    -24.63288116455078,
                    -19.87300682067871,
                    -28.38424301147461,
                    -8.703418731689453,
                    -14.949731826782227,
                    -11.983006477355957,
                    -23.37765121459961,
                    -11.128122329711914,
                    -16.661151885986328,
                    -6.885379314422607,
                    -6.186239242553711,
                    -4.481181621551514,
                    -20.027494430541992,
                    -22.445484161376953,
                    -16.331066131591797,
                    -25.97616195678711,
                    -14.98987865447998,
                    -12.238724708557129,
                    -19.911842346191406,
                    -17.36468505859375,
                    -5.995967864990234,
                    -10.022871017456055,
                    -17.1281795501709,
                    -7.944331169128418,
                    -5.316452980041504,
                    -10.028107643127441,
                    -11.964434623718262,
                    -20.05480194091797,
                    -11.119760513305664,
                    -11.932827949523926,
                    -11.314120292663574,
                    -7.179266929626465,
                    -9.002397537231445,
                    -8.367486953735352,
                    -11.285038948059082,
                    -20.691801071166992,
                    -20.67896270751953,
                    -7.476922988891602,
                    -14.872404098510742,
                    -5.913925647735596,
                    -9.454641342163086,
                    -19.20816993713379,
                    -18.13552474975586,
                    -22.99542236328125,
                    -7.500413417816162,
                    -12.568459510803223,
                    -6.051917552947998,
                    -23.717151641845703,
                    -9.705697059631348,
                    -16.155994415283203,
                    -9.09068775177002,
                    -13.5233736038208,
                    -21.759462356567383,
                    -10.377275466918945,
                    -13.85836410522461,
                    -13.213022232055664,
                    -13.670162200927734,
                    -24.0634765625,
                    -23.825448989868164,
                    -8.01259994506836,
                    -5.113368034362793,
                    -8.761009216308594,
                    -8.042577743530273,
                    -19.75950813293457,
                    -20.967357635498047,
                    -7.355307102203369,
                    -8.012375831604004,
                    -24.02407455444336,
                    -10.540520668029785,
                    -9.11280632019043,
                    -10.276582717895508,
                    -12.656495094299316,
                    -9.055720329284668,
                    -9.815788269042969,
                    -12.896181106567383,
                    -8.009478569030762,
                    -11.177986145019531,
                    -27.217082977294922,
                    -9.703518867492676,
                    -9.652194023132324,
                    -11.34402084350586,
                    -12.57935619354248,
                    -9.522025108337402,
                    -6.1810479164123535,
                    -13.395724296569824,
                    -23.188947677612305,
                    -17.171213150024414,
                    -9.818798065185547,
                    -9.580741882324219,
                    -26.636423110961914,
                    -19.944175720214844,
                    -14.5741605758667,
                    -16.2423038482666,
                    -16.92538833618164,
                    -5.688042640686035,
                    -8.946568489074707,
                    -18.855195999145508,
                    -13.867347717285156,
                    -20.63822364807129,
                    -17.94534683227539,
                    -9.838716506958008,
                    -9.515569686889648,
                    -7.9379682540893555,
                    -10.044657707214355,
                    -7.007981300354004,
                    -7.760146617889404,
                    -10.628190040588379,
                    -17.3201847076416,
                    -21.39630889892578,
                    -20.106090545654297,
                    -21.67015266418457,
                    -20.359167098999023,
                    -18.925180435180664,
                    -11.35454273223877,
                    -8.515474319458008,
                    -10.064156532287598,
                    -10.593117713928223,
                    -13.428837776184082,
                    -10.075464248657227,
                    -25.22841453552246,
                    -13.151806831359863,
                    -8.977450370788574,
                    -18.32780647277832,
                    -23.401165008544922,
                    -11.08048152923584,
                    -10.057305335998535,
                    -20.677570343017578,
                    -8.120624542236328,
                    -19.260257720947266,
                    -20.176929473876953,
                    -26.992053985595703,
                    -17.872447967529297,
                    -11.131361961364746,
                    -18.725048065185547,
                    -10.774373054504395,
                    -13.709878921508789,
                    -13.534296035766602,
                    -11.828857421875,
                    -15.302499771118164,
                    -11.437365531921387,
                    -12.351966857910156,
                    -16.107669830322266,
                    -12.247817039489746,
                    -17.078140258789062,
                    -5.47094202041626,
                    -22.40805435180664,
                    -13.569478988647461,
                    -9.57345199584961,
                    -21.177274703979492,
                    -16.06641960144043,
                    -12.87928581237793,
                    -17.543540954589844,
                    -18.299718856811523,
                    -22.397621154785156,
                    -11.020895957946777,
                    -18.922391891479492,
                    -10.602039337158203,
                    -13.495182991027832,
                    -17.24117660522461,
                    -12.320767402648926,
                    -8.043437004089355,
                    -5.42943000793457,
                    -17.407798767089844,
                    -11.215337753295898,
                    -20.598764419555664,
                    -5.059661865234375,
                    -10.245332717895508,
                    -21.105031967163086,
                    -7.669506549835205,
                    -5.989831924438477,
                    -10.907965660095215,
                    -18.639976501464844,
                    -11.499835968017578,
                    -15.625236511230469,
                    -10.24858283996582,
                    -11.444049835205078,
                    -9.562917709350586,
                    -15.687309265136719,
                    -20.992197036743164,
                    -16.888137817382812,
                    -11.433897972106934,
                    -24.406932830810547,
                    -19.093032836914062,
                    -19.091955184936523,
                    -18.904945373535156,
                    -12.736124992370605,
                    -7.31419038772583,
                    -16.905305862426758,
                    -17.20002555847168,
                    -22.053213119506836,
                    -19.090015411376953,
                    -14.005505561828613,
                    -24.82999610900879,
                    -21.982595443725586,
                    -9.710887908935547,
                    -10.622232437133789,
                    -21.77524185180664,
                    -13.848228454589844,
                    -9.657106399536133,
                    -22.10640525817871,
                    -11.09860610961914,
                    -12.596938133239746,
                    -11.671163558959961,
                    -10.342530250549316,
                    -11.449891090393066,
                    -8.740507125854492,
                    -8.89444351196289,
                    -19.064367294311523,
                    -10.841277122497559,
                    -8.870213508605957,
                    -11.724967956542969,
                    -19.64063835144043,
                    -9.496463775634766,
                    -28.166854858398438,
                    -20.5794620513916,
                    -7.385695934295654,
                    -28.212100982666016,
                    -21.68581771850586,
                    -8.626335144042969,
                    -23.840932846069336,
                    -23.21453094482422,
                    -18.17152214050293,
                    -17.418912887573242,
                    -19.28095245361328,
                    -12.89869213104248,
                    -27.490921020507812,
                    -16.546215057373047,
                    -4.795762062072754,
                    -6.92072057723999,
                    -8.31330680847168,
                    -11.092358589172363,
                    -20.871601104736328,
                    -13.659499168395996,
                    -19.487367630004883,
                    -12.545450210571289,
                    -9.908717155456543,
                    -10.325069427490234,
                    -15.530205726623535,
                    -14.485464096069336,
                    -27.307952880859375,
                    -17.65503692626953,
                    -16.427316665649414,
                    -18.56995964050293,
                    -6.998359203338623,
                    -14.177473068237305,
                    -23.79595375061035,
                    -13.526183128356934,
                    -22.039051055908203,
                    -9.96655559539795,
                    -20.766019821166992,
                    -17.993345260620117,
                    -10.061483383178711
                  ],
                  "z": [
                    -7.026177883148193,
                    -8.937997817993164,
                    -9.91563606262207,
                    -12.026423454284668,
                    -6.658489227294922,
                    26.65138816833496,
                    -3.0494725704193115,
                    -10.13063907623291,
                    4.117741584777832,
                    1.2222462892532349,
                    -13.20470142364502,
                    1.5419048070907593,
                    -5.063601970672607,
                    -1.3801298141479492,
                    -6.885214328765869,
                    -3.2336864471435547,
                    -12.623200416564941,
                    0.5538696646690369,
                    -3.2173540592193604,
                    -3.741239309310913,
                    -0.2400655597448349,
                    -11.367731094360352,
                    -8.818790435791016,
                    2.9213955402374268,
                    -2.082892656326294,
                    -13.087307929992676,
                    -3.1449198722839355,
                    -10.734406471252441,
                    0.8317453861236572,
                    -3.9884185791015625,
                    -6.092672824859619,
                    -6.813506126403809,
                    -7.991323947906494,
                    -4.334950923919678,
                    3.8634700775146484,
                    -5.257850170135498,
                    -7.17545223236084,
                    -12.814288139343262,
                    -3.360595703125,
                    6.477056980133057,
                    -0.9101377725601196,
                    -1.4112670421600342,
                    -11.224720001220703,
                    -1.3344378471374512,
                    -5.377721786499023,
                    -1.331578016281128,
                    -13.24365234375,
                    -10.815530776977539,
                    1.3405765295028687,
                    -3.609522581100464,
                    -12.8367919921875,
                    -5.016754627227783,
                    1.4336904287338257,
                    -12.842412948608398,
                    -8.987940788269043,
                    -0.5384516716003418,
                    -13.869987487792969,
                    -6.384169101715088,
                    0.8984147906303406,
                    -5.051209449768066,
                    -1.8130522966384888,
                    -3.2151589393615723,
                    -14.39493179321289,
                    0.9626350402832031,
                    -1.2697577476501465,
                    0.21746104955673218,
                    -18.946025848388672,
                    -3.1582586765289307,
                    -16.55454444885254,
                    0.7449568510055542,
                    -2.7326252460479736,
                    -18.411014556884766,
                    0.6251040697097778,
                    -8.883317947387695,
                    -4.966615200042725,
                    4.334632873535156,
                    -0.49733442068099976,
                    -1.6944432258605957,
                    0.6705731749534607,
                    -10.885757446289062,
                    -10.618905067443848,
                    3.7045059204101562,
                    -5.167550563812256,
                    2.3707382678985596,
                    -4.371954441070557,
                    -3.2517337799072266,
                    -5.161459922790527,
                    -3.544424295425415,
                    4.189738750457764,
                    -6.604740619659424,
                    -11.052336692810059,
                    -12.361139297485352,
                    -8.337567329406738,
                    6.3410234451293945,
                    -0.6393702626228333,
                    -15.565109252929688,
                    -9.025876998901367,
                    1.5725914239883423,
                    3.547286033630371,
                    -3.301849603652954,
                    0.948861300945282,
                    -2.4536426067352295,
                    -12.062024116516113,
                    -13.228304862976074,
                    -0.03625643998384476,
                    0.07059848308563232,
                    -8.52404499053955,
                    -6.422662258148193,
                    10.986044883728027,
                    -3.56453800201416,
                    -6.284364223480225,
                    -1.434814453125,
                    1.2015868425369263,
                    4.479969024658203,
                    -9.693568229675293,
                    -10.015865325927734,
                    -12.272703170776367,
                    -8.086875915527344,
                    -1.7680543661117554,
                    -10.28353500366211,
                    -8.825817108154297,
                    0.02425983175635338,
                    -18.18526268005371,
                    -6.048933029174805,
                    -13.358132362365723,
                    -14.961634635925293,
                    -10.083694458007812,
                    4.82961368560791,
                    -11.200161933898926,
                    -8.483976364135742,
                    0.18601806461811066,
                    -11.622673988342285,
                    -11.352088928222656,
                    -4.893207550048828,
                    -10.80534553527832,
                    -6.353817462921143,
                    5.157757759094238,
                    -0.5877755284309387,
                    -1.0085391998291016,
                    -9.9671630859375,
                    -12.317864418029785,
                    -5.420939922332764,
                    -13.75314712524414,
                    -12.037468910217285,
                    -17.515287399291992,
                    3.6852712631225586,
                    -10.131062507629395,
                    -12.606038093566895,
                    0.6879703402519226,
                    -5.846682071685791,
                    -11.540485382080078,
                    19.360023498535156,
                    -8.350011825561523,
                    24.186059951782227,
                    0.015175324864685535,
                    -0.7473339438438416,
                    -2.138544797897339,
                    11.294709205627441,
                    -2.4204041957855225,
                    -15.604339599609375,
                    -6.465529441833496,
                    -15.776507377624512,
                    -10.517539024353027,
                    3.31208872795105,
                    2.8973629474639893,
                    4.22191858291626,
                    -2.7330052852630615,
                    -15.495450019836426,
                    1.4471068382263184,
                    -2.698580265045166,
                    -13.138047218322754,
                    -13.137096405029297,
                    23.80771255493164,
                    -0.5240428447723389,
                    2.420069932937622,
                    1.0686289072036743,
                    -3.380884885787964,
                    -7.663741588592529,
                    -5.0555419921875,
                    -13.41753101348877,
                    -8.26865291595459,
                    -15.596779823303223,
                    -8.393927574157715,
                    -1.0237808227539062,
                    -10.378543853759766,
                    19.457645416259766,
                    -0.8262441158294678,
                    -0.5073105096817017,
                    -9.111300468444824,
                    -8.505186080932617,
                    -0.9511334300041199,
                    -14.092706680297852,
                    -1.6360260248184204,
                    -14.112711906433105,
                    -7.688492774963379,
                    1.1522889137268066,
                    -12.306199073791504,
                    -15.137079238891602,
                    -13.021736145019531,
                    1.0890734195709229,
                    -3.118269205093384,
                    -7.20431661605835,
                    -14.645681381225586,
                    -1.8027933835983276,
                    -8.17823314666748,
                    -12.550854682922363,
                    -10.438427925109863,
                    -2.4802281856536865,
                    -14.381073951721191,
                    -9.957331657409668,
                    -2.7914204597473145,
                    -0.3876687288284302,
                    19.342588424682617,
                    -5.956947326660156,
                    -14.230302810668945,
                    -1.0883398056030273,
                    -12.641655921936035,
                    2.709517240524292,
                    -3.1601154804229736,
                    -4.725007057189941,
                    -13.664552688598633,
                    -4.736388683319092,
                    -0.17683415114879608,
                    -16.535551071166992,
                    -15.024670600891113,
                    -14.9539794921875,
                    -9.740966796875,
                    -2.048441171646118,
                    1.4383946657180786,
                    -14.083080291748047,
                    4.039183139801025,
                    -3.383131742477417,
                    1.0782794952392578,
                    -3.4525563716888428,
                    -12.231409072875977,
                    -10.909405708312988,
                    -4.110571384429932,
                    -11.625077247619629,
                    -6.694147109985352,
                    -9.167699813842773,
                    -3.217491626739502,
                    -11.235810279846191,
                    -1.3337661027908325,
                    -4.767925262451172,
                    -9.401678085327148,
                    -7.5008721351623535,
                    -6.81150484085083,
                    -5.889183044433594,
                    -9.81174087524414,
                    -10.20113468170166,
                    -2.079172372817993,
                    -2.1182541847229004,
                    -0.884101390838623,
                    -13.89503288269043,
                    -9.743355751037598,
                    -12.327954292297363,
                    -5.820950031280518,
                    -3.5633859634399414,
                    -11.103232383728027,
                    -1.8407329320907593,
                    -5.289951324462891,
                    -7.939574718475342,
                    -6.659555912017822,
                    -1.845676302909851,
                    3.460249662399292,
                    -4.277652740478516,
                    -4.958799839019775,
                    -1.3029898405075073,
                    -12.292160987854004,
                    -13.545279502868652,
                    -5.9600300788879395,
                    -6.270590782165527,
                    -17.91023063659668,
                    4.460114002227783,
                    -10.952925682067871,
                    -11.228511810302734,
                    -1.6453927755355835,
                    -13.7305326461792,
                    4.4233856201171875,
                    4.842938423156738,
                    -13.334813117980957,
                    -5.3164873123168945,
                    -4.379590034484863,
                    -9.333885192871094,
                    0.6908929944038391,
                    0.4450092017650604,
                    -11.438937187194824,
                    -3.032569646835327,
                    -8.980182647705078,
                    -13.704060554504395,
                    -3.8933324813842773,
                    -12.337041854858398,
                    -16.30982208251953,
                    0.28636759519577026,
                    -13.66983699798584,
                    -2.5143320560455322,
                    -13.185227394104004,
                    -12.072583198547363,
                    -9.857763290405273,
                    -10.436641693115234,
                    -14.696761131286621,
                    -9.959854125976562,
                    -5.72240686416626,
                    -3.1242642402648926,
                    -2.3231186866760254,
                    -1.032420039176941,
                    0.3249553442001343,
                    -13.266165733337402,
                    -4.644794940948486,
                    -14.550030708312988,
                    -10.912190437316895,
                    1.5433664321899414,
                    -13.557117462158203,
                    -8.868243217468262,
                    0.32273179292678833,
                    -4.871197700500488,
                    2.010646343231201,
                    4.925051689147949,
                    -6.939780235290527,
                    -9.674238204956055,
                    -10.031610488891602,
                    -13.984444618225098,
                    -7.281136512756348,
                    0.232578843832016,
                    -12.87956714630127,
                    -3.1531972885131836,
                    -0.8203607797622681,
                    -18.562320709228516,
                    -17.424840927124023,
                    -15.113035202026367,
                    -9.852778434753418,
                    -11.03260612487793,
                    -14.76246166229248,
                    2.553514003753662,
                    4.164806365966797,
                    -1.1613050699234009,
                    4.640015602111816,
                    2.4125826358795166,
                    -12.526841163635254,
                    -1.3607598543167114,
                    -8.968266487121582,
                    -14.033304214477539,
                    -0.06843604147434235,
                    5.2178874015808105,
                    -5.881846904754639,
                    -5.934348106384277,
                    5.3688273429870605,
                    -11.367671012878418,
                    -9.185342788696289,
                    -9.690463066101074
                  ]
                },
                {
                  "customdata": [
                    [
                      69
                    ],
                    [
                      60
                    ],
                    [
                      80
                    ],
                    [
                      108
                    ],
                    [
                      85
                    ],
                    [
                      78
                    ],
                    [
                      null
                    ],
                    [
                      50
                    ],
                    [
                      53
                    ],
                    [
                      69
                    ],
                    [
                      69
                    ],
                    [
                      64
                    ],
                    [
                      58
                    ],
                    [
                      69
                    ],
                    [
                      76
                    ],
                    [
                      69
                    ],
                    [
                      69
                    ],
                    [
                      69
                    ],
                    [
                      null
                    ],
                    [
                      60
                    ],
                    [
                      69
                    ],
                    [
                      69
                    ],
                    [
                      69
                    ],
                    [
                      69
                    ],
                    [
                      69
                    ],
                    [
                      60
                    ],
                    [
                      60
                    ],
                    [
                      35
                    ],
                    [
                      69
                    ],
                    [
                      77
                    ],
                    [
                      50
                    ],
                    [
                      89
                    ],
                    [
                      null
                    ],
                    [
                      51
                    ],
                    [
                      63
                    ],
                    [
                      69
                    ],
                    [
                      69
                    ],
                    [
                      90
                    ],
                    [
                      69
                    ],
                    [
                      51
                    ],
                    [
                      101
                    ],
                    [
                      75
                    ],
                    [
                      47
                    ],
                    [
                      92
                    ],
                    [
                      69
                    ],
                    [
                      69
                    ],
                    [
                      85
                    ],
                    [
                      134
                    ],
                    [
                      66
                    ],
                    [
                      85
                    ],
                    [
                      69
                    ],
                    [
                      36
                    ],
                    [
                      92
                    ],
                    [
                      null
                    ],
                    [
                      97
                    ],
                    [
                      69
                    ],
                    [
                      60
                    ],
                    [
                      21
                    ],
                    [
                      85
                    ],
                    [
                      69
                    ],
                    [
                      62
                    ],
                    [
                      79
                    ],
                    [
                      null
                    ],
                    [
                      69
                    ],
                    [
                      null
                    ],
                    [
                      null
                    ],
                    [
                      65
                    ],
                    [
                      35
                    ],
                    [
                      69
                    ],
                    [
                      70
                    ],
                    [
                      110
                    ],
                    [
                      69
                    ],
                    [
                      78
                    ],
                    [
                      122
                    ],
                    [
                      65
                    ],
                    [
                      66
                    ],
                    [
                      63
                    ],
                    [
                      74
                    ],
                    [
                      69
                    ],
                    [
                      52
                    ],
                    [
                      93
                    ],
                    [
                      65
                    ],
                    [
                      63
                    ],
                    [
                      160
                    ],
                    [
                      80
                    ],
                    [
                      69
                    ],
                    [
                      73
                    ],
                    [
                      null
                    ],
                    [
                      67
                    ],
                    [
                      100
                    ],
                    [
                      70
                    ],
                    [
                      80
                    ],
                    [
                      76
                    ],
                    [
                      50
                    ],
                    [
                      73
                    ],
                    [
                      43
                    ],
                    [
                      61
                    ],
                    [
                      57
                    ],
                    [
                      69
                    ],
                    [
                      43
                    ],
                    [
                      83
                    ],
                    [
                      40
                    ],
                    [
                      50
                    ],
                    [
                      null
                    ],
                    [
                      69
                    ],
                    [
                      24
                    ],
                    [
                      64
                    ],
                    [
                      75
                    ],
                    [
                      null
                    ],
                    [
                      60
                    ],
                    [
                      80
                    ],
                    [
                      52
                    ],
                    [
                      24
                    ],
                    [
                      69
                    ],
                    [
                      69
                    ],
                    [
                      93
                    ],
                    [
                      69
                    ],
                    [
                      79
                    ],
                    [
                      88
                    ],
                    [
                      69
                    ],
                    [
                      59
                    ],
                    [
                      90
                    ],
                    [
                      71
                    ],
                    [
                      50
                    ],
                    [
                      30
                    ],
                    [
                      69
                    ],
                    [
                      64
                    ],
                    [
                      null
                    ],
                    [
                      86
                    ],
                    [
                      65
                    ],
                    [
                      60
                    ],
                    [
                      69
                    ],
                    [
                      null
                    ],
                    [
                      43
                    ],
                    [
                      85
                    ],
                    [
                      80
                    ],
                    [
                      68
                    ],
                    [
                      74
                    ],
                    [
                      null
                    ],
                    [
                      57
                    ],
                    [
                      69
                    ],
                    [
                      70
                    ],
                    [
                      null
                    ],
                    [
                      75
                    ],
                    [
                      75
                    ],
                    [
                      130
                    ],
                    [
                      50
                    ],
                    [
                      60
                    ],
                    [
                      66
                    ],
                    [
                      96
                    ],
                    [
                      78
                    ],
                    [
                      null
                    ],
                    [
                      70
                    ],
                    [
                      97
                    ],
                    [
                      50
                    ],
                    [
                      67
                    ],
                    [
                      null
                    ],
                    [
                      63
                    ],
                    [
                      68
                    ],
                    [
                      100
                    ],
                    [
                      null
                    ],
                    [
                      60
                    ],
                    [
                      69
                    ],
                    [
                      75
                    ],
                    [
                      47
                    ],
                    [
                      60
                    ],
                    [
                      67
                    ],
                    [
                      61
                    ],
                    [
                      94
                    ],
                    [
                      32
                    ],
                    [
                      78
                    ],
                    [
                      69
                    ],
                    [
                      114
                    ],
                    [
                      69
                    ],
                    [
                      79
                    ],
                    [
                      72
                    ],
                    [
                      75
                    ],
                    [
                      69
                    ],
                    [
                      70
                    ],
                    [
                      65
                    ],
                    [
                      65
                    ],
                    [
                      69
                    ],
                    [
                      null
                    ],
                    [
                      21
                    ],
                    [
                      52
                    ],
                    [
                      120
                    ],
                    [
                      69
                    ],
                    [
                      70
                    ],
                    [
                      80
                    ],
                    [
                      95
                    ],
                    [
                      52
                    ],
                    [
                      65
                    ],
                    [
                      58
                    ],
                    [
                      69
                    ],
                    [
                      88
                    ],
                    [
                      60
                    ],
                    [
                      50
                    ],
                    [
                      60
                    ],
                    [
                      69
                    ],
                    [
                      69
                    ],
                    [
                      69
                    ],
                    [
                      81
                    ],
                    [
                      75
                    ],
                    [
                      85
                    ],
                    [
                      70
                    ],
                    [
                      69
                    ],
                    [
                      55
                    ],
                    [
                      71
                    ],
                    [
                      24
                    ],
                    [
                      65
                    ],
                    [
                      102
                    ],
                    [
                      50
                    ],
                    [
                      73
                    ],
                    [
                      69
                    ],
                    [
                      79
                    ],
                    [
                      96
                    ],
                    [
                      null
                    ],
                    [
                      60
                    ],
                    [
                      37
                    ],
                    [
                      69
                    ],
                    [
                      74
                    ],
                    [
                      60
                    ],
                    [
                      65
                    ],
                    [
                      38
                    ],
                    [
                      65
                    ],
                    [
                      60
                    ],
                    [
                      93
                    ],
                    [
                      68
                    ],
                    [
                      69
                    ],
                    [
                      null
                    ],
                    [
                      82
                    ],
                    [
                      90
                    ],
                    [
                      66
                    ],
                    [
                      65
                    ],
                    [
                      60
                    ],
                    [
                      71
                    ],
                    [
                      60
                    ],
                    [
                      86
                    ],
                    [
                      49
                    ],
                    [
                      96
                    ],
                    [
                      70
                    ],
                    [
                      null
                    ],
                    [
                      59
                    ],
                    [
                      85
                    ],
                    [
                      69
                    ],
                    [
                      80
                    ],
                    [
                      68
                    ],
                    [
                      69
                    ],
                    [
                      92
                    ],
                    [
                      null
                    ],
                    [
                      61
                    ],
                    [
                      69
                    ],
                    [
                      85
                    ],
                    [
                      68
                    ],
                    [
                      100
                    ],
                    [
                      120
                    ],
                    [
                      21
                    ],
                    [
                      69
                    ],
                    [
                      71
                    ],
                    [
                      70
                    ],
                    [
                      74
                    ],
                    [
                      43
                    ],
                    [
                      null
                    ],
                    [
                      79
                    ],
                    [
                      110
                    ],
                    [
                      79
                    ],
                    [
                      98
                    ],
                    [
                      70
                    ],
                    [
                      null
                    ],
                    [
                      65
                    ],
                    [
                      69
                    ],
                    [
                      75
                    ],
                    [
                      70
                    ],
                    [
                      60
                    ],
                    [
                      75
                    ],
                    [
                      80
                    ],
                    [
                      68
                    ],
                    [
                      34
                    ],
                    [
                      66
                    ],
                    [
                      63
                    ],
                    [
                      50
                    ],
                    [
                      86
                    ],
                    [
                      65
                    ],
                    [
                      78
                    ],
                    [
                      100
                    ],
                    [
                      90
                    ],
                    [
                      72
                    ],
                    [
                      77
                    ],
                    [
                      103
                    ],
                    [
                      73
                    ],
                    [
                      null
                    ],
                    [
                      null
                    ],
                    [
                      85
                    ],
                    [
                      null
                    ],
                    [
                      67
                    ],
                    [
                      52
                    ],
                    [
                      50
                    ],
                    [
                      21
                    ],
                    [
                      null
                    ],
                    [
                      50
                    ],
                    [
                      70
                    ],
                    [
                      null
                    ],
                    [
                      62
                    ],
                    [
                      69
                    ]
                  ],
                  "hovertemplate": "Cluster=Cluster 3<br>0=%{x}<br>1=%{y}<br>2=%{z}<br>Feature=%{customdata[0]}<extra></extra>",
                  "legendgroup": "Cluster 3",
                  "marker": {
                    "color": "#ab63fa",
                    "opacity": 0.7,
                    "symbol": "circle"
                  },
                  "mode": "markers",
                  "name": "Cluster 3",
                  "scene": "scene",
                  "showlegend": true,
                  "type": "scatter3d",
                  "x": [
                    -2.9138171672821045,
                    -1.7012819051742554,
                    3.6202356815338135,
                    7.338463306427002,
                    1.1511164903640747,
                    -1.2494020462036133,
                    8.544544219970703,
                    6.639454364776611,
                    0.40962696075439453,
                    7.926059722900391,
                    -3.2648420333862305,
                    8.637648582458496,
                    -1.861899733543396,
                    1.1281793117523193,
                    2.9290921688079834,
                    -0.4685855805873871,
                    -3.551901340484619,
                    -1.808037519454956,
                    -0.9088042378425598,
                    -0.30856433510780334,
                    0.5752167105674744,
                    -3.110818386077881,
                    -1.446547508239746,
                    1.41170072555542,
                    2.9656670093536377,
                    6.224855899810791,
                    0.21417176723480225,
                    6.751229286193848,
                    -1.681465983390808,
                    7.286956787109375,
                    -2.2723870277404785,
                    0.15470464527606964,
                    11.062353134155273,
                    3.0950217247009277,
                    7.124136924743652,
                    2.2099368572235107,
                    -0.661324143409729,
                    5.841803550720215,
                    -3.4229166507720947,
                    5.055817127227783,
                    6.282308578491211,
                    -0.5356616377830505,
                    4.560488700866699,
                    1.0261995792388916,
                    5.256700038909912,
                    -6.7025041580200195,
                    2.276291847229004,
                    -0.23410959541797638,
                    5.527810573577881,
                    3.1417834758758545,
                    -4.941507339477539,
                    5.092958450317383,
                    -2.4886410236358643,
                    -4.133663654327393,
                    -0.9058358669281006,
                    -4.152645587921143,
                    -4.80122709274292,
                    2.3359436988830566,
                    -0.34831684827804565,
                    -0.28647252917289734,
                    3.247764825820923,
                    -0.8047549724578857,
                    4.032534599304199,
                    -0.9378116726875305,
                    0.9205203652381897,
                    -0.016915716230869293,
                    3.3968138694763184,
                    4.592697620391846,
                    3.8352787494659424,
                    7.1037678718566895,
                    6.737427711486816,
                    5.545146942138672,
                    -0.578313946723938,
                    10.040435791015625,
                    0.2438523769378662,
                    0.9053196907043457,
                    2.81396746635437,
                    13.907374382019043,
                    9.840051651000977,
                    5.307757377624512,
                    -6.271111488342285,
                    0.866304337978363,
                    4.212364196777344,
                    5.623910427093506,
                    -0.10616050660610199,
                    7.346229076385498,
                    7.087667942047119,
                    0.6367053985595703,
                    6.128279685974121,
                    -2.5235517024993896,
                    4.963551998138428,
                    8.091008186340332,
                    4.008071422576904,
                    -1.331640601158142,
                    -3.7795796394348145,
                    1.1721255779266357,
                    2.718334436416626,
                    -2.9857869148254395,
                    3.1037862300872803,
                    1.648397445678711,
                    3.4562759399414062,
                    1.0385754108428955,
                    3.4533438682556152,
                    2.543600559234619,
                    3.4288265705108643,
                    1.2471102476119995,
                    3.0274717807769775,
                    -3.374417304992676,
                    3.3893933296203613,
                    2.5347249507904053,
                    0.4302127957344055,
                    -0.9533720016479492,
                    0.5116856694221497,
                    4.941514492034912,
                    5.250272750854492,
                    4.565476417541504,
                    1.8803915977478027,
                    0.22759561240673065,
                    4.710461616516113,
                    -0.23407520353794098,
                    3.061189889907837,
                    5.115437030792236,
                    -0.6384445428848267,
                    3.1528263092041016,
                    -0.5416832566261292,
                    -3.0928597450256348,
                    3.506455659866333,
                    1.0179280042648315,
                    6.009381294250488,
                    2.3588829040527344,
                    2.511289119720459,
                    -1.8472602367401123,
                    1.9397245645523071,
                    0.4157690107822418,
                    -1.7596386671066284,
                    2.17978835105896,
                    -1.442548394203186,
                    4.748364448547363,
                    7.066110610961914,
                    6.535125255584717,
                    2.8585920333862305,
                    7.725789546966553,
                    2.4925923347473145,
                    5.964756488800049,
                    -0.3410772979259491,
                    -3.4781315326690674,
                    -2.645864248275757,
                    -3.426189661026001,
                    2.393312454223633,
                    4.1224870681762695,
                    13.851874351501465,
                    2.209616184234619,
                    5.295118808746338,
                    8.628389358520508,
                    0.19600863754749298,
                    2.532565116882324,
                    -2.015005588531494,
                    3.1782774925231934,
                    2.7495505809783936,
                    -1.1709389686584473,
                    2.9238381385803223,
                    -2.962489366531372,
                    -1.9623539447784424,
                    -1.9681261777877808,
                    1.8588306903839111,
                    -3.336050033569336,
                    -1.431156873703003,
                    3.3230836391448975,
                    5.809978485107422,
                    0.27308982610702515,
                    6.369906902313232,
                    -1.0208414793014526,
                    2.7993106842041016,
                    4.737854957580566,
                    3.4376025199890137,
                    7.2228899002075195,
                    2.0413801670074463,
                    1.8322999477386475,
                    9.494721412658691,
                    2.806898593902588,
                    6.735575199127197,
                    5.8928046226501465,
                    3.01454758644104,
                    8.361068725585938,
                    4.323409557342529,
                    5.151414394378662,
                    10.854301452636719,
                    -7.311947345733643,
                    -3.7945728302001953,
                    -5.333621501922607,
                    8.07540225982666,
                    -1.5850772857666016,
                    10.929838180541992,
                    0.5896021723747253,
                    -2.816270112991333,
                    6.3505988121032715,
                    -1.1577550172805786,
                    -6.0821356773376465,
                    -4.137170314788818,
                    6.304137229919434,
                    4.557062149047852,
                    5.3626179695129395,
                    -5.341108322143555,
                    9.462008476257324,
                    -0.8128645420074463,
                    -2.898015260696411,
                    5.73568058013916,
                    5.714760780334473,
                    4.529256820678711,
                    2.944816827774048,
                    2.920663356781006,
                    6.9009108543396,
                    7.47974967956543,
                    -3.524897813796997,
                    -1.2000967264175415,
                    2.937062978744507,
                    6.179137229919434,
                    2.1021649837493896,
                    1.2709269523620605,
                    -3.140651226043701,
                    1.2207735776901245,
                    3.0328588485717773,
                    6.931601524353027,
                    2.397247314453125,
                    5.403712272644043,
                    7.14317512512207,
                    3.6065399646759033,
                    2.9604265689849854,
                    4.3782958984375,
                    1.1450892686843872,
                    3.8847787380218506,
                    7.3979291915893555,
                    0.8837546706199646,
                    6.034504413604736,
                    2.3102407455444336,
                    1.649604320526123,
                    4.315402030944824,
                    -1.005228042602539,
                    5.1423492431640625,
                    -1.2947020530700684,
                    -2.4554057121276855,
                    3.5623292922973633,
                    9.523914337158203,
                    -2.683025598526001,
                    1.9060181379318237,
                    -2.732642650604248,
                    0.889249324798584,
                    -4.134296894073486,
                    -0.12433304637670517,
                    3.008348226547241,
                    4.638550281524658,
                    5.966241836547852,
                    2.2505691051483154,
                    -4.690866947174072,
                    4.605299472808838,
                    -0.847271740436554,
                    2.2314820289611816,
                    2.825908660888672,
                    5.957549095153809,
                    0.7350028157234192,
                    0.07360903918743134,
                    1.1090989112854004,
                    -1.5717753171920776,
                    8.351621627807617,
                    0.583238959312439,
                    7.777882099151611,
                    -1.7598676681518555,
                    7.509262561798096,
                    4.14274263381958,
                    -0.8108894228935242,
                    -3.015841007232666,
                    -12.332947731018066,
                    -3.3623249530792236,
                    3.6411421298980713,
                    2.199850082397461,
                    -4.184068202972412,
                    2.991326093673706,
                    -4.203078746795654,
                    1.507171392440796,
                    4.253694534301758,
                    4.33065938949585,
                    2.6931869983673096,
                    2.1468260288238525,
                    -4.24163293838501,
                    12.138890266418457,
                    7.277463436126709,
                    1.0830422639846802,
                    -3.5724804401397705,
                    5.622188091278076,
                    10.003578186035156,
                    0.08250068128108978,
                    -0.9923595786094666,
                    1.46355140209198,
                    -0.36572402715682983,
                    8.112573623657227,
                    5.233318328857422,
                    2.7909300327301025,
                    -0.6352266669273376,
                    -0.09031019359827042,
                    13.846851348876953,
                    2.3381223678588867,
                    5.375437259674072,
                    -2.3887293338775635,
                    2.7030134201049805
                  ],
                  "y": [
                    -5.131160259246826,
                    -3.8311502933502197,
                    -7.651032447814941,
                    9.867079734802246,
                    -3.8797664642333984,
                    -8.317024230957031,
                    -7.853274822235107,
                    -4.602768898010254,
                    -1.3033232688903809,
                    -7.15532922744751,
                    -9.136545181274414,
                    -2.188720941543579,
                    -5.1698832511901855,
                    -7.522855758666992,
                    1.0439242124557495,
                    -16.108154296875,
                    -0.03254694119095802,
                    -3.070768356323242,
                    -1.2885801792144775,
                    1.9668179750442505,
                    -6.512759685516357,
                    -6.750190258026123,
                    8.510591506958008,
                    -0.6348941326141357,
                    -21.300363540649414,
                    -9.299237251281738,
                    9.421282768249512,
                    -8.502598762512207,
                    -2.4935176372528076,
                    -7.917799472808838,
                    2.5932600498199463,
                    -1.170674204826355,
                    -5.854176998138428,
                    -6.606668949127197,
                    -3.2094051837921143,
                    -10.675291061401367,
                    -10.031389236450195,
                    -7.327946662902832,
                    -7.358867168426514,
                    9.80855655670166,
                    1.902092695236206,
                    6.079470157623291,
                    3.9556877613067627,
                    -8.321745872497559,
                    12.93151569366455,
                    -1.2780452966690063,
                    9.239200592041016,
                    -7.249853610992432,
                    -1.872987985610962,
                    8.821191787719727,
                    -7.276524543762207,
                    0.6788696646690369,
                    0.21698065102100372,
                    0.4207339584827423,
                    -17.943559646606445,
                    -4.873601913452148,
                    -2.688403367996216,
                    -0.9797796010971069,
                    7.300809860229492,
                    -0.7436890602111816,
                    -3.7823197841644287,
                    2.1914079189300537,
                    -0.9184930920600891,
                    -1.00967538356781,
                    -2.2902932167053223,
                    -7.723413467407227,
                    5.161637306213379,
                    -9.137128829956055,
                    -7.647170543670654,
                    -6.9791388511657715,
                    10.168730735778809,
                    6.496945858001709,
                    -8.212849617004395,
                    -5.537549018859863,
                    -5.152459144592285,
                    -21.18992805480957,
                    -8.500893592834473,
                    -3.069065570831299,
                    -4.376379013061523,
                    10.522904396057129,
                    -2.2306416034698486,
                    -9.61049747467041,
                    -8.494441986083984,
                    -11.798351287841797,
                    -3.019479513168335,
                    -5.133223533630371,
                    9.1624116897583,
                    7.068577766418457,
                    -4.184671878814697,
                    -3.9317591190338135,
                    -9.779879570007324,
                    -0.5535517334938049,
                    4.986789703369141,
                    -7.509350776672363,
                    -19.233102798461914,
                    -1.5741503238677979,
                    -7.077836990356445,
                    0.2906745374202728,
                    -7.694088935852051,
                    -22.177837371826172,
                    -20.339847564697266,
                    -21.038164138793945,
                    -19.702829360961914,
                    -2.2807703018188477,
                    -7.289042949676514,
                    -10.06033992767334,
                    -19.884605407714844,
                    1.820321798324585,
                    -9.514815330505371,
                    -19.571165084838867,
                    -7.7023773193359375,
                    -0.9944949150085449,
                    -4.614319801330566,
                    6.5902509689331055,
                    -2.016418695449829,
                    13.29350757598877,
                    -8.906842231750488,
                    -4.675919055938721,
                    -3.569042444229126,
                    -18.483699798583984,
                    -9.943873405456543,
                    12.12597942352295,
                    -5.495049476623535,
                    8.731146812438965,
                    6.20979642868042,
                    0.6907041072845459,
                    7.108795642852783,
                    -1.2696051597595215,
                    -12.65070629119873,
                    -17.350378036499023,
                    -1.5967968702316284,
                    -4.209643840789795,
                    -20.66329002380371,
                    -9.528773307800293,
                    -6.584926605224609,
                    -1.9104876518249512,
                    -9.623559951782227,
                    -4.091452598571777,
                    9.862401962280273,
                    13.094756126403809,
                    4.58289098739624,
                    -1.928709626197815,
                    8.520281791687012,
                    -11.188725471496582,
                    -18.76944351196289,
                    -4.276440620422363,
                    -0.5724287033081055,
                    -8.19225788116455,
                    5.508453845977783,
                    -6.492805004119873,
                    -1.9508308172225952,
                    -1.6471407413482666,
                    6.277238368988037,
                    -8.89585018157959,
                    10.924471855163574,
                    -4.956372261047363,
                    8.484903335571289,
                    -5.451009273529053,
                    -4.986517429351807,
                    11.890181541442871,
                    -18.2907657623291,
                    -2.7408716678619385,
                    3.9712295532226562,
                    -4.482582092285156,
                    -20.75035858154297,
                    -9.482399940490723,
                    -3.343310832977295,
                    3.8538599014282227,
                    -2.737558603286743,
                    -1.0733163356781006,
                    -8.162568092346191,
                    -6.775025844573975,
                    8.790397644042969,
                    -1.3329648971557617,
                    6.104785442352295,
                    -0.7924961447715759,
                    -3.066556453704834,
                    -3.239492416381836,
                    -6.1044392585754395,
                    -3.801783323287964,
                    -11.731917381286621,
                    7.451904296875,
                    0.7380895018577576,
                    -8.663294792175293,
                    7.354408264160156,
                    -4.87864875793457,
                    -6.845335960388184,
                    2.3900489807128906,
                    -6.50029993057251,
                    -3.2896783351898193,
                    -3.721165180206299,
                    -18.75550651550293,
                    -8.106429100036621,
                    -18.935306549072266,
                    -3.4996960163116455,
                    -24.795991897583008,
                    6.302762508392334,
                    -0.2705190181732178,
                    0.05738409236073494,
                    -7.409147262573242,
                    7.39792537689209,
                    4.0314435958862305,
                    -7.345597267150879,
                    -5.264734268188477,
                    -1.649107813835144,
                    2.148267984390259,
                    -7.2820281982421875,
                    -12.767001152038574,
                    -5.294000148773193,
                    5.028348922729492,
                    5.968225479125977,
                    -12.042370796203613,
                    -13.159980773925781,
                    -5.142556190490723,
                    0.4602355659008026,
                    -4.051865577697754,
                    -5.467830657958984,
                    -21.861438751220703,
                    -3.7776389122009277,
                    -1.9584985971450806,
                    -12.317530632019043,
                    0.8457421064376831,
                    12.201790809631348,
                    12.388216972351074,
                    -0.4985819160938263,
                    -7.810164928436279,
                    -4.533825874328613,
                    -22.40355682373047,
                    -3.269846200942993,
                    -5.8309149742126465,
                    5.860599517822266,
                    -9.917065620422363,
                    0.6271146535873413,
                    4.8520121574401855,
                    -17.153654098510742,
                    -3.9987294673919678,
                    -12.443130493164062,
                    -1.3018611669540405,
                    11.400161743164062,
                    -8.641858100891113,
                    -2.877774715423584,
                    -22.635833740234375,
                    -0.22503751516342163,
                    -6.848470687866211,
                    -5.446664810180664,
                    9.21390438079834,
                    5.736932277679443,
                    -4.553613185882568,
                    -1.1437779664993286,
                    6.9976348876953125,
                    -2.9103987216949463,
                    12.3599853515625,
                    -3.8952858448028564,
                    0.22906509041786194,
                    10.081686973571777,
                    -17.9136962890625,
                    4.00080680847168,
                    -21.269073486328125,
                    5.6225972175598145,
                    6.907985210418701,
                    -17.464771270751953,
                    -1.8627437353134155,
                    -5.960208415985107,
                    -5.600650787353516,
                    4.847349643707275,
                    -5.610351085662842,
                    -4.2278666496276855,
                    -4.2794647216796875,
                    -19.818618774414062,
                    10.893516540527344,
                    -0.02768043614923954,
                    8.56623363494873,
                    -3.6856496334075928,
                    -5.434497833251953,
                    4.919747352600098,
                    1.3371127843856812,
                    -16.252460479736328,
                    -4.663861274719238,
                    3.3844192028045654,
                    12.602704048156738,
                    -5.611699104309082,
                    1.6392717361450195,
                    -8.297564506530762,
                    -3.089777946472168,
                    0.40640079975128174,
                    13.281445503234863,
                    -9.417877197265625,
                    -6.870718955993652,
                    3.2202138900756836,
                    -0.13415493071079254,
                    -1.196190357208252,
                    -9.312788009643555,
                    -4.4784016609191895,
                    1.379683256149292,
                    8.454568862915039,
                    -3.826260805130005,
                    -8.617936134338379,
                    -4.48906135559082,
                    6.865898609161377,
                    -1.7860925197601318,
                    -16.28867530822754,
                    -11.575145721435547,
                    -5.425338268280029,
                    2.9614405632019043
                  ],
                  "z": [
                    12.143210411071777,
                    24.206092834472656,
                    15.4105224609375,
                    19.183584213256836,
                    20.926225662231445,
                    15.947997093200684,
                    23.218244552612305,
                    22.08011817932129,
                    3.2471394538879395,
                    21.207685470581055,
                    17.7937068939209,
                    21.298681259155273,
                    7.508050918579102,
                    13.048397064208984,
                    16.966089248657227,
                    7.389606952667236,
                    12.255379676818848,
                    22.321096420288086,
                    23.18589973449707,
                    21.277088165283203,
                    13.081582069396973,
                    23.307355880737305,
                    20.066078186035156,
                    19.990867614746094,
                    11.641139030456543,
                    23.402002334594727,
                    19.504684448242188,
                    24.366975784301758,
                    22.41470718383789,
                    23.54149627685547,
                    14.595383644104004,
                    15.4766845703125,
                    20.029916763305664,
                    19.533958435058594,
                    19.493980407714844,
                    13.513720512390137,
                    14.829246520996094,
                    20.660614013671875,
                    21.66713523864746,
                    22.435819625854492,
                    11.00451946258545,
                    20.84981346130371,
                    18.120054244995117,
                    20.636756896972656,
                    17.743520736694336,
                    17.8630428314209,
                    14.82426929473877,
                    10.50632381439209,
                    20.758914947509766,
                    14.830831527709961,
                    9.94542121887207,
                    19.11798667907715,
                    18.881195068359375,
                    14.59262466430664,
                    8.831316947937012,
                    20.313316345214844,
                    15.644801139831543,
                    24.178701400756836,
                    17.31439781188965,
                    24.524524688720703,
                    22.38890266418457,
                    21.179079055786133,
                    24.094270706176758,
                    13.411213874816895,
                    26.427377700805664,
                    22.520915985107422,
                    13.892032623291016,
                    20.016773223876953,
                    22.107666015625,
                    22.172758102416992,
                    18.469768524169922,
                    17.783634185791016,
                    17.006107330322266,
                    15.263481140136719,
                    21.92605209350586,
                    9.621082305908203,
                    14.982617378234863,
                    9.174375534057617,
                    16.484777450561523,
                    18.662172317504883,
                    15.427022933959961,
                    17.213184356689453,
                    20.821327209472656,
                    18.706541061401367,
                    19.192119598388672,
                    18.304594039916992,
                    19.922706604003906,
                    18.77227020263672,
                    24.205780029296875,
                    13.986669540405273,
                    19.45208168029785,
                    16.464527130126953,
                    17.523963928222656,
                    16.55722999572754,
                    0.6946600675582886,
                    22.99352264404297,
                    15.771484375,
                    21.712766647338867,
                    10.014257431030273,
                    11.433897972106934,
                    12.493322372436523,
                    11.761645317077637,
                    10.474226951599121,
                    19.496997833251953,
                    22.135560989379883,
                    23.638599395751953,
                    9.100564002990723,
                    23.790443420410156,
                    23.76409149169922,
                    11.645214080810547,
                    24.71619987487793,
                    18.84015464782715,
                    13.638874053955078,
                    20.38720703125,
                    13.977057456970215,
                    17.457944869995117,
                    25.576324462890625,
                    12.286457061767578,
                    20.85931968688965,
                    9.51645565032959,
                    19.714540481567383,
                    20.569068908691406,
                    17.40870475769043,
                    19.280317306518555,
                    21.827665328979492,
                    17.98335075378418,
                    18.717817306518555,
                    23.84550666809082,
                    22.932064056396484,
                    9.07830810546875,
                    16.425167083740234,
                    14.4079008102417,
                    10.524658203125,
                    23.557626724243164,
                    9.19000244140625,
                    16.988786697387695,
                    21.817955017089844,
                    22.818954467773438,
                    16.734216690063477,
                    14.830828666687012,
                    19.62389373779297,
                    24.308826446533203,
                    22.163379669189453,
                    20.208633422851562,
                    7.565392971038818,
                    10.753458976745605,
                    22.56377410888672,
                    13.448811531066895,
                    16.976680755615234,
                    24.26984405517578,
                    9.27861499786377,
                    21.86760902404785,
                    19.32829475402832,
                    2.7936899662017822,
                    15.987654685974121,
                    17.060754776000977,
                    15.076878547668457,
                    26.705028533935547,
                    15.328218460083008,
                    17.999755859375,
                    11.019487380981445,
                    8.465153694152832,
                    14.533879280090332,
                    7.169487476348877,
                    12.628083229064941,
                    18.4503173828125,
                    16.691181182861328,
                    15.037209510803223,
                    14.484139442443848,
                    26.585132598876953,
                    16.606264114379883,
                    20.4050235748291,
                    17.248620986938477,
                    25.347232818603516,
                    15.094758987426758,
                    21.579408645629883,
                    22.51827621459961,
                    13.998738288879395,
                    21.728073120117188,
                    15.132370948791504,
                    18.93197250366211,
                    16.781600952148438,
                    17.039770126342773,
                    20.797855377197266,
                    13.579047203063965,
                    18.140161514282227,
                    21.731218338012695,
                    6.141782760620117,
                    24.422927856445312,
                    22.121543884277344,
                    20.586183547973633,
                    8.992660522460938,
                    21.59552764892578,
                    8.112159729003906,
                    8.476152420043945,
                    5.53558874130249,
                    15.536625862121582,
                    13.84869384765625,
                    13.6996488571167,
                    14.383671760559082,
                    16.10032081604004,
                    15.952432632446289,
                    10.198409080505371,
                    20.12399673461914,
                    14.361076354980469,
                    23.00444984436035,
                    15.835394859313965,
                    3.1142725944519043,
                    23.6257381439209,
                    9.48017692565918,
                    20.119346618652344,
                    2.4784111976623535,
                    20.42864990234375,
                    16.017589569091797,
                    16.30998992919922,
                    24.514554977416992,
                    21.174835205078125,
                    12.366422653198242,
                    23.06712532043457,
                    16.267688751220703,
                    21.565162658691406,
                    20.03000259399414,
                    18.615005493164062,
                    17.49999237060547,
                    23.217435836791992,
                    12.04118537902832,
                    19.600566864013672,
                    9.473445892333984,
                    18.049577713012695,
                    20.426008224487305,
                    13.555947303771973,
                    20.240808486938477,
                    21.189027786254883,
                    13.703393936157227,
                    8.332742691040039,
                    19.672828674316406,
                    21.710325241088867,
                    16.45316505432129,
                    20.435041427612305,
                    14.840024948120117,
                    15.52145767211914,
                    11.19912338256836,
                    17.750329971313477,
                    9.444132804870605,
                    17.526573181152344,
                    18.970497131347656,
                    17.88653564453125,
                    17.72972297668457,
                    19.037446975708008,
                    18.65414810180664,
                    23.914403915405273,
                    20.39212989807129,
                    18.804298400878906,
                    19.149471282958984,
                    21.741933822631836,
                    10.016522407531738,
                    14.18406867980957,
                    10.212651252746582,
                    12.954792976379395,
                    20.389310836791992,
                    8.982430458068848,
                    12.671073913574219,
                    7.896495819091797,
                    23.75478172302246,
                    18.944726943969727,
                    25.19658660888672,
                    20.936471939086914,
                    22.42402458190918,
                    10.825807571411133,
                    17.2524471282959,
                    15.673600196838379,
                    -17.684215545654297,
                    22.042490005493164,
                    12.765287399291992,
                    19.082202911376953,
                    16.414836883544922,
                    8.327418327331543,
                    18.65302085876465,
                    17.829116821289062,
                    19.71340560913086,
                    12.11259651184082,
                    21.052165985107422,
                    26.53305435180664,
                    12.529195785522461,
                    17.901033401489258,
                    16.008098602294922,
                    25.302824020385742,
                    12.529006004333496,
                    10.052938461303711,
                    17.936819076538086,
                    21.21706771850586,
                    22.211395263671875,
                    20.197731018066406,
                    16.00482749938965,
                    21.51169204711914,
                    26.027145385742188,
                    10.891799926757812,
                    14.10754108428955,
                    20.761333465576172,
                    9.292064666748047,
                    7.236078262329102,
                    20.468311309814453,
                    15.010512351989746,
                    15.943734169006348
                  ]
                }
              ],
              "layout": {
                "height": 800,
                "legend": {
                  "title": {
                    "text": "Cluster"
                  },
                  "tracegroupgap": 0
                },
                "scene": {
                  "domain": {
                    "x": [
                      0,
                      1
                    ],
                    "y": [
                      0,
                      1
                    ]
                  },
                  "xaxis": {
                    "title": {
                      "text": "0"
                    }
                  },
                  "yaxis": {
                    "title": {
                      "text": "1"
                    }
                  },
                  "zaxis": {
                    "title": {
                      "text": "2"
                    }
                  }
                },
                "template": {
                  "data": {
                    "bar": [
                      {
                        "error_x": {
                          "color": "#2a3f5f"
                        },
                        "error_y": {
                          "color": "#2a3f5f"
                        },
                        "marker": {
                          "line": {
                            "color": "#E5ECF6",
                            "width": 0.5
                          },
                          "pattern": {
                            "fillmode": "overlay",
                            "size": 10,
                            "solidity": 0.2
                          }
                        },
                        "type": "bar"
                      }
                    ],
                    "barpolar": [
                      {
                        "marker": {
                          "line": {
                            "color": "#E5ECF6",
                            "width": 0.5
                          },
                          "pattern": {
                            "fillmode": "overlay",
                            "size": 10,
                            "solidity": 0.2
                          }
                        },
                        "type": "barpolar"
                      }
                    ],
                    "carpet": [
                      {
                        "aaxis": {
                          "endlinecolor": "#2a3f5f",
                          "gridcolor": "white",
                          "linecolor": "white",
                          "minorgridcolor": "white",
                          "startlinecolor": "#2a3f5f"
                        },
                        "baxis": {
                          "endlinecolor": "#2a3f5f",
                          "gridcolor": "white",
                          "linecolor": "white",
                          "minorgridcolor": "white",
                          "startlinecolor": "#2a3f5f"
                        },
                        "type": "carpet"
                      }
                    ],
                    "choropleth": [
                      {
                        "colorbar": {
                          "outlinewidth": 0,
                          "ticks": ""
                        },
                        "type": "choropleth"
                      }
                    ],
                    "contour": [
                      {
                        "colorbar": {
                          "outlinewidth": 0,
                          "ticks": ""
                        },
                        "colorscale": [
                          [
                            0,
                            "#0d0887"
                          ],
                          [
                            0.1111111111111111,
                            "#46039f"
                          ],
                          [
                            0.2222222222222222,
                            "#7201a8"
                          ],
                          [
                            0.3333333333333333,
                            "#9c179e"
                          ],
                          [
                            0.4444444444444444,
                            "#bd3786"
                          ],
                          [
                            0.5555555555555556,
                            "#d8576b"
                          ],
                          [
                            0.6666666666666666,
                            "#ed7953"
                          ],
                          [
                            0.7777777777777778,
                            "#fb9f3a"
                          ],
                          [
                            0.8888888888888888,
                            "#fdca26"
                          ],
                          [
                            1,
                            "#f0f921"
                          ]
                        ],
                        "type": "contour"
                      }
                    ],
                    "contourcarpet": [
                      {
                        "colorbar": {
                          "outlinewidth": 0,
                          "ticks": ""
                        },
                        "type": "contourcarpet"
                      }
                    ],
                    "heatmap": [
                      {
                        "colorbar": {
                          "outlinewidth": 0,
                          "ticks": ""
                        },
                        "colorscale": [
                          [
                            0,
                            "#0d0887"
                          ],
                          [
                            0.1111111111111111,
                            "#46039f"
                          ],
                          [
                            0.2222222222222222,
                            "#7201a8"
                          ],
                          [
                            0.3333333333333333,
                            "#9c179e"
                          ],
                          [
                            0.4444444444444444,
                            "#bd3786"
                          ],
                          [
                            0.5555555555555556,
                            "#d8576b"
                          ],
                          [
                            0.6666666666666666,
                            "#ed7953"
                          ],
                          [
                            0.7777777777777778,
                            "#fb9f3a"
                          ],
                          [
                            0.8888888888888888,
                            "#fdca26"
                          ],
                          [
                            1,
                            "#f0f921"
                          ]
                        ],
                        "type": "heatmap"
                      }
                    ],
                    "heatmapgl": [
                      {
                        "colorbar": {
                          "outlinewidth": 0,
                          "ticks": ""
                        },
                        "colorscale": [
                          [
                            0,
                            "#0d0887"
                          ],
                          [
                            0.1111111111111111,
                            "#46039f"
                          ],
                          [
                            0.2222222222222222,
                            "#7201a8"
                          ],
                          [
                            0.3333333333333333,
                            "#9c179e"
                          ],
                          [
                            0.4444444444444444,
                            "#bd3786"
                          ],
                          [
                            0.5555555555555556,
                            "#d8576b"
                          ],
                          [
                            0.6666666666666666,
                            "#ed7953"
                          ],
                          [
                            0.7777777777777778,
                            "#fb9f3a"
                          ],
                          [
                            0.8888888888888888,
                            "#fdca26"
                          ],
                          [
                            1,
                            "#f0f921"
                          ]
                        ],
                        "type": "heatmapgl"
                      }
                    ],
                    "histogram": [
                      {
                        "marker": {
                          "pattern": {
                            "fillmode": "overlay",
                            "size": 10,
                            "solidity": 0.2
                          }
                        },
                        "type": "histogram"
                      }
                    ],
                    "histogram2d": [
                      {
                        "colorbar": {
                          "outlinewidth": 0,
                          "ticks": ""
                        },
                        "colorscale": [
                          [
                            0,
                            "#0d0887"
                          ],
                          [
                            0.1111111111111111,
                            "#46039f"
                          ],
                          [
                            0.2222222222222222,
                            "#7201a8"
                          ],
                          [
                            0.3333333333333333,
                            "#9c179e"
                          ],
                          [
                            0.4444444444444444,
                            "#bd3786"
                          ],
                          [
                            0.5555555555555556,
                            "#d8576b"
                          ],
                          [
                            0.6666666666666666,
                            "#ed7953"
                          ],
                          [
                            0.7777777777777778,
                            "#fb9f3a"
                          ],
                          [
                            0.8888888888888888,
                            "#fdca26"
                          ],
                          [
                            1,
                            "#f0f921"
                          ]
                        ],
                        "type": "histogram2d"
                      }
                    ],
                    "histogram2dcontour": [
                      {
                        "colorbar": {
                          "outlinewidth": 0,
                          "ticks": ""
                        },
                        "colorscale": [
                          [
                            0,
                            "#0d0887"
                          ],
                          [
                            0.1111111111111111,
                            "#46039f"
                          ],
                          [
                            0.2222222222222222,
                            "#7201a8"
                          ],
                          [
                            0.3333333333333333,
                            "#9c179e"
                          ],
                          [
                            0.4444444444444444,
                            "#bd3786"
                          ],
                          [
                            0.5555555555555556,
                            "#d8576b"
                          ],
                          [
                            0.6666666666666666,
                            "#ed7953"
                          ],
                          [
                            0.7777777777777778,
                            "#fb9f3a"
                          ],
                          [
                            0.8888888888888888,
                            "#fdca26"
                          ],
                          [
                            1,
                            "#f0f921"
                          ]
                        ],
                        "type": "histogram2dcontour"
                      }
                    ],
                    "mesh3d": [
                      {
                        "colorbar": {
                          "outlinewidth": 0,
                          "ticks": ""
                        },
                        "type": "mesh3d"
                      }
                    ],
                    "parcoords": [
                      {
                        "line": {
                          "colorbar": {
                            "outlinewidth": 0,
                            "ticks": ""
                          }
                        },
                        "type": "parcoords"
                      }
                    ],
                    "pie": [
                      {
                        "automargin": true,
                        "type": "pie"
                      }
                    ],
                    "scatter": [
                      {
                        "marker": {
                          "colorbar": {
                            "outlinewidth": 0,
                            "ticks": ""
                          }
                        },
                        "type": "scatter"
                      }
                    ],
                    "scatter3d": [
                      {
                        "line": {
                          "colorbar": {
                            "outlinewidth": 0,
                            "ticks": ""
                          }
                        },
                        "marker": {
                          "colorbar": {
                            "outlinewidth": 0,
                            "ticks": ""
                          }
                        },
                        "type": "scatter3d"
                      }
                    ],
                    "scattercarpet": [
                      {
                        "marker": {
                          "colorbar": {
                            "outlinewidth": 0,
                            "ticks": ""
                          }
                        },
                        "type": "scattercarpet"
                      }
                    ],
                    "scattergeo": [
                      {
                        "marker": {
                          "colorbar": {
                            "outlinewidth": 0,
                            "ticks": ""
                          }
                        },
                        "type": "scattergeo"
                      }
                    ],
                    "scattergl": [
                      {
                        "marker": {
                          "colorbar": {
                            "outlinewidth": 0,
                            "ticks": ""
                          }
                        },
                        "type": "scattergl"
                      }
                    ],
                    "scattermapbox": [
                      {
                        "marker": {
                          "colorbar": {
                            "outlinewidth": 0,
                            "ticks": ""
                          }
                        },
                        "type": "scattermapbox"
                      }
                    ],
                    "scatterpolar": [
                      {
                        "marker": {
                          "colorbar": {
                            "outlinewidth": 0,
                            "ticks": ""
                          }
                        },
                        "type": "scatterpolar"
                      }
                    ],
                    "scatterpolargl": [
                      {
                        "marker": {
                          "colorbar": {
                            "outlinewidth": 0,
                            "ticks": ""
                          }
                        },
                        "type": "scatterpolargl"
                      }
                    ],
                    "scatterternary": [
                      {
                        "marker": {
                          "colorbar": {
                            "outlinewidth": 0,
                            "ticks": ""
                          }
                        },
                        "type": "scatterternary"
                      }
                    ],
                    "surface": [
                      {
                        "colorbar": {
                          "outlinewidth": 0,
                          "ticks": ""
                        },
                        "colorscale": [
                          [
                            0,
                            "#0d0887"
                          ],
                          [
                            0.1111111111111111,
                            "#46039f"
                          ],
                          [
                            0.2222222222222222,
                            "#7201a8"
                          ],
                          [
                            0.3333333333333333,
                            "#9c179e"
                          ],
                          [
                            0.4444444444444444,
                            "#bd3786"
                          ],
                          [
                            0.5555555555555556,
                            "#d8576b"
                          ],
                          [
                            0.6666666666666666,
                            "#ed7953"
                          ],
                          [
                            0.7777777777777778,
                            "#fb9f3a"
                          ],
                          [
                            0.8888888888888888,
                            "#fdca26"
                          ],
                          [
                            1,
                            "#f0f921"
                          ]
                        ],
                        "type": "surface"
                      }
                    ],
                    "table": [
                      {
                        "cells": {
                          "fill": {
                            "color": "#EBF0F8"
                          },
                          "line": {
                            "color": "white"
                          }
                        },
                        "header": {
                          "fill": {
                            "color": "#C8D4E3"
                          },
                          "line": {
                            "color": "white"
                          }
                        },
                        "type": "table"
                      }
                    ]
                  },
                  "layout": {
                    "annotationdefaults": {
                      "arrowcolor": "#2a3f5f",
                      "arrowhead": 0,
                      "arrowwidth": 1
                    },
                    "autotypenumbers": "strict",
                    "coloraxis": {
                      "colorbar": {
                        "outlinewidth": 0,
                        "ticks": ""
                      }
                    },
                    "colorscale": {
                      "diverging": [
                        [
                          0,
                          "#8e0152"
                        ],
                        [
                          0.1,
                          "#c51b7d"
                        ],
                        [
                          0.2,
                          "#de77ae"
                        ],
                        [
                          0.3,
                          "#f1b6da"
                        ],
                        [
                          0.4,
                          "#fde0ef"
                        ],
                        [
                          0.5,
                          "#f7f7f7"
                        ],
                        [
                          0.6,
                          "#e6f5d0"
                        ],
                        [
                          0.7,
                          "#b8e186"
                        ],
                        [
                          0.8,
                          "#7fbc41"
                        ],
                        [
                          0.9,
                          "#4d9221"
                        ],
                        [
                          1,
                          "#276419"
                        ]
                      ],
                      "sequential": [
                        [
                          0,
                          "#0d0887"
                        ],
                        [
                          0.1111111111111111,
                          "#46039f"
                        ],
                        [
                          0.2222222222222222,
                          "#7201a8"
                        ],
                        [
                          0.3333333333333333,
                          "#9c179e"
                        ],
                        [
                          0.4444444444444444,
                          "#bd3786"
                        ],
                        [
                          0.5555555555555556,
                          "#d8576b"
                        ],
                        [
                          0.6666666666666666,
                          "#ed7953"
                        ],
                        [
                          0.7777777777777778,
                          "#fb9f3a"
                        ],
                        [
                          0.8888888888888888,
                          "#fdca26"
                        ],
                        [
                          1,
                          "#f0f921"
                        ]
                      ],
                      "sequentialminus": [
                        [
                          0,
                          "#0d0887"
                        ],
                        [
                          0.1111111111111111,
                          "#46039f"
                        ],
                        [
                          0.2222222222222222,
                          "#7201a8"
                        ],
                        [
                          0.3333333333333333,
                          "#9c179e"
                        ],
                        [
                          0.4444444444444444,
                          "#bd3786"
                        ],
                        [
                          0.5555555555555556,
                          "#d8576b"
                        ],
                        [
                          0.6666666666666666,
                          "#ed7953"
                        ],
                        [
                          0.7777777777777778,
                          "#fb9f3a"
                        ],
                        [
                          0.8888888888888888,
                          "#fdca26"
                        ],
                        [
                          1,
                          "#f0f921"
                        ]
                      ]
                    },
                    "colorway": [
                      "#636efa",
                      "#EF553B",
                      "#00cc96",
                      "#ab63fa",
                      "#FFA15A",
                      "#19d3f3",
                      "#FF6692",
                      "#B6E880",
                      "#FF97FF",
                      "#FECB52"
                    ],
                    "font": {
                      "color": "#2a3f5f"
                    },
                    "geo": {
                      "bgcolor": "white",
                      "lakecolor": "white",
                      "landcolor": "#E5ECF6",
                      "showlakes": true,
                      "showland": true,
                      "subunitcolor": "white"
                    },
                    "hoverlabel": {
                      "align": "left"
                    },
                    "hovermode": "closest",
                    "mapbox": {
                      "style": "light"
                    },
                    "paper_bgcolor": "white",
                    "plot_bgcolor": "#E5ECF6",
                    "polar": {
                      "angularaxis": {
                        "gridcolor": "white",
                        "linecolor": "white",
                        "ticks": ""
                      },
                      "bgcolor": "#E5ECF6",
                      "radialaxis": {
                        "gridcolor": "white",
                        "linecolor": "white",
                        "ticks": ""
                      }
                    },
                    "scene": {
                      "xaxis": {
                        "backgroundcolor": "#E5ECF6",
                        "gridcolor": "white",
                        "gridwidth": 2,
                        "linecolor": "white",
                        "showbackground": true,
                        "ticks": "",
                        "zerolinecolor": "white"
                      },
                      "yaxis": {
                        "backgroundcolor": "#E5ECF6",
                        "gridcolor": "white",
                        "gridwidth": 2,
                        "linecolor": "white",
                        "showbackground": true,
                        "ticks": "",
                        "zerolinecolor": "white"
                      },
                      "zaxis": {
                        "backgroundcolor": "#E5ECF6",
                        "gridcolor": "white",
                        "gridwidth": 2,
                        "linecolor": "white",
                        "showbackground": true,
                        "ticks": "",
                        "zerolinecolor": "white"
                      }
                    },
                    "shapedefaults": {
                      "line": {
                        "color": "#2a3f5f"
                      }
                    },
                    "ternary": {
                      "aaxis": {
                        "gridcolor": "white",
                        "linecolor": "white",
                        "ticks": ""
                      },
                      "baxis": {
                        "gridcolor": "white",
                        "linecolor": "white",
                        "ticks": ""
                      },
                      "bgcolor": "#E5ECF6",
                      "caxis": {
                        "gridcolor": "white",
                        "linecolor": "white",
                        "ticks": ""
                      }
                    },
                    "title": {
                      "x": 0.05
                    },
                    "xaxis": {
                      "automargin": true,
                      "gridcolor": "white",
                      "linecolor": "white",
                      "ticks": "",
                      "title": {
                        "standoff": 15
                      },
                      "zerolinecolor": "white",
                      "zerolinewidth": 2
                    },
                    "yaxis": {
                      "automargin": true,
                      "gridcolor": "white",
                      "linecolor": "white",
                      "ticks": "",
                      "title": {
                        "standoff": 15
                      },
                      "zerolinecolor": "white",
                      "zerolinewidth": 2
                    }
                  }
                },
                "title": {
                  "text": "3d TSNE Plot for Clusters"
                },
                "width": 900
              }
            }
          },
          "metadata": {}
        }
      ],
      "metadata": {}
    }
  ]
}